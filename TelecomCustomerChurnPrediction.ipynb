{
 "cells": [
  {
   "cell_type": "markdown",
   "metadata": {},
   "source": [
    "## Модель прогнозирования оттока клиентов"
   ]
  },
  {
   "cell_type": "markdown",
   "metadata": {},
   "source": [
    "Необходимо построить модель прогнозирования оттока клиентов по имеющимся признакам (колонка churn в файле – целевая переменная), кратко описать методику подготовки данных, построения модели и оценки её качества. Желательно провести анализ полученных результатов и оценить практическую применимость модели.\n",
    "Результат может быть представлен, например, в виде jupyter-ноутбука с кодом. Данные находятся по ссылке: https://opendatascience.slack.com/files/U710D2PPX/FK3DFV538/telco-customer-churn.csv"
   ]
  },
  {
   "cell_type": "code",
   "execution_count": 69,
   "metadata": {},
   "outputs": [
    {
     "data": {
      "text/html": [
       "        <script type=\"text/javascript\">\n",
       "        window.PlotlyConfig = {MathJaxConfig: 'local'};\n",
       "        if (window.MathJax) {MathJax.Hub.Config({SVG: {font: \"STIX-Web\"}});}\n",
       "        if (typeof require !== 'undefined') {\n",
       "        require.undef(\"plotly\");\n",
       "        requirejs.config({\n",
       "            paths: {\n",
       "                'plotly': ['https://cdn.plot.ly/plotly-latest.min']\n",
       "            }\n",
       "        });\n",
       "        require(['plotly'], function(Plotly) {\n",
       "            window._Plotly = Plotly;\n",
       "        });\n",
       "        }\n",
       "        </script>\n",
       "        "
      ]
     },
     "metadata": {},
     "output_type": "display_data"
    },
    {
     "data": {
      "text/html": [
       "        <script type=\"text/javascript\">\n",
       "        window.PlotlyConfig = {MathJaxConfig: 'local'};\n",
       "        if (window.MathJax) {MathJax.Hub.Config({SVG: {font: \"STIX-Web\"}});}\n",
       "        if (typeof require !== 'undefined') {\n",
       "        require.undef(\"plotly\");\n",
       "        requirejs.config({\n",
       "            paths: {\n",
       "                'plotly': ['https://cdn.plot.ly/plotly-latest.min']\n",
       "            }\n",
       "        });\n",
       "        require(['plotly'], function(Plotly) {\n",
       "            window._Plotly = Plotly;\n",
       "        });\n",
       "        }\n",
       "        </script>\n",
       "        "
      ]
     },
     "metadata": {},
     "output_type": "display_data"
    }
   ],
   "source": [
    "import pandas as pd\n",
    "import matplotlib.pyplot as plt\n",
    "import seaborn as sns\n",
    "import numpy as np\n",
    "from sklearn.preprocessing import StandardScaler \n",
    "from sklearn.model_selection import cross_val_score, StratifiedKFold, KFold, train_test_split, GridSearchCV\n",
    "\n",
    "from sklearn.tree import DecisionTreeClassifier \n",
    "from sklearn.svm import SVC\n",
    "from sklearn.ensemble import AdaBoostClassifier,BaggingClassifier,GradientBoostingClassifier,RandomForestClassifier\n",
    "from sklearn.neighbors import KNeighborsClassifier\n",
    "from sklearn.linear_model import RidgeClassifier,LogisticRegression \n",
    "from sklearn.metrics import accuracy_score,classification, confusion_matrix,classification_report,precision_score, recall_score\n",
    "import eli5\n",
    "import plotly.offline as py#visualization\n",
    "py.init_notebook_mode(connected=True)#visualization\n",
    "import plotly.graph_objs as go#visualization\n",
    "from plotly.offline import download_plotlyjs, init_notebook_mode, plot, iplot\n",
    "import plotly\n",
    "init_notebook_mode(connected=True)\n",
    "from IPython.display import Image\n",
    "\n",
    "from xgboost import XGBClassifier\n",
    "from lightgbm import LGBMClassifier\n",
    "# from sklearn import cr"
   ]
  },
  {
   "cell_type": "code",
   "execution_count": 2,
   "metadata": {},
   "outputs": [],
   "source": [
    "import sys\n",
    "import warnings\n",
    "\n",
    "if not sys.warnoptions:\n",
    "    warnings.simplefilter(\"ignore\")"
   ]
  },
  {
   "cell_type": "code",
   "execution_count": 3,
   "metadata": {},
   "outputs": [],
   "source": [
    "df = pd.read_csv('data/telco-customer-churn.csv')"
   ]
  },
  {
   "cell_type": "code",
   "execution_count": 4,
   "metadata": {},
   "outputs": [],
   "source": [
    "df = df.drop_duplicates(subset=df.columns)"
   ]
  },
  {
   "cell_type": "code",
   "execution_count": 5,
   "metadata": {},
   "outputs": [
    {
     "data": {
      "text/html": [
       "<div>\n",
       "<style scoped>\n",
       "    .dataframe tbody tr th:only-of-type {\n",
       "        vertical-align: middle;\n",
       "    }\n",
       "\n",
       "    .dataframe tbody tr th {\n",
       "        vertical-align: top;\n",
       "    }\n",
       "\n",
       "    .dataframe thead th {\n",
       "        text-align: right;\n",
       "    }\n",
       "</style>\n",
       "<table border=\"1\" class=\"dataframe\">\n",
       "  <thead>\n",
       "    <tr style=\"text-align: right;\">\n",
       "      <th></th>\n",
       "      <th>age</th>\n",
       "      <th>annualincome</th>\n",
       "      <th>calldroprate</th>\n",
       "      <th>callfailurerate</th>\n",
       "      <th>callingnum</th>\n",
       "      <th>customerid</th>\n",
       "      <th>customersuspended</th>\n",
       "      <th>education</th>\n",
       "      <th>gender</th>\n",
       "      <th>homeowner</th>\n",
       "      <th>...</th>\n",
       "      <th>totalminsusedinlastmonth</th>\n",
       "      <th>unpaidbalance</th>\n",
       "      <th>usesinternetservice</th>\n",
       "      <th>usesvoiceservice</th>\n",
       "      <th>percentagecalloutsidenetwork</th>\n",
       "      <th>totalcallduration</th>\n",
       "      <th>avgcallduration</th>\n",
       "      <th>churn</th>\n",
       "      <th>year</th>\n",
       "      <th>month</th>\n",
       "    </tr>\n",
       "  </thead>\n",
       "  <tbody>\n",
       "    <tr>\n",
       "      <th>0</th>\n",
       "      <td>12</td>\n",
       "      <td>168147</td>\n",
       "      <td>0.06</td>\n",
       "      <td>0.0</td>\n",
       "      <td>4251078442</td>\n",
       "      <td>1</td>\n",
       "      <td>Yes</td>\n",
       "      <td>Bachelor or equivalent</td>\n",
       "      <td>Male</td>\n",
       "      <td>Yes</td>\n",
       "      <td>...</td>\n",
       "      <td>15</td>\n",
       "      <td>19</td>\n",
       "      <td>No</td>\n",
       "      <td>No</td>\n",
       "      <td>0.82</td>\n",
       "      <td>5971</td>\n",
       "      <td>663</td>\n",
       "      <td>0</td>\n",
       "      <td>2015</td>\n",
       "      <td>1</td>\n",
       "    </tr>\n",
       "    <tr>\n",
       "      <th>1</th>\n",
       "      <td>12</td>\n",
       "      <td>168147</td>\n",
       "      <td>0.06</td>\n",
       "      <td>0.0</td>\n",
       "      <td>4251078442</td>\n",
       "      <td>1</td>\n",
       "      <td>Yes</td>\n",
       "      <td>Bachelor or equivalent</td>\n",
       "      <td>Male</td>\n",
       "      <td>Yes</td>\n",
       "      <td>...</td>\n",
       "      <td>15</td>\n",
       "      <td>19</td>\n",
       "      <td>No</td>\n",
       "      <td>No</td>\n",
       "      <td>0.82</td>\n",
       "      <td>3981</td>\n",
       "      <td>995</td>\n",
       "      <td>0</td>\n",
       "      <td>2015</td>\n",
       "      <td>2</td>\n",
       "    </tr>\n",
       "  </tbody>\n",
       "</table>\n",
       "<p>2 rows × 29 columns</p>\n",
       "</div>"
      ],
      "text/plain": [
       "   age  annualincome  calldroprate  callfailurerate  callingnum  customerid  \\\n",
       "0   12        168147          0.06              0.0  4251078442           1   \n",
       "1   12        168147          0.06              0.0  4251078442           1   \n",
       "\n",
       "  customersuspended               education gender homeowner  ...  \\\n",
       "0               Yes  Bachelor or equivalent   Male       Yes  ...   \n",
       "1               Yes  Bachelor or equivalent   Male       Yes  ...   \n",
       "\n",
       "  totalminsusedinlastmonth  unpaidbalance usesinternetservice  \\\n",
       "0                       15             19                  No   \n",
       "1                       15             19                  No   \n",
       "\n",
       "   usesvoiceservice  percentagecalloutsidenetwork  totalcallduration  \\\n",
       "0                No                          0.82               5971   \n",
       "1                No                          0.82               3981   \n",
       "\n",
       "  avgcallduration  churn  year  month  \n",
       "0             663      0  2015      1  \n",
       "1             995      0  2015      2  \n",
       "\n",
       "[2 rows x 29 columns]"
      ]
     },
     "execution_count": 5,
     "metadata": {},
     "output_type": "execute_result"
    }
   ],
   "source": [
    "df[(df.customerid == 1)]"
   ]
  },
  {
   "cell_type": "code",
   "execution_count": 6,
   "metadata": {},
   "outputs": [
    {
     "data": {
      "text/plain": [
       "(20468, 29)"
      ]
     },
     "execution_count": 6,
     "metadata": {},
     "output_type": "execute_result"
    }
   ],
   "source": [
    "df.shape"
   ]
  },
  {
   "cell_type": "code",
   "execution_count": 7,
   "metadata": {},
   "outputs": [
    {
     "data": {
      "text/html": [
       "<div>\n",
       "<style scoped>\n",
       "    .dataframe tbody tr th:only-of-type {\n",
       "        vertical-align: middle;\n",
       "    }\n",
       "\n",
       "    .dataframe tbody tr th {\n",
       "        vertical-align: top;\n",
       "    }\n",
       "\n",
       "    .dataframe thead th {\n",
       "        text-align: right;\n",
       "    }\n",
       "</style>\n",
       "<table border=\"1\" class=\"dataframe\">\n",
       "  <thead>\n",
       "    <tr style=\"text-align: right;\">\n",
       "      <th></th>\n",
       "      <th>age</th>\n",
       "      <th>annualincome</th>\n",
       "      <th>calldroprate</th>\n",
       "      <th>callfailurerate</th>\n",
       "      <th>callingnum</th>\n",
       "      <th>customerid</th>\n",
       "      <th>customersuspended</th>\n",
       "      <th>education</th>\n",
       "      <th>gender</th>\n",
       "      <th>homeowner</th>\n",
       "      <th>...</th>\n",
       "      <th>totalminsusedinlastmonth</th>\n",
       "      <th>unpaidbalance</th>\n",
       "      <th>usesinternetservice</th>\n",
       "      <th>usesvoiceservice</th>\n",
       "      <th>percentagecalloutsidenetwork</th>\n",
       "      <th>totalcallduration</th>\n",
       "      <th>avgcallduration</th>\n",
       "      <th>churn</th>\n",
       "      <th>year</th>\n",
       "      <th>month</th>\n",
       "    </tr>\n",
       "  </thead>\n",
       "  <tbody>\n",
       "    <tr>\n",
       "      <th>0</th>\n",
       "      <td>12</td>\n",
       "      <td>168147</td>\n",
       "      <td>0.06</td>\n",
       "      <td>0.00</td>\n",
       "      <td>4251078442</td>\n",
       "      <td>1</td>\n",
       "      <td>Yes</td>\n",
       "      <td>Bachelor or equivalent</td>\n",
       "      <td>Male</td>\n",
       "      <td>Yes</td>\n",
       "      <td>...</td>\n",
       "      <td>15</td>\n",
       "      <td>19</td>\n",
       "      <td>No</td>\n",
       "      <td>No</td>\n",
       "      <td>0.82</td>\n",
       "      <td>5971</td>\n",
       "      <td>663</td>\n",
       "      <td>0</td>\n",
       "      <td>2015</td>\n",
       "      <td>1</td>\n",
       "    </tr>\n",
       "    <tr>\n",
       "      <th>1</th>\n",
       "      <td>12</td>\n",
       "      <td>168147</td>\n",
       "      <td>0.06</td>\n",
       "      <td>0.00</td>\n",
       "      <td>4251078442</td>\n",
       "      <td>1</td>\n",
       "      <td>Yes</td>\n",
       "      <td>Bachelor or equivalent</td>\n",
       "      <td>Male</td>\n",
       "      <td>Yes</td>\n",
       "      <td>...</td>\n",
       "      <td>15</td>\n",
       "      <td>19</td>\n",
       "      <td>No</td>\n",
       "      <td>No</td>\n",
       "      <td>0.82</td>\n",
       "      <td>3981</td>\n",
       "      <td>995</td>\n",
       "      <td>0</td>\n",
       "      <td>2015</td>\n",
       "      <td>2</td>\n",
       "    </tr>\n",
       "    <tr>\n",
       "      <th>2</th>\n",
       "      <td>42</td>\n",
       "      <td>29047</td>\n",
       "      <td>0.05</td>\n",
       "      <td>0.01</td>\n",
       "      <td>4251043419</td>\n",
       "      <td>2</td>\n",
       "      <td>Yes</td>\n",
       "      <td>Bachelor or equivalent</td>\n",
       "      <td>Female</td>\n",
       "      <td>Yes</td>\n",
       "      <td>...</td>\n",
       "      <td>212</td>\n",
       "      <td>34</td>\n",
       "      <td>No</td>\n",
       "      <td>Yes</td>\n",
       "      <td>0.27</td>\n",
       "      <td>7379</td>\n",
       "      <td>737</td>\n",
       "      <td>0</td>\n",
       "      <td>2015</td>\n",
       "      <td>1</td>\n",
       "    </tr>\n",
       "    <tr>\n",
       "      <th>3</th>\n",
       "      <td>42</td>\n",
       "      <td>29047</td>\n",
       "      <td>0.05</td>\n",
       "      <td>0.01</td>\n",
       "      <td>4251043419</td>\n",
       "      <td>2</td>\n",
       "      <td>Yes</td>\n",
       "      <td>Bachelor or equivalent</td>\n",
       "      <td>Female</td>\n",
       "      <td>Yes</td>\n",
       "      <td>...</td>\n",
       "      <td>212</td>\n",
       "      <td>34</td>\n",
       "      <td>No</td>\n",
       "      <td>Yes</td>\n",
       "      <td>0.27</td>\n",
       "      <td>1729</td>\n",
       "      <td>432</td>\n",
       "      <td>0</td>\n",
       "      <td>2015</td>\n",
       "      <td>2</td>\n",
       "    </tr>\n",
       "    <tr>\n",
       "      <th>4</th>\n",
       "      <td>58</td>\n",
       "      <td>27076</td>\n",
       "      <td>0.07</td>\n",
       "      <td>0.02</td>\n",
       "      <td>4251055773</td>\n",
       "      <td>3</td>\n",
       "      <td>Yes</td>\n",
       "      <td>Master or equivalent</td>\n",
       "      <td>Female</td>\n",
       "      <td>Yes</td>\n",
       "      <td>...</td>\n",
       "      <td>216</td>\n",
       "      <td>144</td>\n",
       "      <td>No</td>\n",
       "      <td>No</td>\n",
       "      <td>0.48</td>\n",
       "      <td>3122</td>\n",
       "      <td>624</td>\n",
       "      <td>0</td>\n",
       "      <td>2015</td>\n",
       "      <td>1</td>\n",
       "    </tr>\n",
       "  </tbody>\n",
       "</table>\n",
       "<p>5 rows × 29 columns</p>\n",
       "</div>"
      ],
      "text/plain": [
       "   age  annualincome  calldroprate  callfailurerate  callingnum  customerid  \\\n",
       "0   12        168147          0.06             0.00  4251078442           1   \n",
       "1   12        168147          0.06             0.00  4251078442           1   \n",
       "2   42         29047          0.05             0.01  4251043419           2   \n",
       "3   42         29047          0.05             0.01  4251043419           2   \n",
       "4   58         27076          0.07             0.02  4251055773           3   \n",
       "\n",
       "  customersuspended               education  gender homeowner  ...  \\\n",
       "0               Yes  Bachelor or equivalent    Male       Yes  ...   \n",
       "1               Yes  Bachelor or equivalent    Male       Yes  ...   \n",
       "2               Yes  Bachelor or equivalent  Female       Yes  ...   \n",
       "3               Yes  Bachelor or equivalent  Female       Yes  ...   \n",
       "4               Yes    Master or equivalent  Female       Yes  ...   \n",
       "\n",
       "  totalminsusedinlastmonth  unpaidbalance usesinternetservice  \\\n",
       "0                       15             19                  No   \n",
       "1                       15             19                  No   \n",
       "2                      212             34                  No   \n",
       "3                      212             34                  No   \n",
       "4                      216            144                  No   \n",
       "\n",
       "   usesvoiceservice  percentagecalloutsidenetwork  totalcallduration  \\\n",
       "0                No                          0.82               5971   \n",
       "1                No                          0.82               3981   \n",
       "2               Yes                          0.27               7379   \n",
       "3               Yes                          0.27               1729   \n",
       "4                No                          0.48               3122   \n",
       "\n",
       "  avgcallduration  churn  year  month  \n",
       "0             663      0  2015      1  \n",
       "1             995      0  2015      2  \n",
       "2             737      0  2015      1  \n",
       "3             432      0  2015      2  \n",
       "4             624      0  2015      1  \n",
       "\n",
       "[5 rows x 29 columns]"
      ]
     },
     "execution_count": 7,
     "metadata": {},
     "output_type": "execute_result"
    }
   ],
   "source": [
    "df.head()"
   ]
  },
  {
   "cell_type": "code",
   "execution_count": 8,
   "metadata": {},
   "outputs": [
    {
     "data": {
      "text/plain": [
       "1.0"
      ]
     },
     "execution_count": 8,
     "metadata": {},
     "output_type": "execute_result"
    }
   ],
   "source": [
    "df.iloc[0]['callingnum'] / df.iloc[0]['callingnum']"
   ]
  },
  {
   "cell_type": "code",
   "execution_count": 9,
   "metadata": {},
   "outputs": [
    {
     "name": "stdout",
     "output_type": "stream",
     "text": [
      "<class 'pandas.core.frame.DataFrame'>\n",
      "Int64Index: 20468 entries, 0 to 20467\n",
      "Data columns (total 29 columns):\n",
      "age                                     20468 non-null int64\n",
      "annualincome                            20468 non-null int64\n",
      "calldroprate                            20468 non-null float64\n",
      "callfailurerate                         20468 non-null float64\n",
      "callingnum                              20468 non-null int64\n",
      "customerid                              20468 non-null int64\n",
      "customersuspended                       20468 non-null object\n",
      "education                               20468 non-null object\n",
      "gender                                  20468 non-null object\n",
      "homeowner                               20468 non-null object\n",
      "maritalstatus                           20468 non-null object\n",
      "monthlybilledamount                     20468 non-null int64\n",
      "noadditionallines                       20468 non-null object\n",
      "numberofcomplaints                      20468 non-null int64\n",
      "numberofmonthunpaid                     20468 non-null int64\n",
      "numdayscontractequipmentplanexpiring    20468 non-null int64\n",
      "occupation                              20468 non-null object\n",
      "penaltytoswitch                         20468 non-null int64\n",
      "state                                   20468 non-null object\n",
      "totalminsusedinlastmonth                20468 non-null int64\n",
      "unpaidbalance                           20468 non-null int64\n",
      "usesinternetservice                     20468 non-null object\n",
      "usesvoiceservice                        20468 non-null object\n",
      "percentagecalloutsidenetwork            20468 non-null float64\n",
      "totalcallduration                       20468 non-null int64\n",
      "avgcallduration                         20468 non-null int64\n",
      "churn                                   20468 non-null int64\n",
      "year                                    20468 non-null int64\n",
      "month                                   20468 non-null int64\n",
      "dtypes: float64(3), int64(16), object(10)\n",
      "memory usage: 4.7+ MB\n"
     ]
    }
   ],
   "source": [
    "df.info()"
   ]
  },
  {
   "cell_type": "code",
   "execution_count": 10,
   "metadata": {},
   "outputs": [
    {
     "name": "stdout",
     "output_type": "stream",
     "text": [
      "\n",
      "Features : \n",
      " ['age', 'annualincome', 'calldroprate', 'callfailurerate', 'callingnum', 'customerid', 'customersuspended', 'education', 'gender', 'homeowner', 'maritalstatus', 'monthlybilledamount', 'noadditionallines', 'numberofcomplaints', 'numberofmonthunpaid', 'numdayscontractequipmentplanexpiring', 'occupation', 'penaltytoswitch', 'state', 'totalminsusedinlastmonth', 'unpaidbalance', 'usesinternetservice', 'usesvoiceservice', 'percentagecalloutsidenetwork', 'totalcallduration', 'avgcallduration', 'churn', 'year', 'month']\n",
      "\n",
      "Missing values :   0\n",
      "\n",
      "Unique values :  \n",
      " age                                       68\n",
      "annualincome                            9508\n",
      "calldroprate                               8\n",
      "callfailurerate                            4\n",
      "callingnum                              9525\n",
      "customerid                              9525\n",
      "customersuspended                          2\n",
      "education                                  4\n",
      "gender                                     2\n",
      "homeowner                                  2\n",
      "maritalstatus                              2\n",
      "monthlybilledamount                      120\n",
      "noadditionallines                          1\n",
      "numberofcomplaints                         4\n",
      "numberofmonthunpaid                        8\n",
      "numdayscontractequipmentplanexpiring     100\n",
      "occupation                                 3\n",
      "penaltytoswitch                          500\n",
      "state                                     50\n",
      "totalminsusedinlastmonth                 500\n",
      "unpaidbalance                            250\n",
      "usesinternetservice                        2\n",
      "usesvoiceservice                           2\n",
      "percentagecalloutsidenetwork             100\n",
      "totalcallduration                       7147\n",
      "avgcallduration                         1359\n",
      "churn                                      2\n",
      "year                                       1\n",
      "month                                      3\n",
      "dtype: int64\n"
     ]
    }
   ],
   "source": [
    "print (\"\\nFeatures : \\n\" ,df.columns.tolist())\n",
    "print (\"\\nMissing values :  \", df.isnull().sum().values.sum())\n",
    "print (\"\\nUnique values :  \\n\",df.nunique())"
   ]
  },
  {
   "cell_type": "code",
   "execution_count": 11,
   "metadata": {},
   "outputs": [
    {
     "data": {
      "text/plain": [
       "<matplotlib.axes._subplots.AxesSubplot at 0x7feb099079b0>"
      ]
     },
     "execution_count": 11,
     "metadata": {},
     "output_type": "execute_result"
    },
    {
     "data": {
      "image/png": "[encoded data removed]",
      "text/plain": [
       "<Figure size 432x288 with 1 Axes>"
      ]
     },
     "metadata": {
      "needs_background": "light"
     },
     "output_type": "display_data"
    }
   ],
   "source": [
    "df.groupby('churn').size().plot(kind='bar')"
   ]
  },
  {
   "cell_type": "code",
   "execution_count": 12,
   "metadata": {},
   "outputs": [
    {
     "name": "stdout",
     "output_type": "stream",
     "text": [
      "Churn Percentage = 9.10201289818253\n"
     ]
    }
   ],
   "source": [
    "y_True = df[(df.churn == 1)]\n",
    "print (\"Churn Percentage = \"+str( (y_True.shape[0] / df[\"churn\"].shape[0]) * 100 ))"
   ]
  },
  {
   "cell_type": "code",
   "execution_count": 13,
   "metadata": {},
   "outputs": [
    {
     "data": {
      "text/html": [
       "<div>\n",
       "<style scoped>\n",
       "    .dataframe tbody tr th:only-of-type {\n",
       "        vertical-align: middle;\n",
       "    }\n",
       "\n",
       "    .dataframe tbody tr th {\n",
       "        vertical-align: top;\n",
       "    }\n",
       "\n",
       "    .dataframe thead th {\n",
       "        text-align: right;\n",
       "    }\n",
       "</style>\n",
       "<table border=\"1\" class=\"dataframe\">\n",
       "  <thead>\n",
       "    <tr style=\"text-align: right;\">\n",
       "      <th></th>\n",
       "      <th>age</th>\n",
       "      <th>annualincome</th>\n",
       "      <th>calldroprate</th>\n",
       "      <th>callfailurerate</th>\n",
       "      <th>callingnum</th>\n",
       "      <th>customerid</th>\n",
       "      <th>monthlybilledamount</th>\n",
       "      <th>numberofcomplaints</th>\n",
       "      <th>numberofmonthunpaid</th>\n",
       "      <th>numdayscontractequipmentplanexpiring</th>\n",
       "      <th>penaltytoswitch</th>\n",
       "      <th>totalminsusedinlastmonth</th>\n",
       "      <th>unpaidbalance</th>\n",
       "      <th>percentagecalloutsidenetwork</th>\n",
       "      <th>totalcallduration</th>\n",
       "      <th>avgcallduration</th>\n",
       "      <th>churn</th>\n",
       "      <th>year</th>\n",
       "      <th>month</th>\n",
       "    </tr>\n",
       "  </thead>\n",
       "  <tbody>\n",
       "    <tr>\n",
       "      <th>count</th>\n",
       "      <td>20468.000000</td>\n",
       "      <td>20468.000000</td>\n",
       "      <td>20468.000000</td>\n",
       "      <td>20468.000000</td>\n",
       "      <td>2.046800e+04</td>\n",
       "      <td>20468.000000</td>\n",
       "      <td>20468.000000</td>\n",
       "      <td>20468.000000</td>\n",
       "      <td>20468.000000</td>\n",
       "      <td>20468.000000</td>\n",
       "      <td>20468.000000</td>\n",
       "      <td>20468.000000</td>\n",
       "      <td>20468.000000</td>\n",
       "      <td>20468.000000</td>\n",
       "      <td>20468.000000</td>\n",
       "      <td>20468.000000</td>\n",
       "      <td>20468.000000</td>\n",
       "      <td>20468.0</td>\n",
       "      <td>20468.000000</td>\n",
       "    </tr>\n",
       "    <tr>\n",
       "      <th>mean</th>\n",
       "      <td>45.334327</td>\n",
       "      <td>124446.818253</td>\n",
       "      <td>0.035021</td>\n",
       "      <td>0.015239</td>\n",
       "      <td>4.220203e+09</td>\n",
       "      <td>4757.953342</td>\n",
       "      <td>59.630252</td>\n",
       "      <td>1.499169</td>\n",
       "      <td>3.489252</td>\n",
       "      <td>49.366816</td>\n",
       "      <td>248.792603</td>\n",
       "      <td>249.740522</td>\n",
       "      <td>126.656879</td>\n",
       "      <td>0.496528</td>\n",
       "      <td>3521.696306</td>\n",
       "      <td>721.521057</td>\n",
       "      <td>0.091020</td>\n",
       "      <td>2015.0</td>\n",
       "      <td>1.611687</td>\n",
       "    </tr>\n",
       "    <tr>\n",
       "      <th>std</th>\n",
       "      <td>19.624577</td>\n",
       "      <td>72129.392001</td>\n",
       "      <td>0.022996</td>\n",
       "      <td>0.011213</td>\n",
       "      <td>3.365196e+08</td>\n",
       "      <td>2751.070062</td>\n",
       "      <td>34.652681</td>\n",
       "      <td>1.119153</td>\n",
       "      <td>2.289740</td>\n",
       "      <td>28.874138</td>\n",
       "      <td>144.247247</td>\n",
       "      <td>144.198066</td>\n",
       "      <td>70.367800</td>\n",
       "      <td>0.288220</td>\n",
       "      <td>1959.642260</td>\n",
       "      <td>225.677596</td>\n",
       "      <td>0.287645</td>\n",
       "      <td>0.0</td>\n",
       "      <td>0.621895</td>\n",
       "    </tr>\n",
       "    <tr>\n",
       "      <th>min</th>\n",
       "      <td>12.000000</td>\n",
       "      <td>4.000000</td>\n",
       "      <td>0.000000</td>\n",
       "      <td>0.000000</td>\n",
       "      <td>1.022955e+08</td>\n",
       "      <td>1.000000</td>\n",
       "      <td>0.000000</td>\n",
       "      <td>0.000000</td>\n",
       "      <td>0.000000</td>\n",
       "      <td>0.000000</td>\n",
       "      <td>0.000000</td>\n",
       "      <td>0.000000</td>\n",
       "      <td>0.000000</td>\n",
       "      <td>0.000000</td>\n",
       "      <td>0.000000</td>\n",
       "      <td>0.000000</td>\n",
       "      <td>0.000000</td>\n",
       "      <td>2015.0</td>\n",
       "      <td>1.000000</td>\n",
       "    </tr>\n",
       "    <tr>\n",
       "      <th>25%</th>\n",
       "      <td>28.000000</td>\n",
       "      <td>61898.000000</td>\n",
       "      <td>0.010000</td>\n",
       "      <td>0.010000</td>\n",
       "      <td>4.251031e+09</td>\n",
       "      <td>2372.750000</td>\n",
       "      <td>29.000000</td>\n",
       "      <td>0.000000</td>\n",
       "      <td>1.000000</td>\n",
       "      <td>24.000000</td>\n",
       "      <td>124.000000</td>\n",
       "      <td>126.000000</td>\n",
       "      <td>66.000000</td>\n",
       "      <td>0.250000</td>\n",
       "      <td>2047.750000</td>\n",
       "      <td>582.000000</td>\n",
       "      <td>0.000000</td>\n",
       "      <td>2015.0</td>\n",
       "      <td>1.000000</td>\n",
       "    </tr>\n",
       "    <tr>\n",
       "      <th>50%</th>\n",
       "      <td>45.000000</td>\n",
       "      <td>123689.500000</td>\n",
       "      <td>0.040000</td>\n",
       "      <td>0.020000</td>\n",
       "      <td>4.251054e+09</td>\n",
       "      <td>4754.000000</td>\n",
       "      <td>60.000000</td>\n",
       "      <td>2.000000</td>\n",
       "      <td>3.000000</td>\n",
       "      <td>49.000000</td>\n",
       "      <td>249.000000</td>\n",
       "      <td>249.000000</td>\n",
       "      <td>122.000000</td>\n",
       "      <td>0.500000</td>\n",
       "      <td>3365.000000</td>\n",
       "      <td>721.000000</td>\n",
       "      <td>0.000000</td>\n",
       "      <td>2015.0</td>\n",
       "      <td>2.000000</td>\n",
       "    </tr>\n",
       "    <tr>\n",
       "      <th>75%</th>\n",
       "      <td>62.000000</td>\n",
       "      <td>187065.250000</td>\n",
       "      <td>0.060000</td>\n",
       "      <td>0.030000</td>\n",
       "      <td>4.251077e+09</td>\n",
       "      <td>7141.250000</td>\n",
       "      <td>90.000000</td>\n",
       "      <td>3.000000</td>\n",
       "      <td>5.000000</td>\n",
       "      <td>74.000000</td>\n",
       "      <td>373.000000</td>\n",
       "      <td>374.000000</td>\n",
       "      <td>191.000000</td>\n",
       "      <td>0.750000</td>\n",
       "      <td>4786.250000</td>\n",
       "      <td>862.000000</td>\n",
       "      <td>0.000000</td>\n",
       "      <td>2015.0</td>\n",
       "      <td>2.000000</td>\n",
       "    </tr>\n",
       "    <tr>\n",
       "      <th>max</th>\n",
       "      <td>79.000000</td>\n",
       "      <td>249987.000000</td>\n",
       "      <td>0.070000</td>\n",
       "      <td>0.030000</td>\n",
       "      <td>4.251100e+09</td>\n",
       "      <td>9525.000000</td>\n",
       "      <td>119.000000</td>\n",
       "      <td>3.000000</td>\n",
       "      <td>7.000000</td>\n",
       "      <td>99.000000</td>\n",
       "      <td>499.000000</td>\n",
       "      <td>499.000000</td>\n",
       "      <td>249.000000</td>\n",
       "      <td>0.990000</td>\n",
       "      <td>16662.000000</td>\n",
       "      <td>1439.000000</td>\n",
       "      <td>1.000000</td>\n",
       "      <td>2015.0</td>\n",
       "      <td>3.000000</td>\n",
       "    </tr>\n",
       "  </tbody>\n",
       "</table>\n",
       "</div>"
      ],
      "text/plain": [
       "                age   annualincome  calldroprate  callfailurerate  \\\n",
       "count  20468.000000   20468.000000  20468.000000     20468.000000   \n",
       "mean      45.334327  124446.818253      0.035021         0.015239   \n",
       "std       19.624577   72129.392001      0.022996         0.011213   \n",
       "min       12.000000       4.000000      0.000000         0.000000   \n",
       "25%       28.000000   61898.000000      0.010000         0.010000   \n",
       "50%       45.000000  123689.500000      0.040000         0.020000   \n",
       "75%       62.000000  187065.250000      0.060000         0.030000   \n",
       "max       79.000000  249987.000000      0.070000         0.030000   \n",
       "\n",
       "         callingnum    customerid  monthlybilledamount  numberofcomplaints  \\\n",
       "count  2.046800e+04  20468.000000         20468.000000        20468.000000   \n",
       "mean   4.220203e+09   4757.953342            59.630252            1.499169   \n",
       "std    3.365196e+08   2751.070062            34.652681            1.119153   \n",
       "min    1.022955e+08      1.000000             0.000000            0.000000   \n",
       "25%    4.251031e+09   2372.750000            29.000000            0.000000   \n",
       "50%    4.251054e+09   4754.000000            60.000000            2.000000   \n",
       "75%    4.251077e+09   7141.250000            90.000000            3.000000   \n",
       "max    4.251100e+09   9525.000000           119.000000            3.000000   \n",
       "\n",
       "       numberofmonthunpaid  numdayscontractequipmentplanexpiring  \\\n",
       "count         20468.000000                          20468.000000   \n",
       "mean              3.489252                             49.366816   \n",
       "std               2.289740                             28.874138   \n",
       "min               0.000000                              0.000000   \n",
       "25%               1.000000                             24.000000   \n",
       "50%               3.000000                             49.000000   \n",
       "75%               5.000000                             74.000000   \n",
       "max               7.000000                             99.000000   \n",
       "\n",
       "       penaltytoswitch  totalminsusedinlastmonth  unpaidbalance  \\\n",
       "count     20468.000000              20468.000000   20468.000000   \n",
       "mean        248.792603                249.740522     126.656879   \n",
       "std         144.247247                144.198066      70.367800   \n",
       "min           0.000000                  0.000000       0.000000   \n",
       "25%         124.000000                126.000000      66.000000   \n",
       "50%         249.000000                249.000000     122.000000   \n",
       "75%         373.000000                374.000000     191.000000   \n",
       "max         499.000000                499.000000     249.000000   \n",
       "\n",
       "       percentagecalloutsidenetwork  totalcallduration  avgcallduration  \\\n",
       "count                  20468.000000       20468.000000     20468.000000   \n",
       "mean                       0.496528        3521.696306       721.521057   \n",
       "std                        0.288220        1959.642260       225.677596   \n",
       "min                        0.000000           0.000000         0.000000   \n",
       "25%                        0.250000        2047.750000       582.000000   \n",
       "50%                        0.500000        3365.000000       721.000000   \n",
       "75%                        0.750000        4786.250000       862.000000   \n",
       "max                        0.990000       16662.000000      1439.000000   \n",
       "\n",
       "              churn     year         month  \n",
       "count  20468.000000  20468.0  20468.000000  \n",
       "mean       0.091020   2015.0      1.611687  \n",
       "std        0.287645      0.0      0.621895  \n",
       "min        0.000000   2015.0      1.000000  \n",
       "25%        0.000000   2015.0      1.000000  \n",
       "50%        0.000000   2015.0      2.000000  \n",
       "75%        0.000000   2015.0      2.000000  \n",
       "max        1.000000   2015.0      3.000000  "
      ]
     },
     "execution_count": 13,
     "metadata": {},
     "output_type": "execute_result"
    }
   ],
   "source": [
    "df.describe()"
   ]
  },
  {
   "cell_type": "code",
   "execution_count": 14,
   "metadata": {},
   "outputs": [
    {
     "data": {
      "text/plain": [
       "<matplotlib.axes._subplots.AxesSubplot at 0x7feb09852b38>"
      ]
     },
     "execution_count": 14,
     "metadata": {},
     "output_type": "execute_result"
    },
    {
     "data": {
      "image/png": "[encoded data removed]",
      "text/plain": [
       "<Figure size 1080x648 with 2 Axes>"
      ]
     },
     "metadata": {
      "needs_background": "light"
     },
     "output_type": "display_data"
    }
   ],
   "source": [
    "corr_matrix = df.corr().round(2)\n",
    "fig, ax = plt.subplots()\n",
    "fig.set_size_inches(15, 9)\n",
    "sns.heatmap(corr_matrix,annot=True)"
   ]
  },
  {
   "cell_type": "markdown",
   "metadata": {},
   "source": [
    "Величины с наибольшей корреляцией между churn и age"
   ]
  },
  {
   "cell_type": "code",
   "execution_count": 15,
   "metadata": {},
   "outputs": [
    {
     "data": {
      "text/plain": [
       "array([2015])"
      ]
     },
     "execution_count": 15,
     "metadata": {},
     "output_type": "execute_result"
    }
   ],
   "source": [
    "df.year.unique()"
   ]
  },
  {
   "cell_type": "markdown",
   "metadata": {},
   "source": [
    "Признак year бесполезен"
   ]
  },
  {
   "cell_type": "code",
   "execution_count": 16,
   "metadata": {},
   "outputs": [],
   "source": [
    "df = df.drop(columns='year')"
   ]
  },
  {
   "cell_type": "code",
   "execution_count": 17,
   "metadata": {},
   "outputs": [
    {
     "data": {
      "text/plain": [
       "\\N    20468\n",
       "Name: noadditionallines, dtype: int64"
      ]
     },
     "execution_count": 17,
     "metadata": {},
     "output_type": "execute_result"
    }
   ],
   "source": [
    "df.noadditionallines.value_counts()"
   ]
  },
  {
   "cell_type": "code",
   "execution_count": 18,
   "metadata": {},
   "outputs": [],
   "source": [
    "df = df.drop(columns='noadditionallines')"
   ]
  },
  {
   "cell_type": "markdown",
   "metadata": {},
   "source": [
    "И noadditionallines тоже"
   ]
  },
  {
   "cell_type": "code",
   "execution_count": 19,
   "metadata": {},
   "outputs": [
    {
     "data": {
      "text/plain": [
       "<matplotlib.axes._subplots.AxesSubplot at 0x7feb09972518>"
      ]
     },
     "execution_count": 19,
     "metadata": {},
     "output_type": "execute_result"
    },
    {
     "data": {
      "image/png": "[encoded data removed]",
      "text/plain": [
       "<Figure size 432x288 with 1 Axes>"
      ]
     },
     "metadata": {
      "needs_background": "light"
     },
     "output_type": "display_data"
    }
   ],
   "source": [
    "df.age.value_counts().hist()"
   ]
  },
  {
   "cell_type": "code",
   "execution_count": 20,
   "metadata": {},
   "outputs": [
    {
     "data": {
      "text/plain": [
       "<matplotlib.axes._subplots.AxesSubplot at 0x7feb07447978>"
      ]
     },
     "execution_count": 20,
     "metadata": {},
     "output_type": "execute_result"
    },
    {
     "data": {
      "image/png": "[encoded data removed]",
      "text/plain": [
       "<Figure size 432x288 with 1 Axes>"
      ]
     },
     "metadata": {
      "needs_background": "light"
     },
     "output_type": "display_data"
    }
   ],
   "source": [
    "sns.boxplot(df.age)"
   ]
  },
  {
   "cell_type": "code",
   "execution_count": 21,
   "metadata": {},
   "outputs": [
    {
     "data": {
      "text/plain": [
       "20    326\n",
       "18    322\n",
       "37    320\n",
       "58    319\n",
       "44    318\n",
       "Name: age, dtype: int64"
      ]
     },
     "execution_count": 21,
     "metadata": {},
     "output_type": "execute_result"
    }
   ],
   "source": [
    "df.age.value_counts().sort_values(ascending=False).head()"
   ]
  },
  {
   "cell_type": "markdown",
   "metadata": {},
   "source": [
    "Object"
   ]
  },
  {
   "cell_type": "code",
   "execution_count": 22,
   "metadata": {},
   "outputs": [
    {
     "data": {
      "text/html": [
       "<div>\n",
       "<style scoped>\n",
       "    .dataframe tbody tr th:only-of-type {\n",
       "        vertical-align: middle;\n",
       "    }\n",
       "\n",
       "    .dataframe tbody tr th {\n",
       "        vertical-align: top;\n",
       "    }\n",
       "\n",
       "    .dataframe thead th {\n",
       "        text-align: right;\n",
       "    }\n",
       "</style>\n",
       "<table border=\"1\" class=\"dataframe\">\n",
       "  <thead>\n",
       "    <tr style=\"text-align: right;\">\n",
       "      <th></th>\n",
       "      <th>customersuspended</th>\n",
       "      <th>education</th>\n",
       "      <th>gender</th>\n",
       "      <th>homeowner</th>\n",
       "      <th>maritalstatus</th>\n",
       "      <th>occupation</th>\n",
       "      <th>state</th>\n",
       "      <th>usesinternetservice</th>\n",
       "      <th>usesvoiceservice</th>\n",
       "    </tr>\n",
       "  </thead>\n",
       "  <tbody>\n",
       "    <tr>\n",
       "      <th>0</th>\n",
       "      <td>Yes</td>\n",
       "      <td>Bachelor or equivalent</td>\n",
       "      <td>Male</td>\n",
       "      <td>Yes</td>\n",
       "      <td>Single</td>\n",
       "      <td>Technology Related Job</td>\n",
       "      <td>WA</td>\n",
       "      <td>No</td>\n",
       "      <td>No</td>\n",
       "    </tr>\n",
       "    <tr>\n",
       "      <th>1</th>\n",
       "      <td>Yes</td>\n",
       "      <td>Bachelor or equivalent</td>\n",
       "      <td>Male</td>\n",
       "      <td>Yes</td>\n",
       "      <td>Single</td>\n",
       "      <td>Technology Related Job</td>\n",
       "      <td>WA</td>\n",
       "      <td>No</td>\n",
       "      <td>No</td>\n",
       "    </tr>\n",
       "    <tr>\n",
       "      <th>2</th>\n",
       "      <td>Yes</td>\n",
       "      <td>Bachelor or equivalent</td>\n",
       "      <td>Female</td>\n",
       "      <td>Yes</td>\n",
       "      <td>Single</td>\n",
       "      <td>Technology Related Job</td>\n",
       "      <td>WI</td>\n",
       "      <td>No</td>\n",
       "      <td>Yes</td>\n",
       "    </tr>\n",
       "    <tr>\n",
       "      <th>3</th>\n",
       "      <td>Yes</td>\n",
       "      <td>Bachelor or equivalent</td>\n",
       "      <td>Female</td>\n",
       "      <td>Yes</td>\n",
       "      <td>Single</td>\n",
       "      <td>Technology Related Job</td>\n",
       "      <td>WI</td>\n",
       "      <td>No</td>\n",
       "      <td>Yes</td>\n",
       "    </tr>\n",
       "    <tr>\n",
       "      <th>4</th>\n",
       "      <td>Yes</td>\n",
       "      <td>Master or equivalent</td>\n",
       "      <td>Female</td>\n",
       "      <td>Yes</td>\n",
       "      <td>Single</td>\n",
       "      <td>Technology Related Job</td>\n",
       "      <td>KS</td>\n",
       "      <td>No</td>\n",
       "      <td>No</td>\n",
       "    </tr>\n",
       "  </tbody>\n",
       "</table>\n",
       "</div>"
      ],
      "text/plain": [
       "  customersuspended               education  gender homeowner maritalstatus  \\\n",
       "0               Yes  Bachelor or equivalent    Male       Yes        Single   \n",
       "1               Yes  Bachelor or equivalent    Male       Yes        Single   \n",
       "2               Yes  Bachelor or equivalent  Female       Yes        Single   \n",
       "3               Yes  Bachelor or equivalent  Female       Yes        Single   \n",
       "4               Yes    Master or equivalent  Female       Yes        Single   \n",
       "\n",
       "               occupation state usesinternetservice usesvoiceservice  \n",
       "0  Technology Related Job    WA                  No               No  \n",
       "1  Technology Related Job    WA                  No               No  \n",
       "2  Technology Related Job    WI                  No              Yes  \n",
       "3  Technology Related Job    WI                  No              Yes  \n",
       "4  Technology Related Job    KS                  No               No  "
      ]
     },
     "execution_count": 22,
     "metadata": {},
     "output_type": "execute_result"
    }
   ],
   "source": [
    "df.select_dtypes('object').head()"
   ]
  },
  {
   "cell_type": "code",
   "execution_count": 23,
   "metadata": {},
   "outputs": [],
   "source": [
    "yes_no_feat = ['customersuspended','homeowner','usesinternetservice','usesvoiceservice']"
   ]
  },
  {
   "cell_type": "code",
   "execution_count": 24,
   "metadata": {},
   "outputs": [],
   "source": [
    "for feat in yes_no_feat:\n",
    "    df[feat] = df[feat].apply(lambda x: 1 if x == 'Yes' else 0)"
   ]
  },
  {
   "cell_type": "code",
   "execution_count": 25,
   "metadata": {},
   "outputs": [],
   "source": [
    "df['maritalstatus'] = df['maritalstatus'].apply(lambda x: 1 if x != 'Single' else 0)"
   ]
  },
  {
   "cell_type": "code",
   "execution_count": 26,
   "metadata": {},
   "outputs": [],
   "source": [
    "df['gender'] = df['gender'].apply(lambda x: 1 if x != 'Male' else 0)"
   ]
  },
  {
   "cell_type": "code",
   "execution_count": 27,
   "metadata": {},
   "outputs": [],
   "source": [
    "df['occupation'] = df['occupation'].str.replace(' ','')\n",
    "df['education'] = df['education'].str.replace(' ','')"
   ]
  },
  {
   "cell_type": "code",
   "execution_count": 28,
   "metadata": {},
   "outputs": [],
   "source": [
    "df_state = pd.get_dummies(df.state,prefix='st',prefix_sep='_')\n",
    "df_occupation = pd.get_dummies(df.occupation,prefix='occ',prefix_sep='_')\n",
    "df_educ = pd.get_dummies(df.education, prefix='educ', prefix_sep=\"_\")"
   ]
  },
  {
   "cell_type": "code",
   "execution_count": 29,
   "metadata": {},
   "outputs": [],
   "source": [
    "df = pd.concat([df, df_state, df_occupation, df_educ], axis=1, join_axes=[df.index])"
   ]
  },
  {
   "cell_type": "code",
   "execution_count": 30,
   "metadata": {},
   "outputs": [
    {
     "data": {
      "text/html": [
       "<div>\n",
       "<style scoped>\n",
       "    .dataframe tbody tr th:only-of-type {\n",
       "        vertical-align: middle;\n",
       "    }\n",
       "\n",
       "    .dataframe tbody tr th {\n",
       "        vertical-align: top;\n",
       "    }\n",
       "\n",
       "    .dataframe thead th {\n",
       "        text-align: right;\n",
       "    }\n",
       "</style>\n",
       "<table border=\"1\" class=\"dataframe\">\n",
       "  <thead>\n",
       "    <tr style=\"text-align: right;\">\n",
       "      <th></th>\n",
       "      <th>education</th>\n",
       "      <th>occupation</th>\n",
       "      <th>state</th>\n",
       "    </tr>\n",
       "  </thead>\n",
       "  <tbody>\n",
       "    <tr>\n",
       "      <th>0</th>\n",
       "      <td>Bachelororequivalent</td>\n",
       "      <td>TechnologyRelatedJob</td>\n",
       "      <td>WA</td>\n",
       "    </tr>\n",
       "    <tr>\n",
       "      <th>1</th>\n",
       "      <td>Bachelororequivalent</td>\n",
       "      <td>TechnologyRelatedJob</td>\n",
       "      <td>WA</td>\n",
       "    </tr>\n",
       "    <tr>\n",
       "      <th>2</th>\n",
       "      <td>Bachelororequivalent</td>\n",
       "      <td>TechnologyRelatedJob</td>\n",
       "      <td>WI</td>\n",
       "    </tr>\n",
       "    <tr>\n",
       "      <th>3</th>\n",
       "      <td>Bachelororequivalent</td>\n",
       "      <td>TechnologyRelatedJob</td>\n",
       "      <td>WI</td>\n",
       "    </tr>\n",
       "    <tr>\n",
       "      <th>4</th>\n",
       "      <td>Masterorequivalent</td>\n",
       "      <td>TechnologyRelatedJob</td>\n",
       "      <td>KS</td>\n",
       "    </tr>\n",
       "  </tbody>\n",
       "</table>\n",
       "</div>"
      ],
      "text/plain": [
       "              education            occupation state\n",
       "0  Bachelororequivalent  TechnologyRelatedJob    WA\n",
       "1  Bachelororequivalent  TechnologyRelatedJob    WA\n",
       "2  Bachelororequivalent  TechnologyRelatedJob    WI\n",
       "3  Bachelororequivalent  TechnologyRelatedJob    WI\n",
       "4    Masterorequivalent  TechnologyRelatedJob    KS"
      ]
     },
     "execution_count": 30,
     "metadata": {},
     "output_type": "execute_result"
    }
   ],
   "source": [
    "df.select_dtypes('object').head()"
   ]
  },
  {
   "cell_type": "code",
   "execution_count": 31,
   "metadata": {},
   "outputs": [],
   "source": [
    "df = df.reset_index(drop=True).drop(columns=['education','occupation','state'])"
   ]
  },
  {
   "cell_type": "code",
   "execution_count": 32,
   "metadata": {},
   "outputs": [
    {
     "data": {
      "text/plain": [
       "(20468, 81)"
      ]
     },
     "execution_count": 32,
     "metadata": {},
     "output_type": "execute_result"
    }
   ],
   "source": [
    "df.shape"
   ]
  },
  {
   "cell_type": "code",
   "execution_count": 33,
   "metadata": {},
   "outputs": [
    {
     "data": {
      "text/html": [
       "<div>\n",
       "<style scoped>\n",
       "    .dataframe tbody tr th:only-of-type {\n",
       "        vertical-align: middle;\n",
       "    }\n",
       "\n",
       "    .dataframe tbody tr th {\n",
       "        vertical-align: top;\n",
       "    }\n",
       "\n",
       "    .dataframe thead th {\n",
       "        text-align: right;\n",
       "    }\n",
       "</style>\n",
       "<table border=\"1\" class=\"dataframe\">\n",
       "  <thead>\n",
       "    <tr style=\"text-align: right;\">\n",
       "      <th></th>\n",
       "      <th>age</th>\n",
       "      <th>annualincome</th>\n",
       "      <th>calldroprate</th>\n",
       "      <th>callfailurerate</th>\n",
       "      <th>callingnum</th>\n",
       "      <th>customerid</th>\n",
       "      <th>customersuspended</th>\n",
       "      <th>gender</th>\n",
       "      <th>homeowner</th>\n",
       "      <th>maritalstatus</th>\n",
       "      <th>...</th>\n",
       "      <th>st_WI</th>\n",
       "      <th>st_WV</th>\n",
       "      <th>st_WY</th>\n",
       "      <th>occ_Non-technologyRelatedJob</th>\n",
       "      <th>occ_Others</th>\n",
       "      <th>occ_TechnologyRelatedJob</th>\n",
       "      <th>educ_Bachelororequivalent</th>\n",
       "      <th>educ_HighSchoolorbelow</th>\n",
       "      <th>educ_Masterorequivalent</th>\n",
       "      <th>educ_PhDorequivalent</th>\n",
       "    </tr>\n",
       "  </thead>\n",
       "  <tbody>\n",
       "    <tr>\n",
       "      <th>0</th>\n",
       "      <td>12</td>\n",
       "      <td>168147</td>\n",
       "      <td>0.06</td>\n",
       "      <td>0.00</td>\n",
       "      <td>4251078442</td>\n",
       "      <td>1</td>\n",
       "      <td>1</td>\n",
       "      <td>0</td>\n",
       "      <td>1</td>\n",
       "      <td>0</td>\n",
       "      <td>...</td>\n",
       "      <td>0</td>\n",
       "      <td>0</td>\n",
       "      <td>0</td>\n",
       "      <td>0</td>\n",
       "      <td>0</td>\n",
       "      <td>1</td>\n",
       "      <td>1</td>\n",
       "      <td>0</td>\n",
       "      <td>0</td>\n",
       "      <td>0</td>\n",
       "    </tr>\n",
       "    <tr>\n",
       "      <th>1</th>\n",
       "      <td>12</td>\n",
       "      <td>168147</td>\n",
       "      <td>0.06</td>\n",
       "      <td>0.00</td>\n",
       "      <td>4251078442</td>\n",
       "      <td>1</td>\n",
       "      <td>1</td>\n",
       "      <td>0</td>\n",
       "      <td>1</td>\n",
       "      <td>0</td>\n",
       "      <td>...</td>\n",
       "      <td>0</td>\n",
       "      <td>0</td>\n",
       "      <td>0</td>\n",
       "      <td>0</td>\n",
       "      <td>0</td>\n",
       "      <td>1</td>\n",
       "      <td>1</td>\n",
       "      <td>0</td>\n",
       "      <td>0</td>\n",
       "      <td>0</td>\n",
       "    </tr>\n",
       "    <tr>\n",
       "      <th>2</th>\n",
       "      <td>42</td>\n",
       "      <td>29047</td>\n",
       "      <td>0.05</td>\n",
       "      <td>0.01</td>\n",
       "      <td>4251043419</td>\n",
       "      <td>2</td>\n",
       "      <td>1</td>\n",
       "      <td>1</td>\n",
       "      <td>1</td>\n",
       "      <td>0</td>\n",
       "      <td>...</td>\n",
       "      <td>1</td>\n",
       "      <td>0</td>\n",
       "      <td>0</td>\n",
       "      <td>0</td>\n",
       "      <td>0</td>\n",
       "      <td>1</td>\n",
       "      <td>1</td>\n",
       "      <td>0</td>\n",
       "      <td>0</td>\n",
       "      <td>0</td>\n",
       "    </tr>\n",
       "    <tr>\n",
       "      <th>3</th>\n",
       "      <td>42</td>\n",
       "      <td>29047</td>\n",
       "      <td>0.05</td>\n",
       "      <td>0.01</td>\n",
       "      <td>4251043419</td>\n",
       "      <td>2</td>\n",
       "      <td>1</td>\n",
       "      <td>1</td>\n",
       "      <td>1</td>\n",
       "      <td>0</td>\n",
       "      <td>...</td>\n",
       "      <td>1</td>\n",
       "      <td>0</td>\n",
       "      <td>0</td>\n",
       "      <td>0</td>\n",
       "      <td>0</td>\n",
       "      <td>1</td>\n",
       "      <td>1</td>\n",
       "      <td>0</td>\n",
       "      <td>0</td>\n",
       "      <td>0</td>\n",
       "    </tr>\n",
       "    <tr>\n",
       "      <th>4</th>\n",
       "      <td>58</td>\n",
       "      <td>27076</td>\n",
       "      <td>0.07</td>\n",
       "      <td>0.02</td>\n",
       "      <td>4251055773</td>\n",
       "      <td>3</td>\n",
       "      <td>1</td>\n",
       "      <td>1</td>\n",
       "      <td>1</td>\n",
       "      <td>0</td>\n",
       "      <td>...</td>\n",
       "      <td>0</td>\n",
       "      <td>0</td>\n",
       "      <td>0</td>\n",
       "      <td>0</td>\n",
       "      <td>0</td>\n",
       "      <td>1</td>\n",
       "      <td>0</td>\n",
       "      <td>0</td>\n",
       "      <td>1</td>\n",
       "      <td>0</td>\n",
       "    </tr>\n",
       "  </tbody>\n",
       "</table>\n",
       "<p>5 rows × 81 columns</p>\n",
       "</div>"
      ],
      "text/plain": [
       "   age  annualincome  calldroprate  callfailurerate  callingnum  customerid  \\\n",
       "0   12        168147          0.06             0.00  4251078442           1   \n",
       "1   12        168147          0.06             0.00  4251078442           1   \n",
       "2   42         29047          0.05             0.01  4251043419           2   \n",
       "3   42         29047          0.05             0.01  4251043419           2   \n",
       "4   58         27076          0.07             0.02  4251055773           3   \n",
       "\n",
       "   customersuspended  gender  homeowner  maritalstatus  ...  st_WI  st_WV  \\\n",
       "0                  1       0          1              0  ...      0      0   \n",
       "1                  1       0          1              0  ...      0      0   \n",
       "2                  1       1          1              0  ...      1      0   \n",
       "3                  1       1          1              0  ...      1      0   \n",
       "4                  1       1          1              0  ...      0      0   \n",
       "\n",
       "   st_WY  occ_Non-technologyRelatedJob  occ_Others  occ_TechnologyRelatedJob  \\\n",
       "0      0                             0           0                         1   \n",
       "1      0                             0           0                         1   \n",
       "2      0                             0           0                         1   \n",
       "3      0                             0           0                         1   \n",
       "4      0                             0           0                         1   \n",
       "\n",
       "   educ_Bachelororequivalent  educ_HighSchoolorbelow  educ_Masterorequivalent  \\\n",
       "0                          1                       0                        0   \n",
       "1                          1                       0                        0   \n",
       "2                          1                       0                        0   \n",
       "3                          1                       0                        0   \n",
       "4                          0                       0                        1   \n",
       "\n",
       "   educ_PhDorequivalent  \n",
       "0                     0  \n",
       "1                     0  \n",
       "2                     0  \n",
       "3                     0  \n",
       "4                     0  \n",
       "\n",
       "[5 rows x 81 columns]"
      ]
     },
     "execution_count": 33,
     "metadata": {},
     "output_type": "execute_result"
    }
   ],
   "source": [
    "df.head()"
   ]
  },
  {
   "cell_type": "markdown",
   "metadata": {},
   "source": [
    "Делим на X и y"
   ]
  },
  {
   "cell_type": "code",
   "execution_count": 34,
   "metadata": {},
   "outputs": [],
   "source": [
    "y = df['churn']\n",
    "X = df.drop(columns=['churn', 'callingnum'])"
   ]
  },
  {
   "cell_type": "code",
   "execution_count": 35,
   "metadata": {},
   "outputs": [],
   "source": [
    "scaler = StandardScaler()\n",
    "X = scaler.fit_transform(X)"
   ]
  },
  {
   "cell_type": "markdown",
   "metadata": {},
   "source": [
    "Строим и тренируем базовые модели"
   ]
  },
  {
   "cell_type": "code",
   "execution_count": 36,
   "metadata": {},
   "outputs": [],
   "source": [
    "# Spot Check Algorithms\n",
    "models = []\n",
    "models.append(('Gradient Boosting Classifier ' , GradientBoostingClassifier()))\n",
    "models.append(('Support vector machine(SVM)  ' , SVC()))\n",
    "models.append(('Random Forest Classifier     ' , RandomForestClassifier()))\n",
    "models.append(('K Nearest Neighbor Classifier' , KNeighborsClassifier()))\n",
    "models.append(('Logistic Regression          ' , LogisticRegression()))\n",
    "models.append(('LGBMClassifier               ' , LGBMClassifier()))\n",
    "models.append(('XGBClassifier                ' , XGBClassifier()))"
   ]
  },
  {
   "cell_type": "code",
   "execution_count": 49,
   "metadata": {},
   "outputs": [],
   "source": [
    "def my_cv_acc(data,target,model,metrics='accuracy'):\n",
    "    results = []\n",
    "    cv = KFold(n_splits=5, random_state=17, shuffle=True)\n",
    "    for train_ind, val_ind in cv.split(data, target):\n",
    "        \n",
    "        X_train_ = data[train_ind]\n",
    "        y_train_ = target[train_ind]\n",
    "        X_val_ = data[val_ind]\n",
    "        y_val_ = target[val_ind]\n",
    "\n",
    "        model.fit(X_train_,y_train_)\n",
    "        y_pred_ = model.predict(X_val_)\n",
    "            \n",
    "        if metrics == 'accuracy':\n",
    "            sc = accuracy_score(y_val_,y_pred_)\n",
    "        elif metrics == 'precision':\n",
    "            sc = precision_score(y_val_,y_pred_)\n",
    "        elif metrics == 'recall':\n",
    "            sc = recall_score(y_val_,y_pred_)\n",
    "        results.append(sc)\n",
    "    return results"
   ]
  },
  {
   "cell_type": "code",
   "execution_count": 41,
   "metadata": {},
   "outputs": [
    {
     "name": "stdout",
     "output_type": "stream",
     "text": [
      "Gradient Boosting Classifier : accuracy:0.909469 \n",
      "Support vector machine(SVM)  : accuracy:0.908980 \n",
      "Random Forest Classifier     : accuracy:0.940541 \n",
      "K Nearest Neighbor Classifier: accuracy:0.908492 \n",
      "Logistic Regression          : accuracy:0.908980 \n",
      "LGBMClassifier               : accuracy:0.919973 \n",
      "XGBClassifier                : accuracy:0.908980 \n"
     ]
    }
   ],
   "source": [
    "for name, model in models:\n",
    "    results = my_cv_acc(X,y,model)\n",
    "    msg = \"%s: accuracy:%f \" % (name,np.mean(results))\n",
    "    print(msg)"
   ]
  },
  {
   "cell_type": "code",
   "execution_count": 50,
   "metadata": {},
   "outputs": [
    {
     "name": "stdout",
     "output_type": "stream",
     "text": [
      "Gradient Boosting Classifier : recall:0.006472 \n",
      "Support vector machine(SVM)  : recall:0.000000 \n",
      "Random Forest Classifier     : recall:0.344545 \n",
      "K Nearest Neighbor Classifier: recall:0.115965 \n",
      "Logistic Regression          : recall:0.000000 \n",
      "LGBMClassifier               : recall:0.125940 \n",
      "XGBClassifier                : recall:0.000000 \n"
     ]
    }
   ],
   "source": [
    "for name, model in models:\n",
    "    results = my_cv_acc(X,y,model,metrics='recall')\n",
    "    msg = \"%s: recall:%f \" % (name,np.mean(results))\n",
    "    print(msg)"
   ]
  },
  {
   "cell_type": "code",
   "execution_count": 42,
   "metadata": {},
   "outputs": [],
   "source": [
    "def make_pred(X,y,model):\n",
    "    results = []\n",
    "    X_train, X_test, y_train, y_test = train_test_split(X,y,test_size=0.3,random_state=17)\n",
    "    model.fit(X_train,y_train)\n",
    "    y_pred = model.predict(X_test)\n",
    "    return y_test, y_pred"
   ]
  },
  {
   "cell_type": "code",
   "execution_count": 43,
   "metadata": {},
   "outputs": [],
   "source": [
    "def plot_conf_matrix(X,y,model,title):\n",
    "    y_test, y_pred = make_pred(X,y,model)\n",
    "    plt.figure()\n",
    "    grad_ens_conf_matrix = confusion_matrix(y_test, y_pred)\n",
    "    sns.heatmap(grad_ens_conf_matrix, annot=True,  fmt='')\n",
    "    plt.title(title)"
   ]
  },
  {
   "cell_type": "markdown",
   "metadata": {},
   "source": [
    "Confusion Matrices for various models"
   ]
  },
  {
   "cell_type": "code",
   "execution_count": 44,
   "metadata": {},
   "outputs": [
    {
     "data": {
      "image/png": "[encoded data removed]",
      "text/plain": [
       "<Figure size 432x288 with 2 Axes>"
      ]
     },
     "metadata": {
      "needs_background": "light"
     },
     "output_type": "display_data"
    },
    {
     "data": {
      "image/png": "[encoded data removed]",
      "text/plain": [
       "<Figure size 432x288 with 2 Axes>"
      ]
     },
     "metadata": {
      "needs_background": "light"
     },
     "output_type": "display_data"
    },
    {
     "data": {
      "image/png": "[encoded data removed]",
      "text/plain": [
       "<Figure size 432x288 with 2 Axes>"
      ]
     },
     "metadata": {
      "needs_background": "light"
     },
     "output_type": "display_data"
    },
    {
     "data": {
      "image/png": "[encoded data removed]",
      "text/plain": [
       "<Figure size 432x288 with 2 Axes>"
      ]
     },
     "metadata": {
      "needs_background": "light"
     },
     "output_type": "display_data"
    },
    {
     "data": {
      "image/png": "[encoded data removed]",
      "text/plain": [
       "<Figure size 432x288 with 2 Axes>"
      ]
     },
     "metadata": {
      "needs_background": "light"
     },
     "output_type": "display_data"
    },
    {
     "data": {
      "image/png": "[encoded data removed]",
      "text/plain": [
       "<Figure size 432x288 with 2 Axes>"
      ]
     },
     "metadata": {
      "needs_background": "light"
     },
     "output_type": "display_data"
    },
    {
     "data": {
      "image/png": "[encoded data removed]",
      "text/plain": [
       "<Figure size 432x288 with 2 Axes>"
      ]
     },
     "metadata": {
      "needs_background": "light"
     },
     "output_type": "display_data"
    }
   ],
   "source": [
    "for name, model in models:\n",
    "    plot_conf_matrix(X,y,model,name)"
   ]
  },
  {
   "cell_type": "code",
   "execution_count": 70,
   "metadata": {},
   "outputs": [
    {
     "data": {
      "image/png": "[encoded data removed]",
      "text/plain": [
       "<IPython.core.display.Image object>"
      ]
     },
     "execution_count": 70,
     "metadata": {},
     "output_type": "execute_result"
    }
   ],
   "source": [
    "Image(filename='table.png') "
   ]
  },
  {
   "cell_type": "code",
   "execution_count": 71,
   "metadata": {},
   "outputs": [
    {
     "data": {
      "image/png": "[encoded data removed]",
      "text/plain": [
       "<IPython.core.display.Image object>"
      ]
     },
     "execution_count": 71,
     "metadata": {},
     "output_type": "execute_result"
    }
   ],
   "source": [
    "Image(filename='ClassificationMetrics.png') "
   ]
  },
  {
   "cell_type": "markdown",
   "metadata": {},
   "source": [
    "Проблема с метрикой accuracy заключается в том, что результаты не обязательно эквивалентны. Если классификатор спрогнозирует уход клиента, но клиент останется, – это не очень хорошо, но простительно. Однако если классификатор предскажет, что клиент не уйдет, я не стану предпринимать никакие действия, а клиент все же уйдет – это уже действительно плохо.\n",
    "\n",
    "Важным вопросом является следующий: «Каково отношение количества правильно спрогнозированных уходов к общему количеству фактических уходов?» Эта метрика имеет название «полнота» (recall). "
   ]
  },
  {
   "cell_type": "code",
   "execution_count": 45,
   "metadata": {},
   "outputs": [
    {
     "name": "stdout",
     "output_type": "stream",
     "text": [
      "Gradient Boosting Classifier  :\n",
      "               precision    recall  f1-score   support\n",
      "\n",
      "           0       0.91      1.00      0.95      5560\n",
      "           1       1.00      0.01      0.01       581\n",
      "\n",
      "   micro avg       0.91      0.91      0.91      6141\n",
      "   macro avg       0.95      0.50      0.48      6141\n",
      "weighted avg       0.91      0.91      0.86      6141\n",
      "\n",
      "\n",
      "Support vector machine(SVM)   :\n",
      "               precision    recall  f1-score   support\n",
      "\n",
      "           0       0.91      1.00      0.95      5560\n",
      "           1       0.00      0.00      0.00       581\n",
      "\n",
      "   micro avg       0.91      0.91      0.91      6141\n",
      "   macro avg       0.45      0.50      0.48      6141\n",
      "weighted avg       0.82      0.91      0.86      6141\n",
      "\n",
      "\n",
      "Random Forest Classifier      :\n",
      "               precision    recall  f1-score   support\n",
      "\n",
      "           0       0.93      1.00      0.97      5560\n",
      "           1       0.99      0.33      0.49       581\n",
      "\n",
      "   micro avg       0.94      0.94      0.94      6141\n",
      "   macro avg       0.96      0.66      0.73      6141\n",
      "weighted avg       0.94      0.94      0.92      6141\n",
      "\n",
      "\n",
      "K Nearest Neighbor Classifier :\n",
      "               precision    recall  f1-score   support\n",
      "\n",
      "           0       0.91      0.99      0.95      5560\n",
      "           1       0.38      0.08      0.13       581\n",
      "\n",
      "   micro avg       0.90      0.90      0.90      6141\n",
      "   macro avg       0.65      0.53      0.54      6141\n",
      "weighted avg       0.86      0.90      0.87      6141\n",
      "\n",
      "\n",
      "Logistic Regression           :\n",
      "               precision    recall  f1-score   support\n",
      "\n",
      "           0       0.91      1.00      0.95      5560\n",
      "           1       0.00      0.00      0.00       581\n",
      "\n",
      "   micro avg       0.91      0.91      0.91      6141\n",
      "   macro avg       0.45      0.50      0.48      6141\n",
      "weighted avg       0.82      0.91      0.86      6141\n",
      "\n",
      "\n",
      "LGBMClassifier                :\n",
      "               precision    recall  f1-score   support\n",
      "\n",
      "           0       0.92      1.00      0.96      5560\n",
      "           1       1.00      0.16      0.27       581\n",
      "\n",
      "   micro avg       0.92      0.92      0.92      6141\n",
      "   macro avg       0.96      0.58      0.61      6141\n",
      "weighted avg       0.93      0.92      0.89      6141\n",
      "\n",
      "\n",
      "XGBClassifier                 :\n",
      "               precision    recall  f1-score   support\n",
      "\n",
      "           0       0.91      1.00      0.95      5560\n",
      "           1       1.00      0.00      0.00       581\n",
      "\n",
      "   micro avg       0.91      0.91      0.91      6141\n",
      "   macro avg       0.95      0.50      0.48      6141\n",
      "weighted avg       0.91      0.91      0.86      6141\n",
      "\n",
      "\n"
     ]
    }
   ],
   "source": [
    "for name,model in models:\n",
    "    y_true_, y_pred_ = make_pred(X,y,model)\n",
    "    print(name,':\\n {}\\n'.format(classification_report(y_true_, y_pred_)))"
   ]
  },
  {
   "cell_type": "markdown",
   "metadata": {},
   "source": [
    "По умолчанию кол-во деревьев в RandomForest = 10. В LGBMClassifier и XGBClassifier - 100."
   ]
  },
  {
   "cell_type": "code",
   "execution_count": 67,
   "metadata": {},
   "outputs": [
    {
     "name": "stdout",
     "output_type": "stream",
     "text": [
      "RandomForestClassifier(n_estimators=300) 0.9477719475540054\n",
      "LGBMClassifier(n_estimators=300) 0.9602791998587794\n"
     ]
    }
   ],
   "source": [
    "# accuracy\n",
    "print('RandomForestClassifier(n_estimators=300)',np.mean(my_cv_acc(X,y,RandomForestClassifier(n_estimators=300))))\n",
    "print('LGBMClassifier(n_estimators=300)',np.mean(my_cv_acc(X,y,LGBMClassifier(n_estimators=300))))"
   ]
  },
  {
   "cell_type": "code",
   "execution_count": 68,
   "metadata": {},
   "outputs": [
    {
     "name": "stdout",
     "output_type": "stream",
     "text": [
      "RandomForestClassifier(n_estimators=300) 0.42395704758369385\n",
      "LGBMClassifier(n_estimators=300) 0.5696500449040537\n"
     ]
    }
   ],
   "source": [
    "# recall\n",
    "print('RandomForestClassifier(n_estimators=300)',np.mean(my_cv_acc(\n",
    "    X,y,RandomForestClassifier(n_estimators=300),metrics='recall')))\n",
    "print('LGBMClassifier(n_estimators=300)',np.mean(my_cv_acc(\n",
    "    X,y,LGBMClassifier(n_estimators=300),metrics='recall')))"
   ]
  },
  {
   "cell_type": "markdown",
   "metadata": {},
   "source": [
    "С увеличением числа деревьев LGBMClassifier оценка как accuracy так и recall возрастает и становится больше оценки RandomForestClassifier"
   ]
  },
  {
   "cell_type": "code",
   "execution_count": 52,
   "metadata": {},
   "outputs": [
    {
     "name": "stdout",
     "output_type": "stream",
     "text": [
      "CPU times: user 5 µs, sys: 0 ns, total: 5 µs\n",
      "Wall time: 10 µs\n"
     ]
    }
   ],
   "source": [
    "%time\n",
    "range_estimators = list(range(60, 511, 50))\n",
    "tree_params = {'n_estimators': range_estimators}\n",
    "scores_lgbm = []\n",
    "scores_rf = []\n",
    "for n in tree_params['n_estimators']:\n",
    "    model = LGBMClassifier(n_estimators=n,random_state=17,n_jobs=-1)\n",
    "    sc = my_cv_acc(X,y,model)\n",
    "    scores_lgbm.append(np.mean(sc))\n",
    "for n in tree_params['n_estimators']:\n",
    "    model = RandomForestClassifier(n_estimators=n,random_state=17,n_jobs=-1)\n",
    "    sc = my_cv_acc(X,y,model)\n",
    "    scores_rf.append(np.mean(sc))"
   ]
  },
  {
   "cell_type": "code",
   "execution_count": 81,
   "metadata": {},
   "outputs": [
    {
     "data": {
      "application/vnd.plotly.v1+json": {
       "config": {
        "linkText": "Export to plot.ly",
        "plotlyServerURL": "https://plot.ly",
        "responsive": true,
        "showLink": false
       },
       "data": [
        {
         "name": "Random Forest Classifier",
         "type": "scatter",
         "uid": "478ba31b-8f31-4bae-875f-c967a456679d",
         "x": [
          60,
          110,
          160,
          210,
          260,
          310,
          360,
          410,
          460,
          510
         ],
         "y": [
          0.9449384492522472,
          0.945720259940745,
          0.945231656607233,
          0.9462576197688071,
          0.9465507316398378,
          0.9469415235968901,
          0.9469415235968901,
          0.9466972756398588,
          0.9468438673818573,
          0.9467461156828696
         ]
        },
        {
         "name": "LGBM Classifier",
         "type": "scatter",
         "uid": "a53dfb5f-f218-4fae-ac6d-8f824ca6686e",
         "x": [
          60,
          110,
          160,
          210,
          260,
          310,
          360,
          410,
          460,
          510
         ],
         "y": [
          0.9128397035652874,
          0.9215360718688632,
          0.9321865431836333,
          0.9428372412727963,
          0.9535369345663971,
          0.9618426660743479,
          0.9687315111732339,
          0.9732751867875032,
          0.9771838344231834,
          0.9793824241012962
         ]
        }
       ],
       "layout": {
        "title": {
         "text": "Кривые валидации по подбору количества деревьев для RandomForest и LGBM"
        },
        "xaxis": {
         "title": {
          "text": "Кол-во деревьев"
         }
        },
        "yaxis": {
         "title": {
          "text": "Accuracy"
         }
        }
       }
      },
      "text/html": [
       "<div>\n",
       "        \n",
       "        \n",
       "            <div id=\"746317ca-bb8f-4255-a955-fb554805217a\" class=\"plotly-graph-div\" style=\"height:525px; width:100%;\"></div>\n",
       "            <script type=\"text/javascript\">\n",
       "                require([\"plotly\"], function(Plotly) {\n",
       "                    window.PLOTLYENV=window.PLOTLYENV || {};\n",
       "                    window.PLOTLYENV.BASE_URL='https://plot.ly';\n",
       "                    \n",
       "                if (document.getElementById(\"746317ca-bb8f-4255-a955-fb554805217a\")) {\n",
       "                    Plotly.newPlot(\n",
       "                        '746317ca-bb8f-4255-a955-fb554805217a',\n",
       "                        [{\"name\": \"Random Forest Classifier\", \"type\": \"scatter\", \"uid\": \"57700c65-627c-4568-b145-d47da602f83e\", \"x\": [60, 110, 160, 210, 260, 310, 360, 410, 460, 510], \"y\": [0.9449384492522472, 0.945720259940745, 0.945231656607233, 0.9462576197688071, 0.9465507316398378, 0.9469415235968901, 0.9469415235968901, 0.9466972756398588, 0.9468438673818573, 0.9467461156828696]}, {\"name\": \"LGBM Classifier\", \"type\": \"scatter\", \"uid\": \"6a17570c-dbf7-4994-9a10-8ebd9984c5b6\", \"x\": [60, 110, 160, 210, 260, 310, 360, 410, 460, 510], \"y\": [0.9128397035652874, 0.9215360718688632, 0.9321865431836333, 0.9428372412727963, 0.9535369345663971, 0.9618426660743479, 0.9687315111732339, 0.9732751867875032, 0.9771838344231834, 0.9793824241012962]}],\n",
       "                        {\"title\": {\"text\": \"\\u041a\\u0440\\u0438\\u0432\\u044b\\u0435 \\u0432\\u0430\\u043b\\u0438\\u0434\\u0430\\u0446\\u0438\\u0438 \\u043f\\u043e \\u043f\\u043e\\u0434\\u0431\\u043e\\u0440\\u0443 \\u043a\\u043e\\u043b\\u0438\\u0447\\u0435\\u0441\\u0442\\u0432\\u0430 \\u0434\\u0435\\u0440\\u0435\\u0432\\u044c\\u0435\\u0432 \\u0434\\u043b\\u044f RandomForest \\u0438 LGBM\"}, \"xaxis\": {\"title\": {\"text\": \"\\u041a\\u043e\\u043b-\\u0432\\u043e \\u0434\\u0435\\u0440\\u0435\\u0432\\u044c\\u0435\\u0432\"}}, \"yaxis\": {\"title\": {\"text\": \"Accuracy\"}}},\n",
       "                        {\"showLink\": false, \"linkText\": \"Export to plot.ly\", \"plotlyServerURL\": \"https://plot.ly\", \"responsive\": true}\n",
       "                    ).then(function(){\n",
       "                            \n",
       "var gd = document.getElementById('746317ca-bb8f-4255-a955-fb554805217a');\n",
       "var x = new MutationObserver(function (mutations, observer) {{\n",
       "        var display = window.getComputedStyle(gd).display;\n",
       "        if (!display || display === 'none') {{\n",
       "            console.log([gd, 'removed!']);\n",
       "            Plotly.purge(gd);\n",
       "            observer.disconnect();\n",
       "        }}\n",
       "}});\n",
       "\n",
       "// Listen for the removal of the full notebook cells\n",
       "var notebookContainer = gd.closest('#notebook-container');\n",
       "if (notebookContainer) {{\n",
       "    x.observe(notebookContainer, {childList: true});\n",
       "}}\n",
       "\n",
       "// Listen for the clearing of the current output cell\n",
       "var outputEl = gd.closest('.output');\n",
       "if (outputEl) {{\n",
       "    x.observe(outputEl, {childList: true});\n",
       "}}\n",
       "\n",
       "                        })\n",
       "                };\n",
       "                });\n",
       "            </script>\n",
       "        </div>"
      ]
     },
     "metadata": {},
     "output_type": "display_data"
    }
   ],
   "source": [
    "trace0 = go.Scatter(\n",
    "    x=range_estimators,\n",
    "    y=scores_rf,\n",
    "    name='Random Forest Classifier'\n",
    ")\n",
    "\n",
    "trace1 = go.Scatter(\n",
    "    x=range_estimators,\n",
    "    y=scores_lgbm,\n",
    "    name='LGBM Classifier'\n",
    ")\n",
    "\n",
    "data = [trace0, trace1]\n",
    "layout = go.Layout(title = 'Кривые валидации по подбору количества деревьев для RandomForest и LGBM',\n",
    "          yaxis={'title':'Accuracy'}, xaxis={'title':'Кол-во деревьев'})\n",
    "\n",
    "fig = go.Figure(data=data, layout=layout)\n",
    "iplot(fig, show_link=False)"
   ]
  },
  {
   "cell_type": "code",
   "execution_count": null,
   "metadata": {},
   "outputs": [],
   "source": [
    "layout=go.Layout(title=\"Распределение просмотров по дням\", \n",
    "                 xaxis={'title':'Дни'}, yaxis={'title':'Кол-во просмотров'})\n"
   ]
  },
  {
   "cell_type": "code",
   "execution_count": 72,
   "metadata": {},
   "outputs": [
    {
     "name": "stdout",
     "output_type": "stream",
     "text": [
      "CPU times: user 4 µs, sys: 0 ns, total: 4 µs\n",
      "Wall time: 9.06 µs\n"
     ]
    }
   ],
   "source": [
    "%time\n",
    "scores_lgbm_recall = []\n",
    "scores_rf_recall = []\n",
    "for n in tree_params['n_estimators']:\n",
    "    model = LGBMClassifier(n_estimators=n,random_state=17,n_jobs=-1)\n",
    "    sc = my_cv_acc(X,y,model,metrics='recall')\n",
    "    scores_lgbm_recall.append(np.mean(sc))\n",
    "for n in tree_params['n_estimators']:\n",
    "    model = RandomForestClassifier(n_estimators=n,random_state=17,n_jobs=-1)\n",
    "    sc = my_cv_acc(X,y,model,metrics='recall')\n",
    "    scores_rf_recall.append(np.mean(sc))"
   ]
  },
  {
   "cell_type": "code",
   "execution_count": 82,
   "metadata": {},
   "outputs": [
    {
     "data": {
      "application/vnd.plotly.v1+json": {
       "config": {
        "linkText": "Export to plot.ly",
        "plotlyServerURL": "https://plot.ly",
        "responsive": true,
        "showLink": false
       },
       "data": [
        {
         "name": "Random Forest Classifier",
         "type": "scatter",
         "uid": "caf51f78-dc41-47e9-97ff-3cbb63dc888f",
         "x": [
          60,
          110,
          160,
          210,
          260,
          310,
          360,
          410,
          460,
          510
         ],
         "y": [
          0.394736188329886,
          0.4035754776498212,
          0.3981391224035177,
          0.4092194380291826,
          0.4124133865887266,
          0.41650012453487834,
          0.416587182986589,
          0.41397926641197913,
          0.41566940725704954,
          0.4145132585322021
         ]
        },
        {
         "name": "LGBM Classifier",
         "type": "scatter",
         "uid": "a2cb37a4-6e43-421b-a70b-44164a617d3b",
         "x": [
          60,
          110,
          160,
          210,
          260,
          310,
          360,
          410,
          460,
          510
         ],
         "y": [
          0.04561505342033471,
          0.14207645514407002,
          0.25908310825212955,
          0.37708656947813723,
          0.4959204083669374,
          0.5879178198121575,
          0.6615195494738068,
          0.7123546320003795,
          0.757626971442395,
          0.7835099892455677
         ]
        }
       ],
       "layout": {
        "title": {
         "text": "Кривые валидации по подбору количества деревьев для RandomForest и LGBM"
        },
        "xaxis": {
         "title": {
          "text": "Кол-во деревьев"
         }
        },
        "yaxis": {
         "title": {
          "text": "Recall"
         }
        }
       }
      },
      "text/html": [
       "<div>\n",
       "        \n",
       "        \n",
       "            <div id=\"628b3522-c0d3-4e3f-8a35-3e3eff15773f\" class=\"plotly-graph-div\" style=\"height:525px; width:100%;\"></div>\n",
       "            <script type=\"text/javascript\">\n",
       "                require([\"plotly\"], function(Plotly) {\n",
       "                    window.PLOTLYENV=window.PLOTLYENV || {};\n",
       "                    window.PLOTLYENV.BASE_URL='https://plot.ly';\n",
       "                    \n",
       "                if (document.getElementById(\"628b3522-c0d3-4e3f-8a35-3e3eff15773f\")) {\n",
       "                    Plotly.newPlot(\n",
       "                        '628b3522-c0d3-4e3f-8a35-3e3eff15773f',\n",
       "                        [{\"name\": \"Random Forest Classifier\", \"type\": \"scatter\", \"uid\": \"d4daecee-07fb-4ced-8817-74e21b898556\", \"x\": [60, 110, 160, 210, 260, 310, 360, 410, 460, 510], \"y\": [0.394736188329886, 0.4035754776498212, 0.3981391224035177, 0.4092194380291826, 0.4124133865887266, 0.41650012453487834, 0.416587182986589, 0.41397926641197913, 0.41566940725704954, 0.4145132585322021]}, {\"name\": \"LGBM Classifier\", \"type\": \"scatter\", \"uid\": \"b33b2182-df9d-41b2-9bc2-32c8e66f5957\", \"x\": [60, 110, 160, 210, 260, 310, 360, 410, 460, 510], \"y\": [0.04561505342033471, 0.14207645514407002, 0.25908310825212955, 0.37708656947813723, 0.4959204083669374, 0.5879178198121575, 0.6615195494738068, 0.7123546320003795, 0.757626971442395, 0.7835099892455677]}],\n",
       "                        {\"title\": {\"text\": \"\\u041a\\u0440\\u0438\\u0432\\u044b\\u0435 \\u0432\\u0430\\u043b\\u0438\\u0434\\u0430\\u0446\\u0438\\u0438 \\u043f\\u043e \\u043f\\u043e\\u0434\\u0431\\u043e\\u0440\\u0443 \\u043a\\u043e\\u043b\\u0438\\u0447\\u0435\\u0441\\u0442\\u0432\\u0430 \\u0434\\u0435\\u0440\\u0435\\u0432\\u044c\\u0435\\u0432 \\u0434\\u043b\\u044f RandomForest \\u0438 LGBM\"}, \"xaxis\": {\"title\": {\"text\": \"\\u041a\\u043e\\u043b-\\u0432\\u043e \\u0434\\u0435\\u0440\\u0435\\u0432\\u044c\\u0435\\u0432\"}}, \"yaxis\": {\"title\": {\"text\": \"Recall\"}}},\n",
       "                        {\"showLink\": false, \"linkText\": \"Export to plot.ly\", \"plotlyServerURL\": \"https://plot.ly\", \"responsive\": true}\n",
       "                    ).then(function(){\n",
       "                            \n",
       "var gd = document.getElementById('628b3522-c0d3-4e3f-8a35-3e3eff15773f');\n",
       "var x = new MutationObserver(function (mutations, observer) {{\n",
       "        var display = window.getComputedStyle(gd).display;\n",
       "        if (!display || display === 'none') {{\n",
       "            console.log([gd, 'removed!']);\n",
       "            Plotly.purge(gd);\n",
       "            observer.disconnect();\n",
       "        }}\n",
       "}});\n",
       "\n",
       "// Listen for the removal of the full notebook cells\n",
       "var notebookContainer = gd.closest('#notebook-container');\n",
       "if (notebookContainer) {{\n",
       "    x.observe(notebookContainer, {childList: true});\n",
       "}}\n",
       "\n",
       "// Listen for the clearing of the current output cell\n",
       "var outputEl = gd.closest('.output');\n",
       "if (outputEl) {{\n",
       "    x.observe(outputEl, {childList: true});\n",
       "}}\n",
       "\n",
       "                        })\n",
       "                };\n",
       "                });\n",
       "            </script>\n",
       "        </div>"
      ]
     },
     "metadata": {},
     "output_type": "display_data"
    }
   ],
   "source": [
    "trace0 = go.Scatter(\n",
    "    x=range_estimators,\n",
    "    y=scores_rf_recall,\n",
    "    name='Random Forest Classifier'\n",
    ")\n",
    "\n",
    "trace1 = go.Scatter(\n",
    "    x=range_estimators,\n",
    "    y=scores_lgbm_recall,\n",
    "    name='LGBM Classifier'\n",
    ")\n",
    "\n",
    "data = [trace0, trace1]\n",
    "layout = go.Layout(title = 'Кривые валидации по подбору количества деревьев для RandomForest и LGBM',\n",
    "          yaxis={'title':'Recall'}, xaxis={'title':'Кол-во деревьев'})\n",
    "\n",
    "# cоздаем объект Figure и визуализируем его\n",
    "fig = go.Figure(data=data, layout=layout)\n",
    "iplot(fig, show_link=False)"
   ]
  },
  {
   "cell_type": "markdown",
   "metadata": {},
   "source": [
    "Качество LGBMClassifier растет при увеличении кол-ва деревьев. После 200 деревьев оценка LGBMClassifier выше RandomForestClassifier"
   ]
  },
  {
   "cell_type": "code",
   "execution_count": 55,
   "metadata": {},
   "outputs": [
    {
     "data": {
      "text/plain": [
       "LGBMClassifier(boosting_type='gbdt', class_weight=None, colsample_bytree=1.0,\n",
       "        importance_type='split', learning_rate=0.1, max_depth=50,\n",
       "        min_child_samples=20, min_child_weight=0.001, min_split_gain=0.0,\n",
       "        n_estimators=200, n_jobs=-1, num_leaves=31, objective=None,\n",
       "        random_state=None, reg_alpha=0.0, reg_lambda=0.0, silent=True,\n",
       "        subsample=1.0, subsample_for_bin=200000, subsample_freq=0)"
      ]
     },
     "execution_count": 55,
     "metadata": {},
     "output_type": "execute_result"
    }
   ],
   "source": [
    "lgbm = LGBMClassifier(n_estimators=200,max_depth=50,n_jobs=-1)\n",
    "lgbm.fit(X, y)"
   ]
  },
  {
   "cell_type": "code",
   "execution_count": 57,
   "metadata": {},
   "outputs": [
    {
     "data": {
      "image/png": "[encoded data removed]",
      "text/plain": [
       "<Figure size 1296x576 with 1 Axes>"
      ]
     },
     "metadata": {
      "needs_background": "light"
     },
     "output_type": "display_data"
    }
   ],
   "source": [
    "feat_names = df.columns\n",
    "importances = lgbm.feature_importances_\n",
    "indices = np.argsort(importances)\n",
    "# indices = np.concatenate([np.argsort(importances)[::-1][:15],np.argsort(importances)[::-1][-15:]])\n",
    "\n",
    "plt.figure(figsize=(18,8))\n",
    "plt.title(\"Feature importances\")\n",
    "plt.bar(range(len(indices)), importances[indices], color=\"g\", align=\"center\")\n",
    "plt.xticks(range(len(indices)), feat_names[indices], rotation='vertical')\n",
    "plt.xlim([-1, len(indices)])\n",
    "plt.show()"
   ]
  },
  {
   "cell_type": "markdown",
   "metadata": {},
   "source": [
    "Можно заметить ряд признаков, которые делают наименьший вклад в качество модели. Попробуем их удалить и посмотреть что будет."
   ]
  },
  {
   "cell_type": "code",
   "execution_count": 58,
   "metadata": {},
   "outputs": [
    {
     "data": {
      "image/png": "[encoded data removed]",
      "text/plain": [
       "<Figure size 864x576 with 1 Axes>"
      ]
     },
     "metadata": {
      "needs_background": "light"
     },
     "output_type": "display_data"
    }
   ],
   "source": [
    "less_important = indices[::-1][-40:]\n",
    "plt.figure(figsize=(12,8))\n",
    "plt.title(\"Feature importances\")\n",
    "plt.bar(range(len(less_important)), importances[less_important], color=\"g\", align=\"center\")\n",
    "plt.xticks(range(len(less_important)), feat_names[less_important], rotation='vertical')\n",
    "plt.xlim([-1, len(less_important)])\n",
    "plt.show()"
   ]
  },
  {
   "cell_type": "code",
   "execution_count": 59,
   "metadata": {},
   "outputs": [
    {
     "data": {
      "text/plain": [
       "Index(['st_GA', 'st_TN', 'unpaidbalance', 'st_NE', 'st_IL', 'st_ND', 'st_IN',\n",
       "       'st_CO', 'st_MO', 'st_MT', 'st_HI', 'st_SD', 'st_DE', 'st_SC',\n",
       "       'customerid', 'st_MD', 'st_ME', 'st_NY', 'educ_HighSchoolorbelow',\n",
       "       'st_ID', 'st_MI', 'st_AL', 'st_MA', 'churn', 'st_CT', 'st_CA', 'st_NJ',\n",
       "       'st_OR', 'st_WA', 'st_VT', 'st_VA', 'st_TX', 'st_MN', 'st_MS', 'st_OH',\n",
       "       'st_NV', 'st_NH', 'st_OK', 'st_WI', 'avgcallduration'],\n",
       "      dtype='object')"
      ]
     },
     "execution_count": 59,
     "metadata": {},
     "output_type": "execute_result"
    }
   ],
   "source": [
    "feat_names[less_important]"
   ]
  },
  {
   "cell_type": "code",
   "execution_count": 60,
   "metadata": {},
   "outputs": [],
   "source": [
    "df_test = df.drop(columns=feat_names[less_important])"
   ]
  },
  {
   "cell_type": "code",
   "execution_count": 61,
   "metadata": {},
   "outputs": [],
   "source": [
    "test_X = scaler.fit_transform(df_test)"
   ]
  },
  {
   "cell_type": "code",
   "execution_count": 62,
   "metadata": {},
   "outputs": [
    {
     "data": {
      "text/plain": [
       "((20468, 81), (20468, 41))"
      ]
     },
     "execution_count": 62,
     "metadata": {},
     "output_type": "execute_result"
    }
   ],
   "source": [
    "df.shape, df_test.shape"
   ]
  },
  {
   "cell_type": "markdown",
   "metadata": {},
   "source": [
    "Х с слабыми признаками и без них\n",
    "\n",
    "X with weak features vs X without they"
   ]
  },
  {
   "cell_type": "code",
   "execution_count": 63,
   "metadata": {},
   "outputs": [
    {
     "name": "stdout",
     "output_type": "stream",
     "text": [
      "0.9410784148851847\n",
      "0.9385869162394455\n"
     ]
    }
   ],
   "source": [
    "print(np.mean(my_cv_acc(X,y,lgbm)))\n",
    "print(np.mean(my_cv_acc(test_X,y,lgbm)))"
   ]
  },
  {
   "cell_type": "code",
   "execution_count": 64,
   "metadata": {},
   "outputs": [
    {
     "name": "stdout",
     "output_type": "stream",
     "text": [
      "0.3572879304487575\n",
      "0.32798537075906864\n"
     ]
    }
   ],
   "source": [
    "print(np.mean(my_cv_acc(X,y,lgbm,metrics='recall')))\n",
    "print(np.mean(my_cv_acc(test_X,y,lgbm,metrics='recall')))"
   ]
  },
  {
   "cell_type": "markdown",
   "metadata": {},
   "source": [
    "Качество немного упало, лучше данные признаки не удалять."
   ]
  }
 ],
 "metadata": {
  "kernelspec": {
   "display_name": "Python 3",
   "language": "python",
   "name": "python3"
  },
  "language_info": {
   "codemirror_mode": {
    "name": "ipython",
    "version": 3
   },
   "file_extension": ".py",
   "mimetype": "text/x-python",
   "name": "python",
   "nbconvert_exporter": "python",
   "pygments_lexer": "ipython3",
   "version": "3.7.3"
  }
 },
 "nbformat": 4,
 "nbformat_minor": 2
}
