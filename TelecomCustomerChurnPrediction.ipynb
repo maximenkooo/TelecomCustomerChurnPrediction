{
 "cells": [
  {
   "cell_type": "markdown",
   "metadata": {},
   "source": [
    "## Модель прогнозирования оттока клиентов"
   ]
  },
  {
   "cell_type": "markdown",
   "metadata": {},
   "source": [
    "Необходимо построить модель прогнозирования оттока клиентов по имеющимся признакам (колонка churn в файле – целевая переменная), кратко описать методику подготовки данных, построения модели и оценки её качества. Желательно провести анализ полученных результатов и оценить практическую применимость модели.\n",
    "Результат может быть представлен, например, в виде jupyter-ноутбука с кодом. Данные находятся по ссылке: https://opendatascience.slack.com/files/U710D2PPX/FK3DFV538/telco-customer-churn.csv"
   ]
  },
  {
   "cell_type": "code",
   "execution_count": 1,
   "metadata": {},
   "outputs": [
    {
     "data": {
      "text/html": [
       "        <script type=\"text/javascript\">\n",
       "        window.PlotlyConfig = {MathJaxConfig: 'local'};\n",
       "        if (window.MathJax) {MathJax.Hub.Config({SVG: {font: \"STIX-Web\"}});}\n",
       "        if (typeof require !== 'undefined') {\n",
       "        require.undef(\"plotly\");\n",
       "        requirejs.config({\n",
       "            paths: {\n",
       "                'plotly': ['https://cdn.plot.ly/plotly-latest.min']\n",
       "            }\n",
       "        });\n",
       "        require(['plotly'], function(Plotly) {\n",
       "            window._Plotly = Plotly;\n",
       "        });\n",
       "        }\n",
       "        </script>\n",
       "        "
      ]
     },
     "metadata": {},
     "output_type": "display_data"
    },
    {
     "data": {
      "text/html": [
       "        <script type=\"text/javascript\">\n",
       "        window.PlotlyConfig = {MathJaxConfig: 'local'};\n",
       "        if (window.MathJax) {MathJax.Hub.Config({SVG: {font: \"STIX-Web\"}});}\n",
       "        if (typeof require !== 'undefined') {\n",
       "        require.undef(\"plotly\");\n",
       "        requirejs.config({\n",
       "            paths: {\n",
       "                'plotly': ['https://cdn.plot.ly/plotly-latest.min']\n",
       "            }\n",
       "        });\n",
       "        require(['plotly'], function(Plotly) {\n",
       "            window._Plotly = Plotly;\n",
       "        });\n",
       "        }\n",
       "        </script>\n",
       "        "
      ]
     },
     "metadata": {},
     "output_type": "display_data"
    }
   ],
   "source": [
    "import pandas as pd\n",
    "import matplotlib.pyplot as plt\n",
    "import seaborn as sns\n",
    "import numpy as np\n",
    "from sklearn.preprocessing import StandardScaler \n",
    "from sklearn.model_selection import cross_val_score, StratifiedKFold, KFold, train_test_split, GridSearchCV\n",
    "\n",
    "from sklearn.tree import DecisionTreeClassifier \n",
    "from sklearn.svm import SVC\n",
    "from sklearn.ensemble import AdaBoostClassifier,BaggingClassifier,GradientBoostingClassifier,RandomForestClassifier\n",
    "from sklearn.neighbors import KNeighborsClassifier\n",
    "from sklearn.linear_model import RidgeClassifier,LogisticRegression \n",
    "from sklearn.metrics import accuracy_score,classification, confusion_matrix,classification_report,precision_score, recall_score, roc_auc_score \n",
    "import eli5\n",
    "import plotly.offline as py#visualization\n",
    "py.init_notebook_mode(connected=True)#visualization\n",
    "import plotly.graph_objs as go#visualization\n",
    "from plotly.offline import download_plotlyjs, init_notebook_mode, plot, iplot\n",
    "import plotly\n",
    "init_notebook_mode(connected=True)\n",
    "from IPython.display import Image\n",
    "\n",
    "from xgboost import XGBClassifier\n",
    "from lightgbm import LGBMClassifier\n",
    "# from sklearn import cr"
   ]
  },
  {
   "cell_type": "code",
   "execution_count": 2,
   "metadata": {},
   "outputs": [],
   "source": [
    "import sys\n",
    "import warnings\n",
    "\n",
    "if not sys.warnoptions:\n",
    "    warnings.simplefilter(\"ignore\")"
   ]
  },
  {
   "cell_type": "code",
   "execution_count": 3,
   "metadata": {},
   "outputs": [],
   "source": [
    "df = pd.read_csv('data/telco-customer-churn.csv')"
   ]
  },
  {
   "cell_type": "code",
   "execution_count": 4,
   "metadata": {},
   "outputs": [],
   "source": [
    "df = df.drop_duplicates(subset=df.columns)"
   ]
  },
  {
   "cell_type": "code",
   "execution_count": 5,
   "metadata": {},
   "outputs": [
    {
     "data": {
      "text/html": [
       "<div>\n",
       "<style scoped>\n",
       "    .dataframe tbody tr th:only-of-type {\n",
       "        vertical-align: middle;\n",
       "    }\n",
       "\n",
       "    .dataframe tbody tr th {\n",
       "        vertical-align: top;\n",
       "    }\n",
       "\n",
       "    .dataframe thead th {\n",
       "        text-align: right;\n",
       "    }\n",
       "</style>\n",
       "<table border=\"1\" class=\"dataframe\">\n",
       "  <thead>\n",
       "    <tr style=\"text-align: right;\">\n",
       "      <th></th>\n",
       "      <th>age</th>\n",
       "      <th>annualincome</th>\n",
       "      <th>calldroprate</th>\n",
       "      <th>callfailurerate</th>\n",
       "      <th>callingnum</th>\n",
       "      <th>customerid</th>\n",
       "      <th>customersuspended</th>\n",
       "      <th>education</th>\n",
       "      <th>gender</th>\n",
       "      <th>homeowner</th>\n",
       "      <th>...</th>\n",
       "      <th>totalminsusedinlastmonth</th>\n",
       "      <th>unpaidbalance</th>\n",
       "      <th>usesinternetservice</th>\n",
       "      <th>usesvoiceservice</th>\n",
       "      <th>percentagecalloutsidenetwork</th>\n",
       "      <th>totalcallduration</th>\n",
       "      <th>avgcallduration</th>\n",
       "      <th>churn</th>\n",
       "      <th>year</th>\n",
       "      <th>month</th>\n",
       "    </tr>\n",
       "  </thead>\n",
       "  <tbody>\n",
       "    <tr>\n",
       "      <th>0</th>\n",
       "      <td>12</td>\n",
       "      <td>168147</td>\n",
       "      <td>0.06</td>\n",
       "      <td>0.0</td>\n",
       "      <td>4251078442</td>\n",
       "      <td>1</td>\n",
       "      <td>Yes</td>\n",
       "      <td>Bachelor or equivalent</td>\n",
       "      <td>Male</td>\n",
       "      <td>Yes</td>\n",
       "      <td>...</td>\n",
       "      <td>15</td>\n",
       "      <td>19</td>\n",
       "      <td>No</td>\n",
       "      <td>No</td>\n",
       "      <td>0.82</td>\n",
       "      <td>5971</td>\n",
       "      <td>663</td>\n",
       "      <td>0</td>\n",
       "      <td>2015</td>\n",
       "      <td>1</td>\n",
       "    </tr>\n",
       "    <tr>\n",
       "      <th>1</th>\n",
       "      <td>12</td>\n",
       "      <td>168147</td>\n",
       "      <td>0.06</td>\n",
       "      <td>0.0</td>\n",
       "      <td>4251078442</td>\n",
       "      <td>1</td>\n",
       "      <td>Yes</td>\n",
       "      <td>Bachelor or equivalent</td>\n",
       "      <td>Male</td>\n",
       "      <td>Yes</td>\n",
       "      <td>...</td>\n",
       "      <td>15</td>\n",
       "      <td>19</td>\n",
       "      <td>No</td>\n",
       "      <td>No</td>\n",
       "      <td>0.82</td>\n",
       "      <td>3981</td>\n",
       "      <td>995</td>\n",
       "      <td>0</td>\n",
       "      <td>2015</td>\n",
       "      <td>2</td>\n",
       "    </tr>\n",
       "  </tbody>\n",
       "</table>\n",
       "<p>2 rows × 29 columns</p>\n",
       "</div>"
      ],
      "text/plain": [
       "   age  annualincome  calldroprate  callfailurerate  callingnum  customerid  \\\n",
       "0   12        168147          0.06              0.0  4251078442           1   \n",
       "1   12        168147          0.06              0.0  4251078442           1   \n",
       "\n",
       "  customersuspended               education gender homeowner  ...  \\\n",
       "0               Yes  Bachelor or equivalent   Male       Yes  ...   \n",
       "1               Yes  Bachelor or equivalent   Male       Yes  ...   \n",
       "\n",
       "  totalminsusedinlastmonth  unpaidbalance usesinternetservice  \\\n",
       "0                       15             19                  No   \n",
       "1                       15             19                  No   \n",
       "\n",
       "   usesvoiceservice  percentagecalloutsidenetwork  totalcallduration  \\\n",
       "0                No                          0.82               5971   \n",
       "1                No                          0.82               3981   \n",
       "\n",
       "  avgcallduration  churn  year  month  \n",
       "0             663      0  2015      1  \n",
       "1             995      0  2015      2  \n",
       "\n",
       "[2 rows x 29 columns]"
      ]
     },
     "execution_count": 5,
     "metadata": {},
     "output_type": "execute_result"
    }
   ],
   "source": [
    "df[(df.customerid == 1)]"
   ]
  },
  {
   "cell_type": "code",
   "execution_count": 6,
   "metadata": {},
   "outputs": [
    {
     "data": {
      "text/plain": [
       "(20468, 29)"
      ]
     },
     "execution_count": 6,
     "metadata": {},
     "output_type": "execute_result"
    }
   ],
   "source": [
    "df.shape"
   ]
  },
  {
   "cell_type": "code",
   "execution_count": 7,
   "metadata": {},
   "outputs": [
    {
     "data": {
      "text/html": [
       "<div>\n",
       "<style scoped>\n",
       "    .dataframe tbody tr th:only-of-type {\n",
       "        vertical-align: middle;\n",
       "    }\n",
       "\n",
       "    .dataframe tbody tr th {\n",
       "        vertical-align: top;\n",
       "    }\n",
       "\n",
       "    .dataframe thead th {\n",
       "        text-align: right;\n",
       "    }\n",
       "</style>\n",
       "<table border=\"1\" class=\"dataframe\">\n",
       "  <thead>\n",
       "    <tr style=\"text-align: right;\">\n",
       "      <th></th>\n",
       "      <th>age</th>\n",
       "      <th>annualincome</th>\n",
       "      <th>calldroprate</th>\n",
       "      <th>callfailurerate</th>\n",
       "      <th>callingnum</th>\n",
       "      <th>customerid</th>\n",
       "      <th>customersuspended</th>\n",
       "      <th>education</th>\n",
       "      <th>gender</th>\n",
       "      <th>homeowner</th>\n",
       "      <th>...</th>\n",
       "      <th>totalminsusedinlastmonth</th>\n",
       "      <th>unpaidbalance</th>\n",
       "      <th>usesinternetservice</th>\n",
       "      <th>usesvoiceservice</th>\n",
       "      <th>percentagecalloutsidenetwork</th>\n",
       "      <th>totalcallduration</th>\n",
       "      <th>avgcallduration</th>\n",
       "      <th>churn</th>\n",
       "      <th>year</th>\n",
       "      <th>month</th>\n",
       "    </tr>\n",
       "  </thead>\n",
       "  <tbody>\n",
       "    <tr>\n",
       "      <th>0</th>\n",
       "      <td>12</td>\n",
       "      <td>168147</td>\n",
       "      <td>0.06</td>\n",
       "      <td>0.00</td>\n",
       "      <td>4251078442</td>\n",
       "      <td>1</td>\n",
       "      <td>Yes</td>\n",
       "      <td>Bachelor or equivalent</td>\n",
       "      <td>Male</td>\n",
       "      <td>Yes</td>\n",
       "      <td>...</td>\n",
       "      <td>15</td>\n",
       "      <td>19</td>\n",
       "      <td>No</td>\n",
       "      <td>No</td>\n",
       "      <td>0.82</td>\n",
       "      <td>5971</td>\n",
       "      <td>663</td>\n",
       "      <td>0</td>\n",
       "      <td>2015</td>\n",
       "      <td>1</td>\n",
       "    </tr>\n",
       "    <tr>\n",
       "      <th>1</th>\n",
       "      <td>12</td>\n",
       "      <td>168147</td>\n",
       "      <td>0.06</td>\n",
       "      <td>0.00</td>\n",
       "      <td>4251078442</td>\n",
       "      <td>1</td>\n",
       "      <td>Yes</td>\n",
       "      <td>Bachelor or equivalent</td>\n",
       "      <td>Male</td>\n",
       "      <td>Yes</td>\n",
       "      <td>...</td>\n",
       "      <td>15</td>\n",
       "      <td>19</td>\n",
       "      <td>No</td>\n",
       "      <td>No</td>\n",
       "      <td>0.82</td>\n",
       "      <td>3981</td>\n",
       "      <td>995</td>\n",
       "      <td>0</td>\n",
       "      <td>2015</td>\n",
       "      <td>2</td>\n",
       "    </tr>\n",
       "    <tr>\n",
       "      <th>2</th>\n",
       "      <td>42</td>\n",
       "      <td>29047</td>\n",
       "      <td>0.05</td>\n",
       "      <td>0.01</td>\n",
       "      <td>4251043419</td>\n",
       "      <td>2</td>\n",
       "      <td>Yes</td>\n",
       "      <td>Bachelor or equivalent</td>\n",
       "      <td>Female</td>\n",
       "      <td>Yes</td>\n",
       "      <td>...</td>\n",
       "      <td>212</td>\n",
       "      <td>34</td>\n",
       "      <td>No</td>\n",
       "      <td>Yes</td>\n",
       "      <td>0.27</td>\n",
       "      <td>7379</td>\n",
       "      <td>737</td>\n",
       "      <td>0</td>\n",
       "      <td>2015</td>\n",
       "      <td>1</td>\n",
       "    </tr>\n",
       "    <tr>\n",
       "      <th>3</th>\n",
       "      <td>42</td>\n",
       "      <td>29047</td>\n",
       "      <td>0.05</td>\n",
       "      <td>0.01</td>\n",
       "      <td>4251043419</td>\n",
       "      <td>2</td>\n",
       "      <td>Yes</td>\n",
       "      <td>Bachelor or equivalent</td>\n",
       "      <td>Female</td>\n",
       "      <td>Yes</td>\n",
       "      <td>...</td>\n",
       "      <td>212</td>\n",
       "      <td>34</td>\n",
       "      <td>No</td>\n",
       "      <td>Yes</td>\n",
       "      <td>0.27</td>\n",
       "      <td>1729</td>\n",
       "      <td>432</td>\n",
       "      <td>0</td>\n",
       "      <td>2015</td>\n",
       "      <td>2</td>\n",
       "    </tr>\n",
       "    <tr>\n",
       "      <th>4</th>\n",
       "      <td>58</td>\n",
       "      <td>27076</td>\n",
       "      <td>0.07</td>\n",
       "      <td>0.02</td>\n",
       "      <td>4251055773</td>\n",
       "      <td>3</td>\n",
       "      <td>Yes</td>\n",
       "      <td>Master or equivalent</td>\n",
       "      <td>Female</td>\n",
       "      <td>Yes</td>\n",
       "      <td>...</td>\n",
       "      <td>216</td>\n",
       "      <td>144</td>\n",
       "      <td>No</td>\n",
       "      <td>No</td>\n",
       "      <td>0.48</td>\n",
       "      <td>3122</td>\n",
       "      <td>624</td>\n",
       "      <td>0</td>\n",
       "      <td>2015</td>\n",
       "      <td>1</td>\n",
       "    </tr>\n",
       "  </tbody>\n",
       "</table>\n",
       "<p>5 rows × 29 columns</p>\n",
       "</div>"
      ],
      "text/plain": [
       "   age  annualincome  calldroprate  callfailurerate  callingnum  customerid  \\\n",
       "0   12        168147          0.06             0.00  4251078442           1   \n",
       "1   12        168147          0.06             0.00  4251078442           1   \n",
       "2   42         29047          0.05             0.01  4251043419           2   \n",
       "3   42         29047          0.05             0.01  4251043419           2   \n",
       "4   58         27076          0.07             0.02  4251055773           3   \n",
       "\n",
       "  customersuspended               education  gender homeowner  ...  \\\n",
       "0               Yes  Bachelor or equivalent    Male       Yes  ...   \n",
       "1               Yes  Bachelor or equivalent    Male       Yes  ...   \n",
       "2               Yes  Bachelor or equivalent  Female       Yes  ...   \n",
       "3               Yes  Bachelor or equivalent  Female       Yes  ...   \n",
       "4               Yes    Master or equivalent  Female       Yes  ...   \n",
       "\n",
       "  totalminsusedinlastmonth  unpaidbalance usesinternetservice  \\\n",
       "0                       15             19                  No   \n",
       "1                       15             19                  No   \n",
       "2                      212             34                  No   \n",
       "3                      212             34                  No   \n",
       "4                      216            144                  No   \n",
       "\n",
       "   usesvoiceservice  percentagecalloutsidenetwork  totalcallduration  \\\n",
       "0                No                          0.82               5971   \n",
       "1                No                          0.82               3981   \n",
       "2               Yes                          0.27               7379   \n",
       "3               Yes                          0.27               1729   \n",
       "4                No                          0.48               3122   \n",
       "\n",
       "  avgcallduration  churn  year  month  \n",
       "0             663      0  2015      1  \n",
       "1             995      0  2015      2  \n",
       "2             737      0  2015      1  \n",
       "3             432      0  2015      2  \n",
       "4             624      0  2015      1  \n",
       "\n",
       "[5 rows x 29 columns]"
      ]
     },
     "execution_count": 7,
     "metadata": {},
     "output_type": "execute_result"
    }
   ],
   "source": [
    "df.head()"
   ]
  },
  {
   "cell_type": "markdown",
   "metadata": {},
   "source": [
    "### Analysis"
   ]
  },
  {
   "cell_type": "code",
   "execution_count": 8,
   "metadata": {},
   "outputs": [
    {
     "name": "stdout",
     "output_type": "stream",
     "text": [
      "<class 'pandas.core.frame.DataFrame'>\n",
      "Int64Index: 20468 entries, 0 to 20467\n",
      "Data columns (total 29 columns):\n",
      "age                                     20468 non-null int64\n",
      "annualincome                            20468 non-null int64\n",
      "calldroprate                            20468 non-null float64\n",
      "callfailurerate                         20468 non-null float64\n",
      "callingnum                              20468 non-null int64\n",
      "customerid                              20468 non-null int64\n",
      "customersuspended                       20468 non-null object\n",
      "education                               20468 non-null object\n",
      "gender                                  20468 non-null object\n",
      "homeowner                               20468 non-null object\n",
      "maritalstatus                           20468 non-null object\n",
      "monthlybilledamount                     20468 non-null int64\n",
      "noadditionallines                       20468 non-null object\n",
      "numberofcomplaints                      20468 non-null int64\n",
      "numberofmonthunpaid                     20468 non-null int64\n",
      "numdayscontractequipmentplanexpiring    20468 non-null int64\n",
      "occupation                              20468 non-null object\n",
      "penaltytoswitch                         20468 non-null int64\n",
      "state                                   20468 non-null object\n",
      "totalminsusedinlastmonth                20468 non-null int64\n",
      "unpaidbalance                           20468 non-null int64\n",
      "usesinternetservice                     20468 non-null object\n",
      "usesvoiceservice                        20468 non-null object\n",
      "percentagecalloutsidenetwork            20468 non-null float64\n",
      "totalcallduration                       20468 non-null int64\n",
      "avgcallduration                         20468 non-null int64\n",
      "churn                                   20468 non-null int64\n",
      "year                                    20468 non-null int64\n",
      "month                                   20468 non-null int64\n",
      "dtypes: float64(3), int64(16), object(10)\n",
      "memory usage: 4.7+ MB\n"
     ]
    }
   ],
   "source": [
    "df.info()"
   ]
  },
  {
   "cell_type": "code",
   "execution_count": 9,
   "metadata": {},
   "outputs": [
    {
     "name": "stdout",
     "output_type": "stream",
     "text": [
      "\n",
      "Features : \n",
      " ['age', 'annualincome', 'calldroprate', 'callfailurerate', 'callingnum', 'customerid', 'customersuspended', 'education', 'gender', 'homeowner', 'maritalstatus', 'monthlybilledamount', 'noadditionallines', 'numberofcomplaints', 'numberofmonthunpaid', 'numdayscontractequipmentplanexpiring', 'occupation', 'penaltytoswitch', 'state', 'totalminsusedinlastmonth', 'unpaidbalance', 'usesinternetservice', 'usesvoiceservice', 'percentagecalloutsidenetwork', 'totalcallduration', 'avgcallduration', 'churn', 'year', 'month']\n",
      "\n",
      "Missing values :   0\n",
      "\n",
      "Unique values :  \n",
      " age                                       68\n",
      "annualincome                            9508\n",
      "calldroprate                               8\n",
      "callfailurerate                            4\n",
      "callingnum                              9525\n",
      "customerid                              9525\n",
      "customersuspended                          2\n",
      "education                                  4\n",
      "gender                                     2\n",
      "homeowner                                  2\n",
      "maritalstatus                              2\n",
      "monthlybilledamount                      120\n",
      "noadditionallines                          1\n",
      "numberofcomplaints                         4\n",
      "numberofmonthunpaid                        8\n",
      "numdayscontractequipmentplanexpiring     100\n",
      "occupation                                 3\n",
      "penaltytoswitch                          500\n",
      "state                                     50\n",
      "totalminsusedinlastmonth                 500\n",
      "unpaidbalance                            250\n",
      "usesinternetservice                        2\n",
      "usesvoiceservice                           2\n",
      "percentagecalloutsidenetwork             100\n",
      "totalcallduration                       7147\n",
      "avgcallduration                         1359\n",
      "churn                                      2\n",
      "year                                       1\n",
      "month                                      3\n",
      "dtype: int64\n"
     ]
    }
   ],
   "source": [
    "print (\"\\nFeatures : \\n\" ,df.columns.tolist())\n",
    "print (\"\\nMissing values :  \", df.isnull().sum().values.sum())\n",
    "print (\"\\nUnique values :  \\n\",df.nunique())"
   ]
  },
  {
   "cell_type": "code",
   "execution_count": 10,
   "metadata": {},
   "outputs": [
    {
     "data": {
      "text/plain": [
       "<matplotlib.axes._subplots.AxesSubplot at 0x7f743dd6ae10>"
      ]
     },
     "execution_count": 10,
     "metadata": {},
     "output_type": "execute_result"
    },
    {
     "data": {
      "image/png": "[encoded data removed]",
      "text/plain": [
       "<Figure size 432x288 with 1 Axes>"
      ]
     },
     "metadata": {
      "needs_background": "light"
     },
     "output_type": "display_data"
    }
   ],
   "source": [
    "df.groupby('churn').size().plot(kind='bar')"
   ]
  },
  {
   "cell_type": "code",
   "execution_count": 11,
   "metadata": {},
   "outputs": [
    {
     "name": "stdout",
     "output_type": "stream",
     "text": [
      "Churn Percentage = 9.10201289818253\n"
     ]
    }
   ],
   "source": [
    "y_True = df[(df.churn == 1)]\n",
    "print (\"Churn Percentage = \"+str( (y_True.shape[0] / df[\"churn\"].shape[0]) * 100 ))"
   ]
  },
  {
   "cell_type": "code",
   "execution_count": 12,
   "metadata": {},
   "outputs": [
    {
     "data": {
      "text/html": [
       "<div>\n",
       "<style scoped>\n",
       "    .dataframe tbody tr th:only-of-type {\n",
       "        vertical-align: middle;\n",
       "    }\n",
       "\n",
       "    .dataframe tbody tr th {\n",
       "        vertical-align: top;\n",
       "    }\n",
       "\n",
       "    .dataframe thead th {\n",
       "        text-align: right;\n",
       "    }\n",
       "</style>\n",
       "<table border=\"1\" class=\"dataframe\">\n",
       "  <thead>\n",
       "    <tr style=\"text-align: right;\">\n",
       "      <th></th>\n",
       "      <th>age</th>\n",
       "      <th>annualincome</th>\n",
       "      <th>calldroprate</th>\n",
       "      <th>callfailurerate</th>\n",
       "      <th>callingnum</th>\n",
       "      <th>customerid</th>\n",
       "      <th>monthlybilledamount</th>\n",
       "      <th>numberofcomplaints</th>\n",
       "      <th>numberofmonthunpaid</th>\n",
       "      <th>numdayscontractequipmentplanexpiring</th>\n",
       "      <th>penaltytoswitch</th>\n",
       "      <th>totalminsusedinlastmonth</th>\n",
       "      <th>unpaidbalance</th>\n",
       "      <th>percentagecalloutsidenetwork</th>\n",
       "      <th>totalcallduration</th>\n",
       "      <th>avgcallduration</th>\n",
       "      <th>churn</th>\n",
       "      <th>year</th>\n",
       "      <th>month</th>\n",
       "    </tr>\n",
       "  </thead>\n",
       "  <tbody>\n",
       "    <tr>\n",
       "      <th>count</th>\n",
       "      <td>20468.000000</td>\n",
       "      <td>20468.000000</td>\n",
       "      <td>20468.000000</td>\n",
       "      <td>20468.000000</td>\n",
       "      <td>2.046800e+04</td>\n",
       "      <td>20468.000000</td>\n",
       "      <td>20468.000000</td>\n",
       "      <td>20468.000000</td>\n",
       "      <td>20468.000000</td>\n",
       "      <td>20468.000000</td>\n",
       "      <td>20468.000000</td>\n",
       "      <td>20468.000000</td>\n",
       "      <td>20468.000000</td>\n",
       "      <td>20468.000000</td>\n",
       "      <td>20468.000000</td>\n",
       "      <td>20468.000000</td>\n",
       "      <td>20468.000000</td>\n",
       "      <td>20468.0</td>\n",
       "      <td>20468.000000</td>\n",
       "    </tr>\n",
       "    <tr>\n",
       "      <th>mean</th>\n",
       "      <td>45.334327</td>\n",
       "      <td>124446.818253</td>\n",
       "      <td>0.035021</td>\n",
       "      <td>0.015239</td>\n",
       "      <td>4.220203e+09</td>\n",
       "      <td>4757.953342</td>\n",
       "      <td>59.630252</td>\n",
       "      <td>1.499169</td>\n",
       "      <td>3.489252</td>\n",
       "      <td>49.366816</td>\n",
       "      <td>248.792603</td>\n",
       "      <td>249.740522</td>\n",
       "      <td>126.656879</td>\n",
       "      <td>0.496528</td>\n",
       "      <td>3521.696306</td>\n",
       "      <td>721.521057</td>\n",
       "      <td>0.091020</td>\n",
       "      <td>2015.0</td>\n",
       "      <td>1.611687</td>\n",
       "    </tr>\n",
       "    <tr>\n",
       "      <th>std</th>\n",
       "      <td>19.624577</td>\n",
       "      <td>72129.392001</td>\n",
       "      <td>0.022996</td>\n",
       "      <td>0.011213</td>\n",
       "      <td>3.365196e+08</td>\n",
       "      <td>2751.070062</td>\n",
       "      <td>34.652681</td>\n",
       "      <td>1.119153</td>\n",
       "      <td>2.289740</td>\n",
       "      <td>28.874138</td>\n",
       "      <td>144.247247</td>\n",
       "      <td>144.198066</td>\n",
       "      <td>70.367800</td>\n",
       "      <td>0.288220</td>\n",
       "      <td>1959.642260</td>\n",
       "      <td>225.677596</td>\n",
       "      <td>0.287645</td>\n",
       "      <td>0.0</td>\n",
       "      <td>0.621895</td>\n",
       "    </tr>\n",
       "    <tr>\n",
       "      <th>min</th>\n",
       "      <td>12.000000</td>\n",
       "      <td>4.000000</td>\n",
       "      <td>0.000000</td>\n",
       "      <td>0.000000</td>\n",
       "      <td>1.022955e+08</td>\n",
       "      <td>1.000000</td>\n",
       "      <td>0.000000</td>\n",
       "      <td>0.000000</td>\n",
       "      <td>0.000000</td>\n",
       "      <td>0.000000</td>\n",
       "      <td>0.000000</td>\n",
       "      <td>0.000000</td>\n",
       "      <td>0.000000</td>\n",
       "      <td>0.000000</td>\n",
       "      <td>0.000000</td>\n",
       "      <td>0.000000</td>\n",
       "      <td>0.000000</td>\n",
       "      <td>2015.0</td>\n",
       "      <td>1.000000</td>\n",
       "    </tr>\n",
       "    <tr>\n",
       "      <th>25%</th>\n",
       "      <td>28.000000</td>\n",
       "      <td>61898.000000</td>\n",
       "      <td>0.010000</td>\n",
       "      <td>0.010000</td>\n",
       "      <td>4.251031e+09</td>\n",
       "      <td>2372.750000</td>\n",
       "      <td>29.000000</td>\n",
       "      <td>0.000000</td>\n",
       "      <td>1.000000</td>\n",
       "      <td>24.000000</td>\n",
       "      <td>124.000000</td>\n",
       "      <td>126.000000</td>\n",
       "      <td>66.000000</td>\n",
       "      <td>0.250000</td>\n",
       "      <td>2047.750000</td>\n",
       "      <td>582.000000</td>\n",
       "      <td>0.000000</td>\n",
       "      <td>2015.0</td>\n",
       "      <td>1.000000</td>\n",
       "    </tr>\n",
       "    <tr>\n",
       "      <th>50%</th>\n",
       "      <td>45.000000</td>\n",
       "      <td>123689.500000</td>\n",
       "      <td>0.040000</td>\n",
       "      <td>0.020000</td>\n",
       "      <td>4.251054e+09</td>\n",
       "      <td>4754.000000</td>\n",
       "      <td>60.000000</td>\n",
       "      <td>2.000000</td>\n",
       "      <td>3.000000</td>\n",
       "      <td>49.000000</td>\n",
       "      <td>249.000000</td>\n",
       "      <td>249.000000</td>\n",
       "      <td>122.000000</td>\n",
       "      <td>0.500000</td>\n",
       "      <td>3365.000000</td>\n",
       "      <td>721.000000</td>\n",
       "      <td>0.000000</td>\n",
       "      <td>2015.0</td>\n",
       "      <td>2.000000</td>\n",
       "    </tr>\n",
       "    <tr>\n",
       "      <th>75%</th>\n",
       "      <td>62.000000</td>\n",
       "      <td>187065.250000</td>\n",
       "      <td>0.060000</td>\n",
       "      <td>0.030000</td>\n",
       "      <td>4.251077e+09</td>\n",
       "      <td>7141.250000</td>\n",
       "      <td>90.000000</td>\n",
       "      <td>3.000000</td>\n",
       "      <td>5.000000</td>\n",
       "      <td>74.000000</td>\n",
       "      <td>373.000000</td>\n",
       "      <td>374.000000</td>\n",
       "      <td>191.000000</td>\n",
       "      <td>0.750000</td>\n",
       "      <td>4786.250000</td>\n",
       "      <td>862.000000</td>\n",
       "      <td>0.000000</td>\n",
       "      <td>2015.0</td>\n",
       "      <td>2.000000</td>\n",
       "    </tr>\n",
       "    <tr>\n",
       "      <th>max</th>\n",
       "      <td>79.000000</td>\n",
       "      <td>249987.000000</td>\n",
       "      <td>0.070000</td>\n",
       "      <td>0.030000</td>\n",
       "      <td>4.251100e+09</td>\n",
       "      <td>9525.000000</td>\n",
       "      <td>119.000000</td>\n",
       "      <td>3.000000</td>\n",
       "      <td>7.000000</td>\n",
       "      <td>99.000000</td>\n",
       "      <td>499.000000</td>\n",
       "      <td>499.000000</td>\n",
       "      <td>249.000000</td>\n",
       "      <td>0.990000</td>\n",
       "      <td>16662.000000</td>\n",
       "      <td>1439.000000</td>\n",
       "      <td>1.000000</td>\n",
       "      <td>2015.0</td>\n",
       "      <td>3.000000</td>\n",
       "    </tr>\n",
       "  </tbody>\n",
       "</table>\n",
       "</div>"
      ],
      "text/plain": [
       "                age   annualincome  calldroprate  callfailurerate  \\\n",
       "count  20468.000000   20468.000000  20468.000000     20468.000000   \n",
       "mean      45.334327  124446.818253      0.035021         0.015239   \n",
       "std       19.624577   72129.392001      0.022996         0.011213   \n",
       "min       12.000000       4.000000      0.000000         0.000000   \n",
       "25%       28.000000   61898.000000      0.010000         0.010000   \n",
       "50%       45.000000  123689.500000      0.040000         0.020000   \n",
       "75%       62.000000  187065.250000      0.060000         0.030000   \n",
       "max       79.000000  249987.000000      0.070000         0.030000   \n",
       "\n",
       "         callingnum    customerid  monthlybilledamount  numberofcomplaints  \\\n",
       "count  2.046800e+04  20468.000000         20468.000000        20468.000000   \n",
       "mean   4.220203e+09   4757.953342            59.630252            1.499169   \n",
       "std    3.365196e+08   2751.070062            34.652681            1.119153   \n",
       "min    1.022955e+08      1.000000             0.000000            0.000000   \n",
       "25%    4.251031e+09   2372.750000            29.000000            0.000000   \n",
       "50%    4.251054e+09   4754.000000            60.000000            2.000000   \n",
       "75%    4.251077e+09   7141.250000            90.000000            3.000000   \n",
       "max    4.251100e+09   9525.000000           119.000000            3.000000   \n",
       "\n",
       "       numberofmonthunpaid  numdayscontractequipmentplanexpiring  \\\n",
       "count         20468.000000                          20468.000000   \n",
       "mean              3.489252                             49.366816   \n",
       "std               2.289740                             28.874138   \n",
       "min               0.000000                              0.000000   \n",
       "25%               1.000000                             24.000000   \n",
       "50%               3.000000                             49.000000   \n",
       "75%               5.000000                             74.000000   \n",
       "max               7.000000                             99.000000   \n",
       "\n",
       "       penaltytoswitch  totalminsusedinlastmonth  unpaidbalance  \\\n",
       "count     20468.000000              20468.000000   20468.000000   \n",
       "mean        248.792603                249.740522     126.656879   \n",
       "std         144.247247                144.198066      70.367800   \n",
       "min           0.000000                  0.000000       0.000000   \n",
       "25%         124.000000                126.000000      66.000000   \n",
       "50%         249.000000                249.000000     122.000000   \n",
       "75%         373.000000                374.000000     191.000000   \n",
       "max         499.000000                499.000000     249.000000   \n",
       "\n",
       "       percentagecalloutsidenetwork  totalcallduration  avgcallduration  \\\n",
       "count                  20468.000000       20468.000000     20468.000000   \n",
       "mean                       0.496528        3521.696306       721.521057   \n",
       "std                        0.288220        1959.642260       225.677596   \n",
       "min                        0.000000           0.000000         0.000000   \n",
       "25%                        0.250000        2047.750000       582.000000   \n",
       "50%                        0.500000        3365.000000       721.000000   \n",
       "75%                        0.750000        4786.250000       862.000000   \n",
       "max                        0.990000       16662.000000      1439.000000   \n",
       "\n",
       "              churn     year         month  \n",
       "count  20468.000000  20468.0  20468.000000  \n",
       "mean       0.091020   2015.0      1.611687  \n",
       "std        0.287645      0.0      0.621895  \n",
       "min        0.000000   2015.0      1.000000  \n",
       "25%        0.000000   2015.0      1.000000  \n",
       "50%        0.000000   2015.0      2.000000  \n",
       "75%        0.000000   2015.0      2.000000  \n",
       "max        1.000000   2015.0      3.000000  "
      ]
     },
     "execution_count": 12,
     "metadata": {},
     "output_type": "execute_result"
    }
   ],
   "source": [
    "df.describe()"
   ]
  },
  {
   "cell_type": "code",
   "execution_count": 13,
   "metadata": {},
   "outputs": [
    {
     "data": {
      "text/plain": [
       "<matplotlib.axes._subplots.AxesSubplot at 0x7f743dc3dda0>"
      ]
     },
     "execution_count": 13,
     "metadata": {},
     "output_type": "execute_result"
    },
    {
     "data": {
      "image/png": "[encoded data removed]",
      "text/plain": [
       "<Figure size 1080x648 with 2 Axes>"
      ]
     },
     "metadata": {
      "needs_background": "light"
     },
     "output_type": "display_data"
    }
   ],
   "source": [
    "corr_matrix = df.corr().round(2)\n",
    "fig, ax = plt.subplots()\n",
    "fig.set_size_inches(15, 9)\n",
    "sns.heatmap(corr_matrix,annot=True)"
   ]
  },
  {
   "cell_type": "markdown",
   "metadata": {},
   "source": [
    "Величины с наибольшей корреляцией между churn и age"
   ]
  },
  {
   "cell_type": "code",
   "execution_count": 14,
   "metadata": {},
   "outputs": [
    {
     "data": {
      "text/plain": [
       "array([2015])"
      ]
     },
     "execution_count": 14,
     "metadata": {},
     "output_type": "execute_result"
    }
   ],
   "source": [
    "df.year.unique()"
   ]
  },
  {
   "cell_type": "markdown",
   "metadata": {},
   "source": [
    "Признак year бесполезен"
   ]
  },
  {
   "cell_type": "code",
   "execution_count": 15,
   "metadata": {},
   "outputs": [],
   "source": [
    "df = df.drop(columns='year')"
   ]
  },
  {
   "cell_type": "code",
   "execution_count": 16,
   "metadata": {},
   "outputs": [
    {
     "data": {
      "text/plain": [
       "\\N    20468\n",
       "Name: noadditionallines, dtype: int64"
      ]
     },
     "execution_count": 16,
     "metadata": {},
     "output_type": "execute_result"
    }
   ],
   "source": [
    "df.noadditionallines.value_counts()"
   ]
  },
  {
   "cell_type": "code",
   "execution_count": 17,
   "metadata": {},
   "outputs": [],
   "source": [
    "df = df.drop(columns='noadditionallines')"
   ]
  },
  {
   "cell_type": "markdown",
   "metadata": {},
   "source": [
    "И noadditionallines тоже"
   ]
  },
  {
   "cell_type": "code",
   "execution_count": 18,
   "metadata": {},
   "outputs": [
    {
     "data": {
      "text/plain": [
       "<matplotlib.axes._subplots.AxesSubplot at 0x7f743b6e2a20>"
      ]
     },
     "execution_count": 18,
     "metadata": {},
     "output_type": "execute_result"
    },
    {
     "data": {
      "image/png": "[encoded data removed]",
      "text/plain": [
       "<Figure size 432x288 with 1 Axes>"
      ]
     },
     "metadata": {
      "needs_background": "light"
     },
     "output_type": "display_data"
    }
   ],
   "source": [
    "df.age.value_counts().hist()"
   ]
  },
  {
   "cell_type": "code",
   "execution_count": 19,
   "metadata": {},
   "outputs": [
    {
     "data": {
      "text/plain": [
       "<matplotlib.axes._subplots.AxesSubplot at 0x7f743b6498d0>"
      ]
     },
     "execution_count": 19,
     "metadata": {},
     "output_type": "execute_result"
    },
    {
     "data": {
      "image/png": "[encoded data removed]",
      "text/plain": [
       "<Figure size 432x288 with 1 Axes>"
      ]
     },
     "metadata": {
      "needs_background": "light"
     },
     "output_type": "display_data"
    }
   ],
   "source": [
    "sns.boxplot(df.age)"
   ]
  },
  {
   "cell_type": "code",
   "execution_count": 20,
   "metadata": {},
   "outputs": [
    {
     "data": {
      "text/plain": [
       "20    326\n",
       "18    322\n",
       "37    320\n",
       "58    319\n",
       "44    318\n",
       "Name: age, dtype: int64"
      ]
     },
     "execution_count": 20,
     "metadata": {},
     "output_type": "execute_result"
    }
   ],
   "source": [
    "df.age.value_counts().sort_values(ascending=False).head()"
   ]
  },
  {
   "cell_type": "markdown",
   "metadata": {},
   "source": [
    "Возраст клиентов в среднем распределен равномерно"
   ]
  },
  {
   "cell_type": "markdown",
   "metadata": {},
   "source": [
    "**Cколько в среднем в течение месяца разговаривают по телефону нелояльные пользователи?**"
   ]
  },
  {
   "cell_type": "code",
   "execution_count": 21,
   "metadata": {},
   "outputs": [
    {
     "data": {
      "text/plain": [
       "720.179817498658"
      ]
     },
     "execution_count": 21,
     "metadata": {},
     "output_type": "execute_result"
    }
   ],
   "source": [
    "df[df['churn'] == 1]['avgcallduration'].mean()"
   ]
  },
  {
   "cell_type": "markdown",
   "metadata": {},
   "source": [
    "А лояльные?"
   ]
  },
  {
   "cell_type": "code",
   "execution_count": 22,
   "metadata": {},
   "outputs": [
    {
     "data": {
      "text/plain": [
       "721.6553614619726"
      ]
     },
     "execution_count": 22,
     "metadata": {},
     "output_type": "execute_result"
    }
   ],
   "source": [
    "df[df['churn'] == 0]['avgcallduration'].mean()"
   ]
  },
  {
   "cell_type": "markdown",
   "metadata": {},
   "source": [
    "**Признак – \"Число жалоб\" (numberofcomplaints)**"
   ]
  },
  {
   "cell_type": "code",
   "execution_count": 23,
   "metadata": {},
   "outputs": [
    {
     "data": {
      "text/html": [
       "<div>\n",
       "<style scoped>\n",
       "    .dataframe tbody tr th:only-of-type {\n",
       "        vertical-align: middle;\n",
       "    }\n",
       "\n",
       "    .dataframe tbody tr th {\n",
       "        vertical-align: top;\n",
       "    }\n",
       "\n",
       "    .dataframe thead th {\n",
       "        text-align: right;\n",
       "    }\n",
       "</style>\n",
       "<table border=\"1\" class=\"dataframe\">\n",
       "  <thead>\n",
       "    <tr style=\"text-align: right;\">\n",
       "      <th>numberofcomplaints</th>\n",
       "      <th>0</th>\n",
       "      <th>1</th>\n",
       "      <th>2</th>\n",
       "      <th>3</th>\n",
       "      <th>All</th>\n",
       "    </tr>\n",
       "    <tr>\n",
       "      <th>churn</th>\n",
       "      <th></th>\n",
       "      <th></th>\n",
       "      <th></th>\n",
       "      <th></th>\n",
       "      <th></th>\n",
       "    </tr>\n",
       "  </thead>\n",
       "  <tbody>\n",
       "    <tr>\n",
       "      <th>0</th>\n",
       "      <td>4716</td>\n",
       "      <td>4711</td>\n",
       "      <td>4713</td>\n",
       "      <td>4465</td>\n",
       "      <td>18605</td>\n",
       "    </tr>\n",
       "    <tr>\n",
       "      <th>1</th>\n",
       "      <td>425</td>\n",
       "      <td>376</td>\n",
       "      <td>409</td>\n",
       "      <td>653</td>\n",
       "      <td>1863</td>\n",
       "    </tr>\n",
       "    <tr>\n",
       "      <th>All</th>\n",
       "      <td>5141</td>\n",
       "      <td>5087</td>\n",
       "      <td>5122</td>\n",
       "      <td>5118</td>\n",
       "      <td>20468</td>\n",
       "    </tr>\n",
       "  </tbody>\n",
       "</table>\n",
       "</div>"
      ],
      "text/plain": [
       "numberofcomplaints     0     1     2     3    All\n",
       "churn                                            \n",
       "0                   4716  4711  4713  4465  18605\n",
       "1                    425   376   409   653   1863\n",
       "All                 5141  5087  5122  5118  20468"
      ]
     },
     "execution_count": 23,
     "metadata": {},
     "output_type": "execute_result"
    }
   ],
   "source": [
    "pd.crosstab(df['churn'], df['numberofcomplaints'], margins=True)"
   ]
  },
  {
   "cell_type": "code",
   "execution_count": 24,
   "metadata": {},
   "outputs": [
    {
     "data": {
      "text/plain": [
       "<matplotlib.axes._subplots.AxesSubplot at 0x7f7439daa7f0>"
      ]
     },
     "execution_count": 24,
     "metadata": {},
     "output_type": "execute_result"
    },
    {
     "data": {
      "image/png": "[encoded data removed]",
      "text/plain": [
       "<Figure size 432x288 with 1 Axes>"
      ]
     },
     "metadata": {
      "needs_background": "light"
     },
     "output_type": "display_data"
    }
   ],
   "source": [
    "pd.crosstab(df['churn'], df['numberofcomplaints']).plot(kind='bar')"
   ]
  },
  {
   "cell_type": "markdown",
   "metadata": {},
   "source": [
    "Число  недовольных клиентов, которые отказались от услуг, больше с каждым последующим звонком, начиная с 2."
   ]
  },
  {
   "cell_type": "markdown",
   "metadata": {},
   "source": [
    "**Признак – \"Число неоплаченных месяцев\" (numberofmonthunpaid)**"
   ]
  },
  {
   "cell_type": "code",
   "execution_count": 25,
   "metadata": {},
   "outputs": [
    {
     "data": {
      "text/html": [
       "<div>\n",
       "<style scoped>\n",
       "    .dataframe tbody tr th:only-of-type {\n",
       "        vertical-align: middle;\n",
       "    }\n",
       "\n",
       "    .dataframe tbody tr th {\n",
       "        vertical-align: top;\n",
       "    }\n",
       "\n",
       "    .dataframe thead th {\n",
       "        text-align: right;\n",
       "    }\n",
       "</style>\n",
       "<table border=\"1\" class=\"dataframe\">\n",
       "  <thead>\n",
       "    <tr style=\"text-align: right;\">\n",
       "      <th>numberofmonthunpaid</th>\n",
       "      <th>0</th>\n",
       "      <th>1</th>\n",
       "      <th>2</th>\n",
       "      <th>3</th>\n",
       "      <th>4</th>\n",
       "      <th>5</th>\n",
       "      <th>6</th>\n",
       "      <th>7</th>\n",
       "      <th>All</th>\n",
       "    </tr>\n",
       "    <tr>\n",
       "      <th>churn</th>\n",
       "      <th></th>\n",
       "      <th></th>\n",
       "      <th></th>\n",
       "      <th></th>\n",
       "      <th></th>\n",
       "      <th></th>\n",
       "      <th></th>\n",
       "      <th></th>\n",
       "      <th></th>\n",
       "    </tr>\n",
       "  </thead>\n",
       "  <tbody>\n",
       "    <tr>\n",
       "      <th>0</th>\n",
       "      <td>2352</td>\n",
       "      <td>2312</td>\n",
       "      <td>2333</td>\n",
       "      <td>2387</td>\n",
       "      <td>2280</td>\n",
       "      <td>2368</td>\n",
       "      <td>2263</td>\n",
       "      <td>2310</td>\n",
       "      <td>18605</td>\n",
       "    </tr>\n",
       "    <tr>\n",
       "      <th>1</th>\n",
       "      <td>233</td>\n",
       "      <td>244</td>\n",
       "      <td>213</td>\n",
       "      <td>213</td>\n",
       "      <td>240</td>\n",
       "      <td>249</td>\n",
       "      <td>240</td>\n",
       "      <td>231</td>\n",
       "      <td>1863</td>\n",
       "    </tr>\n",
       "    <tr>\n",
       "      <th>All</th>\n",
       "      <td>2585</td>\n",
       "      <td>2556</td>\n",
       "      <td>2546</td>\n",
       "      <td>2600</td>\n",
       "      <td>2520</td>\n",
       "      <td>2617</td>\n",
       "      <td>2503</td>\n",
       "      <td>2541</td>\n",
       "      <td>20468</td>\n",
       "    </tr>\n",
       "  </tbody>\n",
       "</table>\n",
       "</div>"
      ],
      "text/plain": [
       "numberofmonthunpaid     0     1     2     3     4     5     6     7    All\n",
       "churn                                                                     \n",
       "0                    2352  2312  2333  2387  2280  2368  2263  2310  18605\n",
       "1                     233   244   213   213   240   249   240   231   1863\n",
       "All                  2585  2556  2546  2600  2520  2617  2503  2541  20468"
      ]
     },
     "execution_count": 25,
     "metadata": {},
     "output_type": "execute_result"
    }
   ],
   "source": [
    "pd.crosstab(df['churn'], df['numberofmonthunpaid'], margins=True)"
   ]
  },
  {
   "cell_type": "code",
   "execution_count": 26,
   "metadata": {},
   "outputs": [
    {
     "data": {
      "text/plain": [
       "<matplotlib.axes._subplots.AxesSubplot at 0x7f7439ce2390>"
      ]
     },
     "execution_count": 26,
     "metadata": {},
     "output_type": "execute_result"
    },
    {
     "data": {
      "image/png": "[encoded data removed]",
      "text/plain": [
       "<Figure size 432x288 with 1 Axes>"
      ]
     },
     "metadata": {
      "needs_background": "light"
     },
     "output_type": "display_data"
    }
   ],
   "source": [
    "pd.crosstab(df['churn'], df['numberofmonthunpaid']).plot(kind='bar')"
   ]
  },
  {
   "cell_type": "markdown",
   "metadata": {},
   "source": [
    "В наших данных в среднем равномерно растределено как для клиентов, отказавшихся от услуг, так и для тех, кто не отказался."
   ]
  },
  {
   "cell_type": "markdown",
   "metadata": {},
   "source": [
    "**Признак - \"Процент зафэйленых  звонков\" (наверно, по причине оператора)**"
   ]
  },
  {
   "cell_type": "code",
   "execution_count": 27,
   "metadata": {},
   "outputs": [
    {
     "data": {
      "text/html": [
       "<div>\n",
       "<style scoped>\n",
       "    .dataframe tbody tr th:only-of-type {\n",
       "        vertical-align: middle;\n",
       "    }\n",
       "\n",
       "    .dataframe tbody tr th {\n",
       "        vertical-align: top;\n",
       "    }\n",
       "\n",
       "    .dataframe thead th {\n",
       "        text-align: right;\n",
       "    }\n",
       "</style>\n",
       "<table border=\"1\" class=\"dataframe\">\n",
       "  <thead>\n",
       "    <tr style=\"text-align: right;\">\n",
       "      <th>callfailurerate</th>\n",
       "      <th>0.0</th>\n",
       "      <th>0.01</th>\n",
       "      <th>0.02</th>\n",
       "      <th>0.03</th>\n",
       "      <th>All</th>\n",
       "    </tr>\n",
       "    <tr>\n",
       "      <th>churn</th>\n",
       "      <th></th>\n",
       "      <th></th>\n",
       "      <th></th>\n",
       "      <th></th>\n",
       "      <th></th>\n",
       "    </tr>\n",
       "  </thead>\n",
       "  <tbody>\n",
       "    <tr>\n",
       "      <th>0</th>\n",
       "      <td>4500</td>\n",
       "      <td>4752</td>\n",
       "      <td>4482</td>\n",
       "      <td>4871</td>\n",
       "      <td>18605</td>\n",
       "    </tr>\n",
       "    <tr>\n",
       "      <th>1</th>\n",
       "      <td>456</td>\n",
       "      <td>439</td>\n",
       "      <td>481</td>\n",
       "      <td>487</td>\n",
       "      <td>1863</td>\n",
       "    </tr>\n",
       "    <tr>\n",
       "      <th>All</th>\n",
       "      <td>4956</td>\n",
       "      <td>5191</td>\n",
       "      <td>4963</td>\n",
       "      <td>5358</td>\n",
       "      <td>20468</td>\n",
       "    </tr>\n",
       "  </tbody>\n",
       "</table>\n",
       "</div>"
      ],
      "text/plain": [
       "callfailurerate   0.0  0.01  0.02  0.03    All\n",
       "churn                                         \n",
       "0                4500  4752  4482  4871  18605\n",
       "1                 456   439   481   487   1863\n",
       "All              4956  5191  4963  5358  20468"
      ]
     },
     "execution_count": 27,
     "metadata": {},
     "output_type": "execute_result"
    }
   ],
   "source": [
    "pd.crosstab(df['churn'], df['callfailurerate'], margins=True)"
   ]
  },
  {
   "cell_type": "code",
   "execution_count": 28,
   "metadata": {},
   "outputs": [
    {
     "data": {
      "text/plain": [
       "<matplotlib.axes._subplots.AxesSubplot at 0x7f7439c74cf8>"
      ]
     },
     "execution_count": 28,
     "metadata": {},
     "output_type": "execute_result"
    },
    {
     "data": {
      "image/png": "[encoded data removed]",
      "text/plain": [
       "<Figure size 432x288 with 1 Axes>"
      ]
     },
     "metadata": {
      "needs_background": "light"
     },
     "output_type": "display_data"
    }
   ],
   "source": [
    "pd.crosstab(df['churn'], df['callfailurerate']).plot(kind='bar')"
   ]
  },
  {
   "cell_type": "markdown",
   "metadata": {},
   "source": [
    "Явной тенденции снова нет"
   ]
  },
  {
   "cell_type": "markdown",
   "metadata": {},
   "source": [
    "### Feature extraction"
   ]
  },
  {
   "cell_type": "markdown",
   "metadata": {},
   "source": [
    "Object"
   ]
  },
  {
   "cell_type": "code",
   "execution_count": 29,
   "metadata": {},
   "outputs": [
    {
     "data": {
      "text/html": [
       "<div>\n",
       "<style scoped>\n",
       "    .dataframe tbody tr th:only-of-type {\n",
       "        vertical-align: middle;\n",
       "    }\n",
       "\n",
       "    .dataframe tbody tr th {\n",
       "        vertical-align: top;\n",
       "    }\n",
       "\n",
       "    .dataframe thead th {\n",
       "        text-align: right;\n",
       "    }\n",
       "</style>\n",
       "<table border=\"1\" class=\"dataframe\">\n",
       "  <thead>\n",
       "    <tr style=\"text-align: right;\">\n",
       "      <th></th>\n",
       "      <th>customersuspended</th>\n",
       "      <th>education</th>\n",
       "      <th>gender</th>\n",
       "      <th>homeowner</th>\n",
       "      <th>maritalstatus</th>\n",
       "      <th>occupation</th>\n",
       "      <th>state</th>\n",
       "      <th>usesinternetservice</th>\n",
       "      <th>usesvoiceservice</th>\n",
       "    </tr>\n",
       "  </thead>\n",
       "  <tbody>\n",
       "    <tr>\n",
       "      <th>0</th>\n",
       "      <td>Yes</td>\n",
       "      <td>Bachelor or equivalent</td>\n",
       "      <td>Male</td>\n",
       "      <td>Yes</td>\n",
       "      <td>Single</td>\n",
       "      <td>Technology Related Job</td>\n",
       "      <td>WA</td>\n",
       "      <td>No</td>\n",
       "      <td>No</td>\n",
       "    </tr>\n",
       "    <tr>\n",
       "      <th>1</th>\n",
       "      <td>Yes</td>\n",
       "      <td>Bachelor or equivalent</td>\n",
       "      <td>Male</td>\n",
       "      <td>Yes</td>\n",
       "      <td>Single</td>\n",
       "      <td>Technology Related Job</td>\n",
       "      <td>WA</td>\n",
       "      <td>No</td>\n",
       "      <td>No</td>\n",
       "    </tr>\n",
       "    <tr>\n",
       "      <th>2</th>\n",
       "      <td>Yes</td>\n",
       "      <td>Bachelor or equivalent</td>\n",
       "      <td>Female</td>\n",
       "      <td>Yes</td>\n",
       "      <td>Single</td>\n",
       "      <td>Technology Related Job</td>\n",
       "      <td>WI</td>\n",
       "      <td>No</td>\n",
       "      <td>Yes</td>\n",
       "    </tr>\n",
       "    <tr>\n",
       "      <th>3</th>\n",
       "      <td>Yes</td>\n",
       "      <td>Bachelor or equivalent</td>\n",
       "      <td>Female</td>\n",
       "      <td>Yes</td>\n",
       "      <td>Single</td>\n",
       "      <td>Technology Related Job</td>\n",
       "      <td>WI</td>\n",
       "      <td>No</td>\n",
       "      <td>Yes</td>\n",
       "    </tr>\n",
       "    <tr>\n",
       "      <th>4</th>\n",
       "      <td>Yes</td>\n",
       "      <td>Master or equivalent</td>\n",
       "      <td>Female</td>\n",
       "      <td>Yes</td>\n",
       "      <td>Single</td>\n",
       "      <td>Technology Related Job</td>\n",
       "      <td>KS</td>\n",
       "      <td>No</td>\n",
       "      <td>No</td>\n",
       "    </tr>\n",
       "  </tbody>\n",
       "</table>\n",
       "</div>"
      ],
      "text/plain": [
       "  customersuspended               education  gender homeowner maritalstatus  \\\n",
       "0               Yes  Bachelor or equivalent    Male       Yes        Single   \n",
       "1               Yes  Bachelor or equivalent    Male       Yes        Single   \n",
       "2               Yes  Bachelor or equivalent  Female       Yes        Single   \n",
       "3               Yes  Bachelor or equivalent  Female       Yes        Single   \n",
       "4               Yes    Master or equivalent  Female       Yes        Single   \n",
       "\n",
       "               occupation state usesinternetservice usesvoiceservice  \n",
       "0  Technology Related Job    WA                  No               No  \n",
       "1  Technology Related Job    WA                  No               No  \n",
       "2  Technology Related Job    WI                  No              Yes  \n",
       "3  Technology Related Job    WI                  No              Yes  \n",
       "4  Technology Related Job    KS                  No               No  "
      ]
     },
     "execution_count": 29,
     "metadata": {},
     "output_type": "execute_result"
    }
   ],
   "source": [
    "df.select_dtypes('object').head()"
   ]
  },
  {
   "cell_type": "code",
   "execution_count": 30,
   "metadata": {},
   "outputs": [],
   "source": [
    "yes_no_feat = ['customersuspended','homeowner','usesinternetservice','usesvoiceservice']"
   ]
  },
  {
   "cell_type": "code",
   "execution_count": 31,
   "metadata": {},
   "outputs": [],
   "source": [
    "for feat in yes_no_feat:\n",
    "    df[feat] = df[feat].apply(lambda x: 1 if x == 'Yes' else 0)"
   ]
  },
  {
   "cell_type": "code",
   "execution_count": 32,
   "metadata": {},
   "outputs": [],
   "source": [
    "df['maritalstatus'] = df['maritalstatus'].apply(lambda x: 1 if x != 'Single' else 0)"
   ]
  },
  {
   "cell_type": "code",
   "execution_count": 33,
   "metadata": {},
   "outputs": [],
   "source": [
    "df['gender'] = df['gender'].apply(lambda x: 1 if x != 'Male' else 0)"
   ]
  },
  {
   "cell_type": "code",
   "execution_count": 34,
   "metadata": {},
   "outputs": [],
   "source": [
    "df['occupation'] = df['occupation'].str.replace(' ','')\n",
    "df['education'] = df['education'].str.replace(' ','')"
   ]
  },
  {
   "cell_type": "code",
   "execution_count": 35,
   "metadata": {},
   "outputs": [],
   "source": [
    "df_state = pd.get_dummies(df.state,prefix='st',prefix_sep='_')\n",
    "df_occupation = pd.get_dummies(df.occupation,prefix='occ',prefix_sep='_')\n",
    "df_educ = pd.get_dummies(df.education, prefix='educ', prefix_sep=\"_\")"
   ]
  },
  {
   "cell_type": "code",
   "execution_count": 36,
   "metadata": {},
   "outputs": [],
   "source": [
    "df = pd.concat([df, df_state, df_occupation, df_educ], axis=1, join_axes=[df.index])"
   ]
  },
  {
   "cell_type": "code",
   "execution_count": 37,
   "metadata": {},
   "outputs": [
    {
     "data": {
      "text/html": [
       "<div>\n",
       "<style scoped>\n",
       "    .dataframe tbody tr th:only-of-type {\n",
       "        vertical-align: middle;\n",
       "    }\n",
       "\n",
       "    .dataframe tbody tr th {\n",
       "        vertical-align: top;\n",
       "    }\n",
       "\n",
       "    .dataframe thead th {\n",
       "        text-align: right;\n",
       "    }\n",
       "</style>\n",
       "<table border=\"1\" class=\"dataframe\">\n",
       "  <thead>\n",
       "    <tr style=\"text-align: right;\">\n",
       "      <th></th>\n",
       "      <th>education</th>\n",
       "      <th>occupation</th>\n",
       "      <th>state</th>\n",
       "    </tr>\n",
       "  </thead>\n",
       "  <tbody>\n",
       "    <tr>\n",
       "      <th>0</th>\n",
       "      <td>Bachelororequivalent</td>\n",
       "      <td>TechnologyRelatedJob</td>\n",
       "      <td>WA</td>\n",
       "    </tr>\n",
       "    <tr>\n",
       "      <th>1</th>\n",
       "      <td>Bachelororequivalent</td>\n",
       "      <td>TechnologyRelatedJob</td>\n",
       "      <td>WA</td>\n",
       "    </tr>\n",
       "    <tr>\n",
       "      <th>2</th>\n",
       "      <td>Bachelororequivalent</td>\n",
       "      <td>TechnologyRelatedJob</td>\n",
       "      <td>WI</td>\n",
       "    </tr>\n",
       "    <tr>\n",
       "      <th>3</th>\n",
       "      <td>Bachelororequivalent</td>\n",
       "      <td>TechnologyRelatedJob</td>\n",
       "      <td>WI</td>\n",
       "    </tr>\n",
       "    <tr>\n",
       "      <th>4</th>\n",
       "      <td>Masterorequivalent</td>\n",
       "      <td>TechnologyRelatedJob</td>\n",
       "      <td>KS</td>\n",
       "    </tr>\n",
       "  </tbody>\n",
       "</table>\n",
       "</div>"
      ],
      "text/plain": [
       "              education            occupation state\n",
       "0  Bachelororequivalent  TechnologyRelatedJob    WA\n",
       "1  Bachelororequivalent  TechnologyRelatedJob    WA\n",
       "2  Bachelororequivalent  TechnologyRelatedJob    WI\n",
       "3  Bachelororequivalent  TechnologyRelatedJob    WI\n",
       "4    Masterorequivalent  TechnologyRelatedJob    KS"
      ]
     },
     "execution_count": 37,
     "metadata": {},
     "output_type": "execute_result"
    }
   ],
   "source": [
    "df.select_dtypes('object').head()"
   ]
  },
  {
   "cell_type": "code",
   "execution_count": 38,
   "metadata": {},
   "outputs": [],
   "source": [
    "df = df.reset_index(drop=True).drop(columns=['education','occupation','state'])"
   ]
  },
  {
   "cell_type": "code",
   "execution_count": 39,
   "metadata": {},
   "outputs": [
    {
     "data": {
      "text/plain": [
       "(20468, 81)"
      ]
     },
     "execution_count": 39,
     "metadata": {},
     "output_type": "execute_result"
    }
   ],
   "source": [
    "df.shape"
   ]
  },
  {
   "cell_type": "code",
   "execution_count": 40,
   "metadata": {},
   "outputs": [
    {
     "data": {
      "text/html": [
       "<div>\n",
       "<style scoped>\n",
       "    .dataframe tbody tr th:only-of-type {\n",
       "        vertical-align: middle;\n",
       "    }\n",
       "\n",
       "    .dataframe tbody tr th {\n",
       "        vertical-align: top;\n",
       "    }\n",
       "\n",
       "    .dataframe thead th {\n",
       "        text-align: right;\n",
       "    }\n",
       "</style>\n",
       "<table border=\"1\" class=\"dataframe\">\n",
       "  <thead>\n",
       "    <tr style=\"text-align: right;\">\n",
       "      <th></th>\n",
       "      <th>age</th>\n",
       "      <th>annualincome</th>\n",
       "      <th>calldroprate</th>\n",
       "      <th>callfailurerate</th>\n",
       "      <th>callingnum</th>\n",
       "      <th>customerid</th>\n",
       "      <th>customersuspended</th>\n",
       "      <th>gender</th>\n",
       "      <th>homeowner</th>\n",
       "      <th>maritalstatus</th>\n",
       "      <th>...</th>\n",
       "      <th>st_WI</th>\n",
       "      <th>st_WV</th>\n",
       "      <th>st_WY</th>\n",
       "      <th>occ_Non-technologyRelatedJob</th>\n",
       "      <th>occ_Others</th>\n",
       "      <th>occ_TechnologyRelatedJob</th>\n",
       "      <th>educ_Bachelororequivalent</th>\n",
       "      <th>educ_HighSchoolorbelow</th>\n",
       "      <th>educ_Masterorequivalent</th>\n",
       "      <th>educ_PhDorequivalent</th>\n",
       "    </tr>\n",
       "  </thead>\n",
       "  <tbody>\n",
       "    <tr>\n",
       "      <th>0</th>\n",
       "      <td>12</td>\n",
       "      <td>168147</td>\n",
       "      <td>0.06</td>\n",
       "      <td>0.00</td>\n",
       "      <td>4251078442</td>\n",
       "      <td>1</td>\n",
       "      <td>1</td>\n",
       "      <td>0</td>\n",
       "      <td>1</td>\n",
       "      <td>0</td>\n",
       "      <td>...</td>\n",
       "      <td>0</td>\n",
       "      <td>0</td>\n",
       "      <td>0</td>\n",
       "      <td>0</td>\n",
       "      <td>0</td>\n",
       "      <td>1</td>\n",
       "      <td>1</td>\n",
       "      <td>0</td>\n",
       "      <td>0</td>\n",
       "      <td>0</td>\n",
       "    </tr>\n",
       "    <tr>\n",
       "      <th>1</th>\n",
       "      <td>12</td>\n",
       "      <td>168147</td>\n",
       "      <td>0.06</td>\n",
       "      <td>0.00</td>\n",
       "      <td>4251078442</td>\n",
       "      <td>1</td>\n",
       "      <td>1</td>\n",
       "      <td>0</td>\n",
       "      <td>1</td>\n",
       "      <td>0</td>\n",
       "      <td>...</td>\n",
       "      <td>0</td>\n",
       "      <td>0</td>\n",
       "      <td>0</td>\n",
       "      <td>0</td>\n",
       "      <td>0</td>\n",
       "      <td>1</td>\n",
       "      <td>1</td>\n",
       "      <td>0</td>\n",
       "      <td>0</td>\n",
       "      <td>0</td>\n",
       "    </tr>\n",
       "    <tr>\n",
       "      <th>2</th>\n",
       "      <td>42</td>\n",
       "      <td>29047</td>\n",
       "      <td>0.05</td>\n",
       "      <td>0.01</td>\n",
       "      <td>4251043419</td>\n",
       "      <td>2</td>\n",
       "      <td>1</td>\n",
       "      <td>1</td>\n",
       "      <td>1</td>\n",
       "      <td>0</td>\n",
       "      <td>...</td>\n",
       "      <td>1</td>\n",
       "      <td>0</td>\n",
       "      <td>0</td>\n",
       "      <td>0</td>\n",
       "      <td>0</td>\n",
       "      <td>1</td>\n",
       "      <td>1</td>\n",
       "      <td>0</td>\n",
       "      <td>0</td>\n",
       "      <td>0</td>\n",
       "    </tr>\n",
       "    <tr>\n",
       "      <th>3</th>\n",
       "      <td>42</td>\n",
       "      <td>29047</td>\n",
       "      <td>0.05</td>\n",
       "      <td>0.01</td>\n",
       "      <td>4251043419</td>\n",
       "      <td>2</td>\n",
       "      <td>1</td>\n",
       "      <td>1</td>\n",
       "      <td>1</td>\n",
       "      <td>0</td>\n",
       "      <td>...</td>\n",
       "      <td>1</td>\n",
       "      <td>0</td>\n",
       "      <td>0</td>\n",
       "      <td>0</td>\n",
       "      <td>0</td>\n",
       "      <td>1</td>\n",
       "      <td>1</td>\n",
       "      <td>0</td>\n",
       "      <td>0</td>\n",
       "      <td>0</td>\n",
       "    </tr>\n",
       "    <tr>\n",
       "      <th>4</th>\n",
       "      <td>58</td>\n",
       "      <td>27076</td>\n",
       "      <td>0.07</td>\n",
       "      <td>0.02</td>\n",
       "      <td>4251055773</td>\n",
       "      <td>3</td>\n",
       "      <td>1</td>\n",
       "      <td>1</td>\n",
       "      <td>1</td>\n",
       "      <td>0</td>\n",
       "      <td>...</td>\n",
       "      <td>0</td>\n",
       "      <td>0</td>\n",
       "      <td>0</td>\n",
       "      <td>0</td>\n",
       "      <td>0</td>\n",
       "      <td>1</td>\n",
       "      <td>0</td>\n",
       "      <td>0</td>\n",
       "      <td>1</td>\n",
       "      <td>0</td>\n",
       "    </tr>\n",
       "  </tbody>\n",
       "</table>\n",
       "<p>5 rows × 81 columns</p>\n",
       "</div>"
      ],
      "text/plain": [
       "   age  annualincome  calldroprate  callfailurerate  callingnum  customerid  \\\n",
       "0   12        168147          0.06             0.00  4251078442           1   \n",
       "1   12        168147          0.06             0.00  4251078442           1   \n",
       "2   42         29047          0.05             0.01  4251043419           2   \n",
       "3   42         29047          0.05             0.01  4251043419           2   \n",
       "4   58         27076          0.07             0.02  4251055773           3   \n",
       "\n",
       "   customersuspended  gender  homeowner  maritalstatus  ...  st_WI  st_WV  \\\n",
       "0                  1       0          1              0  ...      0      0   \n",
       "1                  1       0          1              0  ...      0      0   \n",
       "2                  1       1          1              0  ...      1      0   \n",
       "3                  1       1          1              0  ...      1      0   \n",
       "4                  1       1          1              0  ...      0      0   \n",
       "\n",
       "   st_WY  occ_Non-technologyRelatedJob  occ_Others  occ_TechnologyRelatedJob  \\\n",
       "0      0                             0           0                         1   \n",
       "1      0                             0           0                         1   \n",
       "2      0                             0           0                         1   \n",
       "3      0                             0           0                         1   \n",
       "4      0                             0           0                         1   \n",
       "\n",
       "   educ_Bachelororequivalent  educ_HighSchoolorbelow  educ_Masterorequivalent  \\\n",
       "0                          1                       0                        0   \n",
       "1                          1                       0                        0   \n",
       "2                          1                       0                        0   \n",
       "3                          1                       0                        0   \n",
       "4                          0                       0                        1   \n",
       "\n",
       "   educ_PhDorequivalent  \n",
       "0                     0  \n",
       "1                     0  \n",
       "2                     0  \n",
       "3                     0  \n",
       "4                     0  \n",
       "\n",
       "[5 rows x 81 columns]"
      ]
     },
     "execution_count": 40,
     "metadata": {},
     "output_type": "execute_result"
    }
   ],
   "source": [
    "df.head()"
   ]
  },
  {
   "cell_type": "markdown",
   "metadata": {},
   "source": [
    "### Строим и тренируем базовые модели"
   ]
  },
  {
   "cell_type": "markdown",
   "metadata": {},
   "source": [
    "Делим на X и y"
   ]
  },
  {
   "cell_type": "code",
   "execution_count": 41,
   "metadata": {},
   "outputs": [],
   "source": [
    "y = df['churn']\n",
    "X = df.drop(columns=['churn', 'callingnum'])"
   ]
  },
  {
   "cell_type": "code",
   "execution_count": 42,
   "metadata": {},
   "outputs": [],
   "source": [
    "# Spot Check Algorithms\n",
    "models = []\n",
    "models.append(('Gradient Boosting Classifier ' , GradientBoostingClassifier()))\n",
    "# models.append(('Support vector machine(SVM)  ' , SVC()))\n",
    "models.append(('Random Forest Classifier     ' , RandomForestClassifier()))\n",
    "models.append(('K Nearest Neighbor Classifier' , KNeighborsClassifier()))\n",
    "models.append(('Logistic Regression          ' , LogisticRegression()))\n",
    "models.append(('LGBMClassifier               ' , LGBMClassifier()))\n",
    "models.append(('XGBClassifier                ' , XGBClassifier()))"
   ]
  },
  {
   "cell_type": "code",
   "execution_count": 43,
   "metadata": {},
   "outputs": [],
   "source": [
    "def my_cv_acc(data,target,model,transform_list=[],metrics='accuracy'):\n",
    "    results = []\n",
    "    cv = KFold(n_splits=5, random_state=17, shuffle=True)\n",
    "    for train_ind, val_ind in cv.split(data, target):\n",
    "        \n",
    "        X_train_ = data.loc[train_ind]\n",
    "        y_train_ = target.loc[train_ind]\n",
    "        X_val_ = data.loc[val_ind]\n",
    "        y_val_ = target.loc[val_ind]\n",
    "        \n",
    "        if len(transform_list) == 0:\n",
    "            for col in transform_list:\n",
    "\n",
    "                ss = StandardScaler()\n",
    "                scale_var_train = X_train_[col].values.reshape(-1, 1)\n",
    "                scale_var_train = ss.fit_transform(scale_var_train)\n",
    "\n",
    "                scale_var_val = X_val_[col].values.reshape(-1, 1)\n",
    "                scale_var_val = ss.transform(scale_var_val)\n",
    "\n",
    "                X_train[col] = scale_var_train\n",
    "                X_val[col] = scale_var_val\n",
    "\n",
    "        model.fit(X_train_,y_train_)\n",
    "        y_pred_ = model.predict(X_val_)\n",
    "            \n",
    "        if metrics == 'accuracy':\n",
    "            sc = accuracy_score(y_val_,y_pred_)\n",
    "        elif metrics == 'precision':\n",
    "            sc = precision_score(y_val_,y_pred_)\n",
    "        elif metrics == 'recall':\n",
    "            sc = recall_score(y_val_,y_pred_)\n",
    "        elif metrics == 'roc_auc':\n",
    "            sc = roc_auc_score(y_val_,y_pred_)\n",
    "        \n",
    "        results.append(sc)\n",
    "    return results"
   ]
  },
  {
   "cell_type": "code",
   "execution_count": 44,
   "metadata": {},
   "outputs": [
    {
     "name": "stdout",
     "output_type": "stream",
     "text": [
      "Gradient Boosting Classifier : accuracy:0.909566 \n",
      "Random Forest Classifier     : accuracy:0.936388 \n",
      "K Nearest Neighbor Classifier: accuracy:0.901603 \n",
      "Logistic Regression          : accuracy:0.908980 \n",
      "LGBMClassifier               : accuracy:0.920266 \n",
      "XGBClassifier                : accuracy:0.908980 \n"
     ]
    }
   ],
   "source": [
    "for name, model in models:\n",
    "    results = my_cv_acc(X,y,model,transform_list=X.columns)\n",
    "    msg = \"%s: accuracy:%f \" % (name,np.mean(results))\n",
    "    print(msg)"
   ]
  },
  {
   "cell_type": "code",
   "execution_count": 45,
   "metadata": {},
   "outputs": [
    {
     "name": "stdout",
     "output_type": "stream",
     "text": [
      "Gradient Boosting Classifier : recall:0.006472 \n",
      "Random Forest Classifier     : recall:0.337485 \n",
      "K Nearest Neighbor Classifier: recall:0.034419 \n",
      "Logistic Regression          : recall:0.000000 \n",
      "LGBMClassifier               : recall:0.127390 \n",
      "XGBClassifier                : recall:0.000000 \n"
     ]
    }
   ],
   "source": [
    "for name, model in models:\n",
    "    results = my_cv_acc(X,y,model,metrics='recall',transform_list=X.columns)\n",
    "    msg = \"%s: recall:%f \" % (name,np.mean(results))\n",
    "    print(msg)"
   ]
  },
  {
   "cell_type": "code",
   "execution_count": 46,
   "metadata": {},
   "outputs": [],
   "source": [
    "def make_pred(X,y,model):\n",
    "    results = []\n",
    "    X_train, X_test, y_train, y_test = train_test_split(X,y,test_size=0.3,random_state=17)\n",
    "    \n",
    "    for col in X.columns:\n",
    "        ss = StandardScaler()\n",
    "        X_train[col] = ss.fit_transform(X_train[col].values.reshape(-1, 1))\n",
    "        X_test[col] = ss.transform(X_test[col].values.reshape(-1, 1))\n",
    "\n",
    "    model.fit(X_train,y_train)\n",
    "    y_pred = model.predict(X_test)\n",
    "    \n",
    "    return y_test, y_pred"
   ]
  },
  {
   "cell_type": "code",
   "execution_count": 47,
   "metadata": {},
   "outputs": [],
   "source": [
    "def plot_conf_matrix(X,y,model,title):\n",
    "    y_test, y_pred = make_pred(X,y,model)\n",
    "    plt.figure()\n",
    "    grad_ens_conf_matrix = confusion_matrix(y_test, y_pred)\n",
    "    sns.heatmap(grad_ens_conf_matrix, annot=True,  fmt='')\n",
    "    plt.title(title)"
   ]
  },
  {
   "cell_type": "markdown",
   "metadata": {},
   "source": [
    "Confusion Matrices for various models"
   ]
  },
  {
   "cell_type": "code",
   "execution_count": 48,
   "metadata": {},
   "outputs": [
    {
     "data": {
      "image/png": "[encoded data removed]",
      "text/plain": [
       "<Figure size 432x288 with 2 Axes>"
      ]
     },
     "metadata": {
      "needs_background": "light"
     },
     "output_type": "display_data"
    },
    {
     "data": {
      "image/png": "[encoded data removed]",
      "text/plain": [
       "<Figure size 432x288 with 2 Axes>"
      ]
     },
     "metadata": {
      "needs_background": "light"
     },
     "output_type": "display_data"
    },
    {
     "data": {
      "image/png": "[encoded data removed]",
      "text/plain": [
       "<Figure size 432x288 with 2 Axes>"
      ]
     },
     "metadata": {
      "needs_background": "light"
     },
     "output_type": "display_data"
    },
    {
     "data": {
      "image/png": "[encoded data removed]",
      "text/plain": [
       "<Figure size 432x288 with 2 Axes>"
      ]
     },
     "metadata": {
      "needs_background": "light"
     },
     "output_type": "display_data"
    },
    {
     "data": {
      "image/png": "[encoded data removed]",
      "text/plain": [
       "<Figure size 432x288 with 2 Axes>"
      ]
     },
     "metadata": {
      "needs_background": "light"
     },
     "output_type": "display_data"
    },
    {
     "data": {
      "image/png": "[encoded data removed]",
      "text/plain": [
       "<Figure size 432x288 with 2 Axes>"
      ]
     },
     "metadata": {
      "needs_background": "light"
     },
     "output_type": "display_data"
    }
   ],
   "source": [
    "for name, model in models:\n",
    "    plot_conf_matrix(X,y,model,name)"
   ]
  },
  {
   "cell_type": "code",
   "execution_count": 49,
   "metadata": {},
   "outputs": [
    {
     "data": {
      "image/png": "[encoded data removed]",
      "text/plain": [
       "<IPython.core.display.Image object>"
      ]
     },
     "execution_count": 49,
     "metadata": {},
     "output_type": "execute_result"
    }
   ],
   "source": [
    "Image(filename='table.png') "
   ]
  },
  {
   "cell_type": "code",
   "execution_count": 50,
   "metadata": {},
   "outputs": [
    {
     "data": {
      "image/png": "[encoded data removed]",
      "text/plain": [
       "<IPython.core.display.Image object>"
      ]
     },
     "execution_count": 50,
     "metadata": {},
     "output_type": "execute_result"
    }
   ],
   "source": [
    "Image(filename='ClassificationMetrics.png') "
   ]
  },
  {
   "cell_type": "markdown",
   "metadata": {},
   "source": [
    "Проблема с метрикой accuracy заключается в том, что результаты не обязательно эквивалентны. Если классификатор спрогнозирует уход клиента, но клиент останется, – это не очень хорошо, но простительно. Однако если классификатор предскажет, что клиент не уйдет, я не стану предпринимать никакие действия, а клиент все же уйдет – это уже действительно плохо.\n",
    "\n",
    "Важным вопросом является следующий: «Каково отношение количества правильно спрогнозированных уходов к общему количеству фактических уходов?» Эта метрика имеет название «полнота» (recall). "
   ]
  },
  {
   "cell_type": "code",
   "execution_count": 51,
   "metadata": {},
   "outputs": [
    {
     "name": "stdout",
     "output_type": "stream",
     "text": [
      "Gradient Boosting Classifier  :\n",
      "               precision    recall  f1-score   support\n",
      "\n",
      "           0       0.91      1.00      0.95      5560\n",
      "           1       1.00      0.01      0.01       581\n",
      "\n",
      "   micro avg       0.91      0.91      0.91      6141\n",
      "   macro avg       0.95      0.50      0.48      6141\n",
      "weighted avg       0.91      0.91      0.86      6141\n",
      "\n",
      "\n",
      "Random Forest Classifier      :\n",
      "               precision    recall  f1-score   support\n",
      "\n",
      "           0       0.93      1.00      0.96      5560\n",
      "           1       0.99      0.30      0.46       581\n",
      "\n",
      "   micro avg       0.93      0.93      0.93      6141\n",
      "   macro avg       0.96      0.65      0.71      6141\n",
      "weighted avg       0.94      0.93      0.92      6141\n",
      "\n",
      "\n",
      "K Nearest Neighbor Classifier :\n",
      "               precision    recall  f1-score   support\n",
      "\n",
      "           0       0.91      0.99      0.95      5560\n",
      "           1       0.38      0.08      0.13       581\n",
      "\n",
      "   micro avg       0.90      0.90      0.90      6141\n",
      "   macro avg       0.65      0.53      0.54      6141\n",
      "weighted avg       0.86      0.90      0.87      6141\n",
      "\n",
      "\n",
      "Logistic Regression           :\n",
      "               precision    recall  f1-score   support\n",
      "\n",
      "           0       0.91      1.00      0.95      5560\n",
      "           1       0.00      0.00      0.00       581\n",
      "\n",
      "   micro avg       0.91      0.91      0.91      6141\n",
      "   macro avg       0.45      0.50      0.48      6141\n",
      "weighted avg       0.82      0.91      0.86      6141\n",
      "\n",
      "\n",
      "LGBMClassifier                :\n",
      "               precision    recall  f1-score   support\n",
      "\n",
      "           0       0.92      1.00      0.96      5560\n",
      "           1       0.98      0.14      0.25       581\n",
      "\n",
      "   micro avg       0.92      0.92      0.92      6141\n",
      "   macro avg       0.95      0.57      0.60      6141\n",
      "weighted avg       0.92      0.92      0.89      6141\n",
      "\n",
      "\n",
      "XGBClassifier                 :\n",
      "               precision    recall  f1-score   support\n",
      "\n",
      "           0       0.91      1.00      0.95      5560\n",
      "           1       1.00      0.00      0.00       581\n",
      "\n",
      "   micro avg       0.91      0.91      0.91      6141\n",
      "   macro avg       0.95      0.50      0.48      6141\n",
      "weighted avg       0.91      0.91      0.86      6141\n",
      "\n",
      "\n"
     ]
    }
   ],
   "source": [
    "for name,model in models:\n",
    "    y_true_, y_pred_ = make_pred(X,y,model)\n",
    "    print(name,':\\n {}\\n'.format(classification_report(y_true_, y_pred_)))"
   ]
  },
  {
   "cell_type": "markdown",
   "metadata": {},
   "source": [
    "По умолчанию кол-во деревьев в RandomForest = 10. В LGBMClassifier и XGBClassifier - 100."
   ]
  },
  {
   "cell_type": "code",
   "execution_count": 52,
   "metadata": {},
   "outputs": [
    {
     "name": "stdout",
     "output_type": "stream",
     "text": [
      "RandomForestClassifier(n_estimators=300) accuracy: 0.9467950154033524\n",
      "LGBMClassifier(n_estimators=300) 0.9607190108912581\n"
     ]
    }
   ],
   "source": [
    "# accuracy\n",
    "print('RandomForestClassifier(n_estimators=300) accuracy:',np.mean(my_cv_acc(\n",
    "    X,y,RandomForestClassifier(n_estimators=300),transform_list=X.columns)))\n",
    "print('LGBMClassifier(n_estimators=300)',np.mean(my_cv_acc(\n",
    "    X,y,LGBMClassifier(n_estimators=300),transform_list=X.columns)))"
   ]
  },
  {
   "cell_type": "code",
   "execution_count": 53,
   "metadata": {},
   "outputs": [
    {
     "name": "stdout",
     "output_type": "stream",
     "text": [
      "RandomForestClassifier(n_estimators=300) recall: 0.41531776594990094\n",
      "LGBMClassifier(n_estimators=300) recall: 0.5761329059024843\n"
     ]
    }
   ],
   "source": [
    "# recall\n",
    "print('RandomForestClassifier(n_estimators=300) recall:',np.mean(my_cv_acc(\n",
    "    X,y,RandomForestClassifier(n_estimators=300),metrics='recall',transform_list=X.columns)))\n",
    "print('LGBMClassifier(n_estimators=300) recall:',np.mean(my_cv_acc(\n",
    "    X,y,LGBMClassifier(n_estimators=300),metrics='recall',transform_list=X.columns)))"
   ]
  },
  {
   "cell_type": "code",
   "execution_count": 54,
   "metadata": {},
   "outputs": [
    {
     "name": "stdout",
     "output_type": "stream",
     "text": [
      "RandomForestClassifier(n_estimators=300) roc_auc: 0.7039095771789253\n",
      "LGBMClassifier(n_estimators=300) roc_auc: 0.7876904526912861\n"
     ]
    }
   ],
   "source": [
    "# recall\n",
    "print('RandomForestClassifier(n_estimators=300) roc_auc:',np.mean(my_cv_acc(\n",
    "    X,y,RandomForestClassifier(n_estimators=300),metrics='roc_auc',transform_list=X.columns)))\n",
    "print('LGBMClassifier(n_estimators=300) roc_auc:',np.mean(my_cv_acc(\n",
    "    X,y,LGBMClassifier(n_estimators=300),metrics='roc_auc',transform_list=X.columns)))"
   ]
  },
  {
   "cell_type": "markdown",
   "metadata": {},
   "source": [
    "С увеличением числа деревьев LGBMClassifier оценка как accuracy так и recall возрастает и становится больше оценки RandomForestClassifier"
   ]
  },
  {
   "cell_type": "code",
   "execution_count": 55,
   "metadata": {},
   "outputs": [
    {
     "name": "stdout",
     "output_type": "stream",
     "text": [
      "CPU times: user 3 µs, sys: 0 ns, total: 3 µs\n",
      "Wall time: 6.44 µs\n"
     ]
    }
   ],
   "source": [
    "%time\n",
    "range_estimators = list(range(60, 511, 50))\n",
    "tree_params = {'n_estimators': range_estimators}\n",
    "scores_lgbm = []\n",
    "scores_rf = []\n",
    "for n in tree_params['n_estimators']:\n",
    "    model = LGBMClassifier(n_estimators=n,random_state=17,n_jobs=-1)\n",
    "    sc = my_cv_acc(X,y,model,transform_list=X.columns)\n",
    "    scores_lgbm.append(np.mean(sc))\n",
    "for n in tree_params['n_estimators']:\n",
    "    model = RandomForestClassifier(n_estimators=n,random_state=17,n_jobs=-1)\n",
    "    sc = my_cv_acc(X,y,model)\n",
    "    scores_rf.append(np.mean(sc))"
   ]
  },
  {
   "cell_type": "code",
   "execution_count": 56,
   "metadata": {},
   "outputs": [
    {
     "data": {
      "application/vnd.plotly.v1+json": {
       "config": {
        "linkText": "Export to plot.ly",
        "plotlyServerURL": "https://plot.ly",
        "responsive": true,
        "showLink": false
       },
       "data": [
        {
         "name": "Random Forest Classifier",
         "type": "scatter",
         "uid": "4c444dc1-ce28-4d3f-8339-a6412dfcde33",
         "x": [
          60,
          110,
          160,
          210,
          260,
          310,
          360,
          410,
          460,
          510
         ],
         "y": [
          0.9450850290587514,
          0.9458179997042384,
          0.9454270883922424,
          0.9463553237258173,
          0.9466972995108476,
          0.9470880914678999,
          0.946892671618385,
          0.9465995120053767,
          0.9469415474678788,
          0.9466972517688701
         ]
        },
        {
         "name": "LGBM Classifier",
         "type": "scatter",
         "uid": "df0c2be7-b83f-4a1e-b8ad-e7e705d01e02",
         "x": [
          60,
          110,
          160,
          210,
          260,
          310,
          360,
          410,
          460,
          510
         ],
         "y": [
          0.9127907919093102,
          0.9228550156110298,
          0.9337989210551788,
          0.9447426952088896,
          0.9540744972978636,
          0.9624290091713533,
          0.9691711670442859,
          0.973665966809061,
          0.9777210987672902,
          0.9794799967678681
         ]
        }
       ],
       "layout": {
        "title": {
         "text": "Кривые валидации по подбору количества деревьев для RandomForest и LGBM"
        },
        "xaxis": {
         "title": {
          "text": "Кол-во деревьев"
         }
        },
        "yaxis": {
         "title": {
          "text": "Accuracy"
         }
        }
       }
      },
      "text/html": [
       "<div>\n",
       "        \n",
       "        \n",
       "            <div id=\"ceff49d3-10f4-4e27-aba8-dfcab7cab426\" class=\"plotly-graph-div\" style=\"height:525px; width:100%;\"></div>\n",
       "            <script type=\"text/javascript\">\n",
       "                require([\"plotly\"], function(Plotly) {\n",
       "                    window.PLOTLYENV=window.PLOTLYENV || {};\n",
       "                    window.PLOTLYENV.BASE_URL='https://plot.ly';\n",
       "                    \n",
       "                if (document.getElementById(\"ceff49d3-10f4-4e27-aba8-dfcab7cab426\")) {\n",
       "                    Plotly.newPlot(\n",
       "                        'ceff49d3-10f4-4e27-aba8-dfcab7cab426',\n",
       "                        [{\"name\": \"Random Forest Classifier\", \"type\": \"scatter\", \"uid\": \"1191dbab-be20-4ee0-865c-365f77d1a30c\", \"x\": [60, 110, 160, 210, 260, 310, 360, 410, 460, 510], \"y\": [0.9450850290587514, 0.9458179997042384, 0.9454270883922424, 0.9463553237258173, 0.9466972995108476, 0.9470880914678999, 0.946892671618385, 0.9465995120053767, 0.9469415474678788, 0.9466972517688701]}, {\"name\": \"LGBM Classifier\", \"type\": \"scatter\", \"uid\": \"d59525e6-3b7b-4e4c-a731-1777aea00942\", \"x\": [60, 110, 160, 210, 260, 310, 360, 410, 460, 510], \"y\": [0.9127907919093102, 0.9228550156110298, 0.9337989210551788, 0.9447426952088896, 0.9540744972978636, 0.9624290091713533, 0.9691711670442859, 0.973665966809061, 0.9777210987672902, 0.9794799967678681]}],\n",
       "                        {\"title\": {\"text\": \"\\u041a\\u0440\\u0438\\u0432\\u044b\\u0435 \\u0432\\u0430\\u043b\\u0438\\u0434\\u0430\\u0446\\u0438\\u0438 \\u043f\\u043e \\u043f\\u043e\\u0434\\u0431\\u043e\\u0440\\u0443 \\u043a\\u043e\\u043b\\u0438\\u0447\\u0435\\u0441\\u0442\\u0432\\u0430 \\u0434\\u0435\\u0440\\u0435\\u0432\\u044c\\u0435\\u0432 \\u0434\\u043b\\u044f RandomForest \\u0438 LGBM\"}, \"xaxis\": {\"title\": {\"text\": \"\\u041a\\u043e\\u043b-\\u0432\\u043e \\u0434\\u0435\\u0440\\u0435\\u0432\\u044c\\u0435\\u0432\"}}, \"yaxis\": {\"title\": {\"text\": \"Accuracy\"}}},\n",
       "                        {\"showLink\": false, \"linkText\": \"Export to plot.ly\", \"plotlyServerURL\": \"https://plot.ly\", \"responsive\": true}\n",
       "                    ).then(function(){\n",
       "                            \n",
       "var gd = document.getElementById('ceff49d3-10f4-4e27-aba8-dfcab7cab426');\n",
       "var x = new MutationObserver(function (mutations, observer) {{\n",
       "        var display = window.getComputedStyle(gd).display;\n",
       "        if (!display || display === 'none') {{\n",
       "            console.log([gd, 'removed!']);\n",
       "            Plotly.purge(gd);\n",
       "            observer.disconnect();\n",
       "        }}\n",
       "}});\n",
       "\n",
       "// Listen for the removal of the full notebook cells\n",
       "var notebookContainer = gd.closest('#notebook-container');\n",
       "if (notebookContainer) {{\n",
       "    x.observe(notebookContainer, {childList: true});\n",
       "}}\n",
       "\n",
       "// Listen for the clearing of the current output cell\n",
       "var outputEl = gd.closest('.output');\n",
       "if (outputEl) {{\n",
       "    x.observe(outputEl, {childList: true});\n",
       "}}\n",
       "\n",
       "                        })\n",
       "                };\n",
       "                });\n",
       "            </script>\n",
       "        </div>"
      ]
     },
     "metadata": {},
     "output_type": "display_data"
    }
   ],
   "source": [
    "trace0 = go.Scatter(\n",
    "    x=range_estimators,\n",
    "    y=scores_rf,\n",
    "    name='Random Forest Classifier'\n",
    ")\n",
    "\n",
    "trace1 = go.Scatter(\n",
    "    x=range_estimators,\n",
    "    y=scores_lgbm,\n",
    "    name='LGBM Classifier'\n",
    ")\n",
    "\n",
    "data = [trace0, trace1]\n",
    "layout = go.Layout(title = 'Кривые валидации по подбору количества деревьев для RandomForest и LGBM',\n",
    "          yaxis={'title':'Accuracy'}, xaxis={'title':'Кол-во деревьев'})\n",
    "\n",
    "fig = go.Figure(data=data, layout=layout)\n",
    "iplot(fig, show_link=False)"
   ]
  },
  {
   "cell_type": "code",
   "execution_count": 57,
   "metadata": {},
   "outputs": [
    {
     "data": {
      "image/png": "[encoded data removed]",
      "text/plain": [
       "<IPython.core.display.Image object>"
      ]
     },
     "execution_count": 57,
     "metadata": {},
     "output_type": "execute_result"
    }
   ],
   "source": [
    "Image(filename='count_tree_accuracy.png') "
   ]
  },
  {
   "cell_type": "code",
   "execution_count": 58,
   "metadata": {},
   "outputs": [
    {
     "name": "stdout",
     "output_type": "stream",
     "text": [
      "CPU times: user 5 µs, sys: 0 ns, total: 5 µs\n",
      "Wall time: 9.54 µs\n"
     ]
    }
   ],
   "source": [
    "%time\n",
    "scores_lgbm_recall = []\n",
    "scores_rf_recall = []\n",
    "for n in tree_params['n_estimators']:\n",
    "    model = LGBMClassifier(n_estimators=n,random_state=17,n_jobs=-1)\n",
    "    sc = my_cv_acc(X,y,model,metrics='recall',transform_list=X.columns)\n",
    "    scores_lgbm_recall.append(np.mean(sc))\n",
    "for n in tree_params['n_estimators']:\n",
    "    model = RandomForestClassifier(n_estimators=n,random_state=17,n_jobs=-1)\n",
    "    sc = my_cv_acc(X,y,model,metrics='recall')\n",
    "    scores_rf_recall.append(np.mean(sc))"
   ]
  },
  {
   "cell_type": "code",
   "execution_count": 59,
   "metadata": {},
   "outputs": [
    {
     "data": {
      "application/vnd.plotly.v1+json": {
       "config": {
        "linkText": "Export to plot.ly",
        "plotlyServerURL": "https://plot.ly",
        "responsive": true,
        "showLink": false
       },
       "data": [
        {
         "name": "Random Forest Classifier",
         "type": "scatter",
         "uid": "1c2e78a3-e50f-44db-b95f-7981b59ed642",
         "x": [
          60,
          110,
          160,
          210,
          260,
          310,
          360,
          410,
          460,
          510
         ],
         "y": [
          0.3963466218250908,
          0.40467498375566846,
          0.4002468900021037,
          0.41029511987400824,
          0.414025261463043,
          0.41812469943459474,
          0.41604954857798687,
          0.4127629812315562,
          0.41672078460789874,
          0.4139784396764895
         ]
        },
        {
         "name": "LGBM Classifier",
         "type": "scatter",
         "uid": "10582995-da60-4346-8abe-467af402df85",
         "x": [
          60,
          110,
          160,
          210,
          260,
          310,
          360,
          410,
          460,
          510
         ],
         "y": [
          0.043376714730219076,
          0.15521291798152365,
          0.2754773017153107,
          0.39785262155340057,
          0.5030929001665232,
          0.5943838618291238,
          0.6698048013163197,
          0.7175787003735481,
          0.7618659768072097,
          0.7811849946554957
         ]
        }
       ],
       "layout": {
        "title": {
         "text": "Кривые валидации по подбору количества деревьев для RandomForest и LGBM"
        },
        "xaxis": {
         "title": {
          "text": "Кол-во деревьев"
         }
        },
        "yaxis": {
         "title": {
          "text": "Recall"
         }
        }
       }
      },
      "text/html": [
       "<div>\n",
       "        \n",
       "        \n",
       "            <div id=\"de850531-f5aa-492d-ad28-99a4c836d06b\" class=\"plotly-graph-div\" style=\"height:525px; width:100%;\"></div>\n",
       "            <script type=\"text/javascript\">\n",
       "                require([\"plotly\"], function(Plotly) {\n",
       "                    window.PLOTLYENV=window.PLOTLYENV || {};\n",
       "                    window.PLOTLYENV.BASE_URL='https://plot.ly';\n",
       "                    \n",
       "                if (document.getElementById(\"de850531-f5aa-492d-ad28-99a4c836d06b\")) {\n",
       "                    Plotly.newPlot(\n",
       "                        'de850531-f5aa-492d-ad28-99a4c836d06b',\n",
       "                        [{\"name\": \"Random Forest Classifier\", \"type\": \"scatter\", \"uid\": \"9abc559f-4f24-4358-9a45-c99a7fab9756\", \"x\": [60, 110, 160, 210, 260, 310, 360, 410, 460, 510], \"y\": [0.3963466218250908, 0.40467498375566846, 0.4002468900021037, 0.41029511987400824, 0.414025261463043, 0.41812469943459474, 0.41604954857798687, 0.4127629812315562, 0.41672078460789874, 0.4139784396764895]}, {\"name\": \"LGBM Classifier\", \"type\": \"scatter\", \"uid\": \"36d75cb1-b432-440d-91b6-8dc084218ba9\", \"x\": [60, 110, 160, 210, 260, 310, 360, 410, 460, 510], \"y\": [0.043376714730219076, 0.15521291798152365, 0.2754773017153107, 0.39785262155340057, 0.5030929001665232, 0.5943838618291238, 0.6698048013163197, 0.7175787003735481, 0.7618659768072097, 0.7811849946554957]}],\n",
       "                        {\"title\": {\"text\": \"\\u041a\\u0440\\u0438\\u0432\\u044b\\u0435 \\u0432\\u0430\\u043b\\u0438\\u0434\\u0430\\u0446\\u0438\\u0438 \\u043f\\u043e \\u043f\\u043e\\u0434\\u0431\\u043e\\u0440\\u0443 \\u043a\\u043e\\u043b\\u0438\\u0447\\u0435\\u0441\\u0442\\u0432\\u0430 \\u0434\\u0435\\u0440\\u0435\\u0432\\u044c\\u0435\\u0432 \\u0434\\u043b\\u044f RandomForest \\u0438 LGBM\"}, \"xaxis\": {\"title\": {\"text\": \"\\u041a\\u043e\\u043b-\\u0432\\u043e \\u0434\\u0435\\u0440\\u0435\\u0432\\u044c\\u0435\\u0432\"}}, \"yaxis\": {\"title\": {\"text\": \"Recall\"}}},\n",
       "                        {\"showLink\": false, \"linkText\": \"Export to plot.ly\", \"plotlyServerURL\": \"https://plot.ly\", \"responsive\": true}\n",
       "                    ).then(function(){\n",
       "                            \n",
       "var gd = document.getElementById('de850531-f5aa-492d-ad28-99a4c836d06b');\n",
       "var x = new MutationObserver(function (mutations, observer) {{\n",
       "        var display = window.getComputedStyle(gd).display;\n",
       "        if (!display || display === 'none') {{\n",
       "            console.log([gd, 'removed!']);\n",
       "            Plotly.purge(gd);\n",
       "            observer.disconnect();\n",
       "        }}\n",
       "}});\n",
       "\n",
       "// Listen for the removal of the full notebook cells\n",
       "var notebookContainer = gd.closest('#notebook-container');\n",
       "if (notebookContainer) {{\n",
       "    x.observe(notebookContainer, {childList: true});\n",
       "}}\n",
       "\n",
       "// Listen for the clearing of the current output cell\n",
       "var outputEl = gd.closest('.output');\n",
       "if (outputEl) {{\n",
       "    x.observe(outputEl, {childList: true});\n",
       "}}\n",
       "\n",
       "                        })\n",
       "                };\n",
       "                });\n",
       "            </script>\n",
       "        </div>"
      ]
     },
     "metadata": {},
     "output_type": "display_data"
    }
   ],
   "source": [
    "trace0 = go.Scatter(\n",
    "    x=range_estimators,\n",
    "    y=scores_rf_recall,\n",
    "    name='Random Forest Classifier'\n",
    ")\n",
    "\n",
    "trace1 = go.Scatter(\n",
    "    x=range_estimators,\n",
    "    y=scores_lgbm_recall,\n",
    "    name='LGBM Classifier'\n",
    ")\n",
    "\n",
    "data = [trace0, trace1]\n",
    "layout = go.Layout(title = 'Кривые валидации по подбору количества деревьев для RandomForest и LGBM',\n",
    "          yaxis={'title':'Recall'}, xaxis={'title':'Кол-во деревьев'})\n",
    "\n",
    "fig = go.Figure(data=data, layout=layout)\n",
    "iplot(fig, show_link=False)"
   ]
  },
  {
   "cell_type": "code",
   "execution_count": 60,
   "metadata": {},
   "outputs": [
    {
     "data": {
      "image/png": "[encoded data removed]",
      "text/plain": [
       "<IPython.core.display.Image object>"
      ]
     },
     "execution_count": 60,
     "metadata": {},
     "output_type": "execute_result"
    }
   ],
   "source": [
    "Image(filename='count_tree_recall.png') "
   ]
  },
  {
   "cell_type": "markdown",
   "metadata": {},
   "source": [
    "Качество LGBMClassifier растет при увеличении кол-ва деревьев. После 200 деревьев оценка LGBMClassifier выше RandomForestClassifier. Чем больше деревьев, тем лучше. (в рамках анализа 500 - максимум)"
   ]
  },
  {
   "cell_type": "code",
   "execution_count": 61,
   "metadata": {},
   "outputs": [
    {
     "data": {
      "text/plain": [
       "LGBMClassifier(boosting_type='gbdt', class_weight=None, colsample_bytree=1.0,\n",
       "        importance_type='split', learning_rate=0.1, max_depth=50,\n",
       "        min_child_samples=20, min_child_weight=0.001, min_split_gain=0.0,\n",
       "        n_estimators=200, n_jobs=-1, num_leaves=31, objective=None,\n",
       "        random_state=None, reg_alpha=0.0, reg_lambda=0.0, silent=True,\n",
       "        subsample=1.0, subsample_for_bin=200000, subsample_freq=0)"
      ]
     },
     "execution_count": 61,
     "metadata": {},
     "output_type": "execute_result"
    }
   ],
   "source": [
    "lgbm = LGBMClassifier(n_estimators=200,max_depth=50,n_jobs=-1)\n",
    "lgbm.fit(StandardScaler().fit_transform(X), y)"
   ]
  },
  {
   "cell_type": "markdown",
   "metadata": {},
   "source": [
    "Можно оценить вклад признаков в предсказании."
   ]
  },
  {
   "cell_type": "code",
   "execution_count": 62,
   "metadata": {},
   "outputs": [
    {
     "data": {
      "image/png": "[encoded data removed]",
      "text/plain": [
       "<Figure size 1296x576 with 1 Axes>"
      ]
     },
     "metadata": {
      "needs_background": "light"
     },
     "output_type": "display_data"
    }
   ],
   "source": [
    "feat_names = df.columns\n",
    "importances = lgbm.feature_importances_\n",
    "indices = np.argsort(importances)\n",
    "# indices = np.concatenate([np.argsort(importances)[::-1][:15],np.argsort(importances)[::-1][-15:]])\n",
    "\n",
    "plt.figure(figsize=(18,8))\n",
    "plt.title(\"Feature importances\")\n",
    "plt.bar(range(len(indices)), importances[indices], color=\"g\", align=\"center\")\n",
    "plt.xticks(range(len(indices)), feat_names[indices], rotation='vertical')\n",
    "plt.xlim([-1, len(indices)])\n",
    "plt.show()"
   ]
  },
  {
   "cell_type": "markdown",
   "metadata": {},
   "source": [
    "Можно заметить ряд признаков, которые делают наименьший вклад в качество модели. Попробуем их удалить и посмотреть что будет."
   ]
  },
  {
   "cell_type": "code",
   "execution_count": 63,
   "metadata": {},
   "outputs": [
    {
     "data": {
      "image/png": "[encoded data removed]",
      "text/plain": [
       "<Figure size 864x576 with 1 Axes>"
      ]
     },
     "metadata": {
      "needs_background": "light"
     },
     "output_type": "display_data"
    }
   ],
   "source": [
    "less_important = indices[::-1][-40:]\n",
    "plt.figure(figsize=(12,8))\n",
    "plt.title(\"Feature importances\")\n",
    "plt.bar(range(len(less_important)), importances[less_important], color=\"g\", align=\"center\")\n",
    "plt.xticks(range(len(less_important)), feat_names[less_important], rotation='vertical')\n",
    "plt.xlim([-1, len(less_important)])\n",
    "plt.show()"
   ]
  },
  {
   "cell_type": "markdown",
   "metadata": {},
   "source": [
    "### Feature selection (отсечение ненужных признаков)"
   ]
  },
  {
   "cell_type": "code",
   "execution_count": 64,
   "metadata": {},
   "outputs": [
    {
     "data": {
      "text/plain": [
       "Index(['st_GA', 'st_TN', 'unpaidbalance', 'st_NE', 'st_IL', 'st_ND', 'st_IN',\n",
       "       'st_CO', 'st_MO', 'st_MT', 'st_HI', 'st_SD', 'st_DE', 'st_SC',\n",
       "       'customerid', 'st_MD', 'st_ME', 'st_NY', 'educ_HighSchoolorbelow',\n",
       "       'st_ID', 'st_MI', 'st_AL', 'st_MA', 'churn', 'st_CT', 'st_CA', 'st_NJ',\n",
       "       'st_OR', 'st_WA', 'st_VT', 'st_VA', 'st_TX', 'st_MN', 'st_MS', 'st_OH',\n",
       "       'st_NV', 'st_NH', 'st_OK', 'st_WI', 'avgcallduration'],\n",
       "      dtype='object')"
      ]
     },
     "execution_count": 64,
     "metadata": {},
     "output_type": "execute_result"
    }
   ],
   "source": [
    "feat_names[less_important]"
   ]
  },
  {
   "cell_type": "code",
   "execution_count": 65,
   "metadata": {},
   "outputs": [],
   "source": [
    "df_test = df.drop(columns=feat_names[less_important])"
   ]
  },
  {
   "cell_type": "markdown",
   "metadata": {},
   "source": [
    "Х с слабыми признаками и без них\n",
    "\n",
    "X with weak features vs X without they"
   ]
  },
  {
   "cell_type": "code",
   "execution_count": 66,
   "metadata": {},
   "outputs": [
    {
     "name": "stdout",
     "output_type": "stream",
     "text": [
      "With weak feats roc_auc:  0.6871183183213927\n",
      "Without weak feats roc_auc:  0.6632545482823031\n"
     ]
    }
   ],
   "source": [
    "print('With weak feats roc_auc: ',np.mean(my_cv_acc(X,y,lgbm,metrics='roc_auc',transform_list=X.columns)))\n",
    "print('Without weak feats roc_auc: ',np.mean(my_cv_acc(df_test,y,lgbm,metrics='roc_auc',transform_list=df_test.columns)))"
   ]
  },
  {
   "cell_type": "code",
   "execution_count": 67,
   "metadata": {},
   "outputs": [
    {
     "name": "stdout",
     "output_type": "stream",
     "text": [
      "With weak feats recall: 0.3749885519182958\n",
      "Without weak feats recall: 0.3267235747630123\n"
     ]
    }
   ],
   "source": [
    "print('With weak feats recall:',np.mean(my_cv_acc(X,y,lgbm,metrics='recall',transform_list=X.columns)))\n",
    "print('Without weak feats recall:',np.mean(my_cv_acc(df_test,y,lgbm,metrics='recall',transform_list=df_test.columns)))"
   ]
  },
  {
   "cell_type": "markdown",
   "metadata": {},
   "source": [
    "Качество немного упало, лучше данные признаки не удалять."
   ]
  },
  {
   "cell_type": "markdown",
   "metadata": {},
   "source": [
    "### Представление оттока в виде вероятностей"
   ]
  },
  {
   "cell_type": "markdown",
   "metadata": {},
   "source": [
    "Часто предпочтительнее опираться на вероятность, чем на обычную классификацию. Таким образом, каждый раз, когда мы предсказываем, что событие произойдет, мы можем узнать, как часто это событие происходит на самом деле и посчитать вероятность."
   ]
  },
  {
   "cell_type": "code",
   "execution_count": 68,
   "metadata": {},
   "outputs": [],
   "source": [
    "def run_prob_cv(X, y, clf):\n",
    "    kf = KFold(n_splits=5, shuffle=True)\n",
    "    y_prob = np.zeros((len(y),2))\n",
    "    for train_index, test_index in kf.split(X,y):\n",
    "        X_train, X_test = X[train_index], X[test_index]\n",
    "        y_train = y[train_index]\n",
    "        clf.fit(X_train,y_train)\n",
    "        y_prob[test_index] = clf.predict_proba(X_test)\n",
    "    return y_prob"
   ]
  },
  {
   "cell_type": "code",
   "execution_count": 69,
   "metadata": {},
   "outputs": [],
   "source": [
    "X = StandardScaler().fit_transform(X)\n",
    "pred_prob = run_prob_cv(X, y, lgbm)\n",
    "pred_churn = pred_prob[:,1]\n",
    "is_churn = y == 1\n",
    "\n",
    "counts = pd.value_counts(pred_churn)\n",
    "\n",
    "true_prob = {}\n",
    "for prob in counts.index:\n",
    "    true_prob[prob] = np.mean(is_churn[pred_churn == prob])\n",
    "    true_prob = pd.Series(true_prob)\n",
    "\n",
    "counts = pd.concat([counts,true_prob], axis=1).reset_index()\n",
    "counts.columns = ['pred_prob', 'count', 'true_prob']"
   ]
  },
  {
   "cell_type": "code",
   "execution_count": 70,
   "metadata": {},
   "outputs": [
    {
     "data": {
      "text/html": [
       "<div>\n",
       "<style scoped>\n",
       "    .dataframe tbody tr th:only-of-type {\n",
       "        vertical-align: middle;\n",
       "    }\n",
       "\n",
       "    .dataframe tbody tr th {\n",
       "        vertical-align: top;\n",
       "    }\n",
       "\n",
       "    .dataframe thead th {\n",
       "        text-align: right;\n",
       "    }\n",
       "</style>\n",
       "<table border=\"1\" class=\"dataframe\">\n",
       "  <thead>\n",
       "    <tr style=\"text-align: right;\">\n",
       "      <th></th>\n",
       "      <th>pred_prob</th>\n",
       "      <th>count</th>\n",
       "      <th>true_prob</th>\n",
       "    </tr>\n",
       "  </thead>\n",
       "  <tbody>\n",
       "    <tr>\n",
       "      <th>0</th>\n",
       "      <td>0.055781</td>\n",
       "      <td>3</td>\n",
       "      <td>0.0</td>\n",
       "    </tr>\n",
       "    <tr>\n",
       "      <th>1</th>\n",
       "      <td>0.059089</td>\n",
       "      <td>2</td>\n",
       "      <td>0.0</td>\n",
       "    </tr>\n",
       "    <tr>\n",
       "      <th>2</th>\n",
       "      <td>0.001208</td>\n",
       "      <td>2</td>\n",
       "      <td>0.0</td>\n",
       "    </tr>\n",
       "    <tr>\n",
       "      <th>3</th>\n",
       "      <td>0.007975</td>\n",
       "      <td>2</td>\n",
       "      <td>0.0</td>\n",
       "    </tr>\n",
       "    <tr>\n",
       "      <th>4</th>\n",
       "      <td>0.030922</td>\n",
       "      <td>2</td>\n",
       "      <td>1.0</td>\n",
       "    </tr>\n",
       "  </tbody>\n",
       "</table>\n",
       "</div>"
      ],
      "text/plain": [
       "   pred_prob  count  true_prob\n",
       "0   0.055781      3        0.0\n",
       "1   0.059089      2        0.0\n",
       "2   0.001208      2        0.0\n",
       "3   0.007975      2        0.0\n",
       "4   0.030922      2        1.0"
      ]
     },
     "execution_count": 70,
     "metadata": {},
     "output_type": "execute_result"
    }
   ],
   "source": [
    "counts.head()"
   ]
  },
  {
   "cell_type": "markdown",
   "metadata": {},
   "source": [
    "LGBMClassifier предсказал, например, что клиент с индексом 0 имеют вероятность ухода, равную 0.000387."
   ]
  },
  {
   "cell_type": "code",
   "execution_count": 71,
   "metadata": {},
   "outputs": [
    {
     "data": {
      "text/plain": [
       "true_prob\n",
       "0.0    0.042956\n",
       "1.0    0.412621\n",
       "Name: pred_prob, dtype: float64"
      ]
     },
     "execution_count": 71,
     "metadata": {},
     "output_type": "execute_result"
    }
   ],
   "source": [
    "counts.groupby('true_prob')['pred_prob'].mean()"
   ]
  },
  {
   "cell_type": "markdown",
   "metadata": {},
   "source": [
    "Средний показатель (порог) вероятности ухода клиента 0.404840 и 0.043456 его неухода."
   ]
  }
 ],
 "metadata": {
  "kernelspec": {
   "display_name": "Python 3",
   "language": "python",
   "name": "python3"
  },
  "language_info": {
   "codemirror_mode": {
    "name": "ipython",
    "version": 3
   },
   "file_extension": ".py",
   "mimetype": "text/x-python",
   "name": "python",
   "nbconvert_exporter": "python",
   "pygments_lexer": "ipython3",
   "version": "3.7.3"
  }
 },
 "nbformat": 4,
 "nbformat_minor": 2
}
